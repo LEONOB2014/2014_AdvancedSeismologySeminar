{
 "metadata": {
  "name": "",
  "signature": "sha256:0365228d868edc2c9397619aef1bf6c57e2b42e93bef835b7f19147be1348aa1"
 },
 "nbformat": 3,
 "nbformat_minor": 0,
 "worksheets": [
  {
   "cells": [
    {
     "cell_type": "heading",
     "level": 1,
     "metadata": {},
     "source": [
      "The (nodal) Discontinous Galerkin Method for the linear advection equation"
     ]
    },
    {
     "cell_type": "code",
     "collapsed": false,
     "input": [
      "# This is a configuration step. Please run it before the simulation code!\n",
      "\n",
      "# Imports etc\n",
      "import numpy as np\n",
      "import matplotlib.pyplot as plt\n",
      "import matplotlib.rcsetup\n",
      "\n",
      "import matplotlib.backends\n",
      "plt.switch_backend(\"TkAgg\")\n",
      "\n",
      "# import of DG modules from same directory as the notebook\n",
      "from gll import *\n",
      "from lagrange import *\n",
      "from lagrange1st import *\n",
      "from legendre import *\n",
      "from flux import *\n",
      "\n",
      "\n",
      "# white instead of grey background\n",
      "matplotlib.rcParams['figure.facecolor'] = 'w' \n",
      "plt.ion() # set interactive mode on"
     ],
     "language": "python",
     "metadata": {},
     "outputs": [],
     "prompt_number": 1
    },
    {
     "cell_type": "heading",
     "level": 3,
     "metadata": {},
     "source": [
      "The discretization of the advection equation"
     ]
    },
    {
     "cell_type": "markdown",
     "metadata": {},
     "source": [
      "We want to solve the linear advection equation as the simplest (scalar) hyperbolic equation:"
     ]
    },
    {
     "cell_type": "markdown",
     "metadata": {},
     "source": [
      "$$ \\partial_t u + \\mu \\ \\partial_x u=0$$"
     ]
    },
    {
     "cell_type": "markdown",
     "metadata": {},
     "source": [
      "In the nodal approach we use Lagrange polynomials as basis functions $l_i$ to approximate the solution $u$ in an element $k$ at time $t$:\n",
      "    $$ u_h^k(x,t)= \\sum_{n=1}^{N_p} u_h^k(x_i,t) \\cdot l_i(x) $$"
     ]
    },
    {
     "cell_type": "markdown",
     "metadata": {},
     "source": [
      "with the Lagrange polynomials\n",
      "$$l_i(x)=\\prod_{\\substack{0 \\leq m \\leq k \\\\m \\neq i }}\n",
      " \\frac{x-x_m}{x_i-x_m}=\\frac{x-x_0}{x_i-x_0}\\cdot .\\ .\\ . \\cdot \\frac{x-x_{k}}{x_i-x_{k}}$$"
     ]
    },
    {
     "cell_type": "markdown",
     "metadata": {},
     "source": [
      "where $x_i$ are the Gauss-Labatto-Legendre points. "
     ]
    },
    {
     "cell_type": "markdown",
     "metadata": {},
     "source": [
      "The i-th Lagrange polynomial of Order $N$ at location x can caluclated by applying:"
     ]
    },
    {
     "cell_type": "code",
     "collapsed": false,
     "input": [
      "#function to calculate the i-th Lagrange polynomials of order N at location x\n",
      "\n",
      "def lagrange(N,i,x):\n",
      "  \n",
      "    from gll import gll\n",
      "\n",
      "\n",
      "    [xi, weights] =  gll(N) #xi= Gauss-Labatto-Legendre points between -1 and 1, weights=corresponding weights\n",
      "    fac=1\n",
      "    for j in range (-1,N): \n",
      "        if j != i:\n",
      "            fac=fac*((x-xi[j+1])/(xi[i+1]-xi[j+1]))\n",
      "\n",
      "    x=fac\n",
      "\n",
      "\n",
      "    return x"
     ],
     "language": "python",
     "metadata": {},
     "outputs": [],
     "prompt_number": 2
    },
    {
     "cell_type": "markdown",
     "metadata": {},
     "source": [
      "We review the (local) semi-discrete scheme for the k-th element that we derived in the lecture:\n",
      "$$  M^k \\cdot \\partial_{t} u_h^k(t) -  \\mu \\ (S^k)^T \\cdot u_h^k(t)= -[(\\mu \\ u)^*(t) \\ l_j^k(x)]_{x^{k}_l}^{x^{k}_r}$$"
     ]
    },
    {
     "cell_type": "markdown",
     "metadata": {},
     "source": [
      "with the local mass matrix  $M^k$ and the local stiffness matrix $S^k$ with the entries:\n",
      "$$ M^k_{i,j}= \\int_{\\tau_k} l_i(x) \\ l_j(x) \\ dx $$\n",
      "and\n",
      "$$ S^k_{i,j}= \\int_{\\tau_k} \\partial_x l_i(x) \\ l_j(x) \\ dx $$\n",
      "We'll see later how they are calculated."
     ]
    },
    {
     "cell_type": "heading",
     "level": 3,
     "metadata": {},
     "source": [
      "The numerical flux"
     ]
    },
    {
     "cell_type": "markdown",
     "metadata": {},
     "source": [
      "Additionally we have a flux term $(\\mu \\ u)^*$ on the right hand side that gives the numerical flux at the boundary of an element.\n",
      "For the 1D advection equation using an upwind flux we have the general formula for the numerical flux\n",
      "$$ (\\mu \\ u )^*= \\frac{\\mu}{2}(u^++u^-) +\\frac{|\\mu|}{2}(\\hat n^+u^++\\hat n^-u^-)$$\n",
      "with $u^-$ as the interior information, \n",
      "$u^+$ the exterior information and \n",
      "$\\hat n$ the corresponding outer pointing normal vectors."
     ]
    },
    {
     "cell_type": "markdown",
     "metadata": {},
     "source": [
      "This leads to the update on the right boundary of an element\n",
      "$$ \\frac{\\mu}{2}\\big(u_h^k(x_r^k)+u_h^{k+1}(x_l^{k+1})\\big )+ \\frac{|\\mu|}{2}\\big(u_h^k(x_r^k)-u_h^{k+1}(x_l^{k+1})\\big )$$\n",
      "and on the left boundary of an element\n",
      "$$\\frac{\\mu}{2}\\big(u_h^k(x_l^k)+u_h^{k-1}(x_r^{k-1}) \\big)+ \\frac{|\\mu|}{2}(-u_h^{k}(x_l^{k}+u_h^{k-1}(x_r^{k-1}))\\big)$$"
     ]
    },
    {
     "cell_type": "markdown",
     "metadata": {},
     "source": [
      "For a positive travel speed $\\mu$ (-> $\\mu=|\\mu|$) the value on the left boundary is the value of the previous element $k-1$ from where the wave is coming from. On the right boundary it's just the value of the actual element $k$ (and vice versa for $\\mu$ being negative).\n",
      "Notice that we only consider the first (left boundary) and the last (right boundary) DOF of an element since the Lagrange polynomials are zero for every other points.\n",
      "This is calculated by the function \"flux\":"
     ]
    },
    {
     "cell_type": "code",
     "collapsed": false,
     "input": [
      "#calculates the flux between two boundary sides of connected elements for\n",
      "#element i\n",
      "#Flux matrix du\n",
      "def flux(alpha,u,N,ne,mu):\n",
      "#impose boundary conditions at x=0 and x=end\n",
      "    ubd1=0 \n",
      "    ubd2=0 \n",
      "        \n",
      "    du=np.zeros((N+1,ne)) # for every element we have 2 faces to other elements (left and right)\n",
      "    for i in range(0, ne):\n",
      "    \n",
      "\n",
      "        if i==0: #left boundary of the domain\n",
      "            du[0,i]= mu/2*(u[0,i]+ubd1) + (1-alpha)*abs(mu)/2*(ubd1-u[0,i]) #left flux\n",
      "            du[N,i]= -mu/2*(u[N,i]+u[0,i+1]) - (1-alpha)*abs(mu)/2*(u[N,i]-u[0,i+1])#right flux\n",
      "\n",
      "        elif i==ne-1:  #right boundary of the domain\n",
      "            du[0,i]= mu*(u[0,i]+u[N,i-1])/2 + (1-alpha)*abs(mu)/2*(-u[0,i]+u[N,i-1])\n",
      "            du[N,i]= -mu*(u[N,i]+ubd2)/2 - (1-alpha)*abs(mu)/2*(u[N,i]-ubd2)\n",
      "            \n",
      "        else: #in the middle of the domain\n",
      "            du[0,i]= mu*(u[0,i]+u[N,i-1])/2 + (1-alpha)*abs(mu)/2*(-u[0,i]+u[N,i-1])\n",
      "            du[N,i]= -mu*(u[N,i]+u[0,i+1])/2 - (1-alpha)*abs(mu)/2*(u[N,i]-u[0,i+1])\n",
      "        \n",
      "\n",
      "\n",
      "    return du\n",
      "\n"
     ],
     "language": "python",
     "metadata": {},
     "outputs": [],
     "prompt_number": 3
    },
    {
     "cell_type": "heading",
     "level": 3,
     "metadata": {},
     "source": [
      "The Code"
     ]
    },
    {
     "cell_type": "code",
     "collapsed": false,
     "input": [
      "# ---------------------------------------------------------------\n",
      "#\n",
      "# Discontinous galerkin method for the\n",
      "# 1D advection equation using an upwind flux\n",
      "#\n",
      "\n",
      "# ---------------------------------------------------------------\n",
      "# Initialization of setup\n",
      "# ---------------------------------------------------------------\n",
      "nt = 100             # number of time steps   \n",
      "xmax = 30.           # Length of domain\n",
      "rho = 0.5            # Density for homogeneous model\n",
      "mu = 20              # Speed of the wave, positive=propagating to the right, negative=propagating to the left \n",
      "N = 2                # Order of Lagrange polynomials\n",
      "ne = 100             # Number of elements\n",
      "iplot = 1            # Plotting each iplot snapshot\n",
      "\n",
      "# variables for elemental matrices\n",
      "Me = np.zeros(N + 1, dtype=float)\n",
      "Se = np.zeros([N + 1, N + 1], dtype=float)\n",
      "\n",
      "\n",
      "# ----------------------------------------------------------------\n",
      "\n",
      "# Initialization of GLL points integration weights\n",
      "[xi, w] = gll(N)  # xi -> N+1 coordinates [-1 1] of GLL points\n",
      "                  # w Integration weights at GLL locations\n",
      "    \n",
      "# Space domain\n",
      "le = xmax / ne  # Length of elements\n",
      "\n",
      "\n",
      "# Vector with GLL points, same values for boundary points\n",
      "k = -1\n",
      "xg = np.zeros((N +1)* ne)\n",
      "#xg[k] = 0\n",
      "for i in range(1, ne + 1):\n",
      "    for j in range(0, N+1):\n",
      "        k += 1\n",
      "        xg[k] = (i - 1) * le + .5 * (xi[j] + 1) * le\n",
      "\n",
      "x=np.reshape(xg,(ne,(N+1))) #Matrix containing all GLL points in every element\n",
      "x=x.T\n",
      "\n",
      "\n",
      "# ---------------------------------------------------------------\n",
      "# Calculation if time step according to Courant criterion\n",
      "dxmin = min(np.diff(xg[0:N]))\n",
      "eps = 0.1\n",
      "# Courant value orig 0.1\n",
      "dt = eps * dxmin / (np.abs(mu))  # Global time step\n",
      "\n",
      "#Low storage Runge-Kutta coefficients\n",
      "rk4a = [0.0,\n",
      "-567301805773.0/1357537059087.0,\n",
      "-2404267990393.0/2016746695238.0,\n",
      "-3550918686646.0/2091501179385.0,\n",
      "-1275806237668.0/842570457699.0]\n",
      "\n",
      "rk4b = [ 1432997174477.0/9575080441755.0,\n",
      "5161836677717.0/13612068292357.0,\n",
      "1720146321549.0/2090206949498.0,\n",
      "3134564353537.0/4481467310338.0,\n",
      "2277821191437.0/14882151754819.0]\n",
      "\n",
      "# Mapping - Jacobian\n",
      "J = le / 2\n",
      "Ji = 1 / J  # Inverse Jacobian\n",
      "\n",
      "# Initialization of 1st derivative of Lagrange polynomials\n",
      "l1d = lagrange1st(N)  # Array with GLL as columns for each N+1 polynomial\n",
      "\n",
      "print rk4a\n",
      "print rk4b"
     ],
     "language": "python",
     "metadata": {},
     "outputs": [
      {
       "output_type": "stream",
       "stream": "stdout",
       "text": [
        "[0.0, -0.41789047449985195, -1.192151694642677, -1.6977846924715279, -1.5141834442571558]\n",
        "[0.14965902199922912, 0.37921031299962726, 0.8229550293869817, 0.6994504559491221, 0.15305724796815198]\n"
       ]
      }
     ],
     "prompt_number": 4
    },
    {
     "cell_type": "heading",
     "level": 3,
     "metadata": {},
     "source": [
      "The system matrices"
     ]
    },
    {
     "cell_type": "markdown",
     "metadata": {},
     "source": [
      "The mass and the stiffness matrix can be precalculated and stored when we transform every element to a reference element, in the 1D case this is simply the transformation to the interval $I=[-1,1]$ with $dx= J \\ d\\xi$ and $J=2$."
     ]
    },
    {
     "cell_type": "markdown",
     "metadata": {},
     "source": [
      "The Lagrange polynomials have some nice properties that we will use to calculate the mass and stiffness matrix.\n",
      "At the GLL-points $x_i$ it holds:\n",
      "$$ l_i(x_j) = \\delta_{ij}= \\begin{cases} 1 \\ \\text{ if $i=j$} \\\\ 0 \\ \\text{ if $i \\neq j $} \\end{cases} $$"
     ]
    },
    {
     "cell_type": "markdown",
     "metadata": {},
     "source": [
      "For the numerical integration we use the numerical quadrature, that uses the GLL and their corresponding weights to approximate an integral."
     ]
    },
    {
     "cell_type": "markdown",
     "metadata": {},
     "source": [
      "$$ M_{ij}^k=\\int_{-1}^1 l_i^k(\\xi)  l_j^k(\\xi) \\ J \\ d\\xi = \\sum_{m=1}^{N_p} w_m \\ l_i^k (x_m)  l_j^k(x_m)\\ J =\\sum_{m=1}^{N_p} w_m \\delta_{im}\\ \\delta_{jm} \\ J= \\begin{cases} w_i \\ J \\ \\ \\text{ if } i=j \\\\ 0 \\ \\ \\ \\ \\ \\ \\ \\text{   if } i \\neq j\\end{cases}$$\n",
      "-> diagonal mass matrix"
     ]
    },
    {
     "cell_type": "markdown",
     "metadata": {},
     "source": [
      "$$ S_{i,j}= \\int_{-1}^1 l_i^k(\\xi) \\cdot \\partial _x  l_j^k(\\xi) \\ d\\xi= \\sum_{m=1}^{N_p} w_m \\ l_i^k(x_m)\\cdot \\partial_x l_j^k(x_m)= \\sum_{m=1}^{N_p} w_m \\delta_{im}\\cdot \\partial_xl_j^k(x_m)= w_i \\cdot \\partial_x l_j^k(x_i) $$"
     ]
    },
    {
     "cell_type": "markdown",
     "metadata": {},
     "source": [
      "We already calculated the Lagrange polynomials. They will be used to calculate the first derivatives of the Lagrange polynomials in the function \"Lagrange1st\". Now we have all the ingerdients to calculate the mass and stiffness matrix:"
     ]
    },
    {
     "cell_type": "code",
     "collapsed": false,
     "input": [
      "# -----------------------------------------------------------------\n",
      "# Initialization of system matrices\n",
      "# -----------------------------------------------------------------\n",
      "# Mass matrix\n",
      "# Elemental\n",
      "for i in range(-1, N):\n",
      "    Me[i + 1] = rho * w[i + 1] * J #only a vector since it's diagonal\n",
      "\n",
      "\n",
      "\n",
      "# Build inverse matrix\n",
      "Minv = np.identity(N+1)\n",
      "for i in range(0, N+1):\n",
      "    Minv[i,i] = 1. / Me[i]\n",
      "\n",
      "\n",
      "# ---------------------------------------------------------------\n",
      "# Stiffness Matrix\n",
      "# Elemental\n",
      "\n",
      "for i in range(-1, N):\n",
      "    for j in range(-1, N):\n",
      "            Se[i+1,j+1]= mu * w[i + 1] * l1d[j + 1, i + 1]\n",
      "\n",
      "\n",
      "# ---------------------------------------------------------------\n",
      "# Flux Matrix\n",
      "# nodal= Vector\n",
      "# modal= Matrix\n",
      "\n",
      "\n"
     ],
     "language": "python",
     "metadata": {},
     "outputs": [],
     "prompt_number": 5
    },
    {
     "cell_type": "heading",
     "level": 3,
     "metadata": {},
     "source": [
      "The time integration"
     ]
    },
    {
     "cell_type": "markdown",
     "metadata": {},
     "source": [
      "For the time extrapolation you can choose between the euler scheme in time with the update\n",
      "\n",
      "$$ u(t+1)=dt \\cdot \\text{RHS} + u(t)$$\n",
      "\n",
      "and low-storage forth-order Runge-Kutta methode with\n",
      "\n",
      "$$ p^0=u(t) \\\\\n",
      "k^0=0$$"
     ]
    },
    {
     "cell_type": "markdown",
     "metadata": {},
     "source": [
      "and for i=1, ...5\n",
      "\n",
      "\n",
      "$$k^i=a_i\\cdot k^{i-1}+dt \\cdot \\text{RHS($p^{i-1}$}) \\\\ \\\\\n",
      "p^i=p^{i-1} + b_i \\cdot k^i$$\n",
      "\n",
      "and the update\n",
      "\n",
      "$$u(t+1)=p^5$$"
     ]
    },
    {
     "cell_type": "markdown",
     "metadata": {},
     "source": [
      "RHS is the right-hand side of the disretized scheme."
     ]
    },
    {
     "cell_type": "code",
     "collapsed": false,
     "input": [
      "##------------------------------------------------------\n",
      "# Initialize solution vectors\n",
      "u=np.zeros(((N+1),ne))\n",
      "uold = u\n",
      "unew = u\n",
      "uold =0.5*np.exp(-0.4*((x-15))**2) #initial condition\n",
      "resu=np.zeros(((N+1),ne))\n",
      "\n",
      "############### Time extrapolation ####################################\n",
      "#\n",
      "# Choose between the euler scheme and the low-storage 4-th order Runge-Kutta scheme\n",
      "#\n",
      "method=1 #Euler=0, RK=1\n",
      "\n",
      "u=uold\n",
      "uplot=np.reshape(u,((N+1)*ne),1)\n",
      "\n",
      "fig = plt.figure()\n",
      "line,=plt.plot(xg,uplot)\n",
      "plt.ylim(0,0.7)\n",
      "plt.xlabel(' x (m)')\n",
      "plt.ylabel(' Amplitude ')\n",
      "\n",
      "fig.show();\n",
      "alpha=0 #upwind flux\n",
      "\n",
      "for it in xrange(1, nt+1):\n",
      "    \n",
      "    if method==0: #Euler scheme\n",
      "        Flux=flux(alpha,u,N,ne,mu) #calculate the flux at the boundaries of an element\n",
      "\n",
      "        # Extrapolation for every element\n",
      "        for k in range(0,ne):\n",
      "               unew[:,k] = dt* (np.dot(Minv, Flux[:,k]+ np.dot(Se.T, u[:,k]))) + u[:,k]\n",
      "    \n",
      "        u = unew\n",
      "\n",
      "    \n",
      "    else: #RK scheme\n",
      "        for INTRK in range(0,5):\n",
      "            Flux = flux(alpha,u,N,ne,mu) #calculate the flux at the boundaries of an element\n",
      "            rhsu = np.dot(Minv, Flux + np.dot(Se.T, u))\n",
      "            resu = rk4a[INTRK]*resu + dt*rhsu\n",
      "            u = u + rk4b[INTRK]*resu\n",
      "                \n",
      "        \n",
      "    \n",
      "    uplot=np.reshape(u,((N+1)*ne),1)\n",
      "    line.set_ydata(uplot)\n",
      "    plt.title('Time step : %g ' %it)\n",
      "    fig.canvas.draw()\n",
      "\n"
     ],
     "language": "python",
     "metadata": {},
     "outputs": [],
     "prompt_number": 6
    },
    {
     "cell_type": "code",
     "collapsed": false,
     "input": [],
     "language": "python",
     "metadata": {},
     "outputs": [],
     "prompt_number": 6
    }
   ],
   "metadata": {}
  }
 ]
}