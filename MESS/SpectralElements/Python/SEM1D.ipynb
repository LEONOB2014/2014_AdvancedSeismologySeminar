{
 "metadata": {
  "name": "",
  "signature": "sha256:a3b8a912c410ac1a497c48a77766032a173eab718ce99daba28cf8fc9436668d"
 },
 "nbformat": 3,
 "nbformat_minor": 0,
 "worksheets": [
  {
   "cells": [
    {
     "cell_type": "markdown",
     "metadata": {},
     "source": [
      "<p style=\"width:35%;float:right;padding-left:50px\">\n",
      "<img src=http://www.geophysik.uni-muenchen.de/~igel/snap.png?raw=true>\n",
      "<span style=\"font-size:smaller\">\n",
      "from <span style=\"font-style: italic\">Nissen-Meyer et al. (2014). AxiSEM: broadband 3-D seismic wavefields in axisymmetric media. Solid Earth, 5(1), 425\u2013445.</span>\n",
      "</span>\n",
      "</p>\n",
      "\n",
      "# Computational Seismology \n",
      "\n",
      "\n",
      "## *Spectral Element Method Elastic Wave Equation in 1D*\n",
      "\n",
      "\n",
      "**Authors:** *Heiner Igel, Lion Krischer, Florian W\u00f6lfl*\n",
      "\n",
      "This exercise animates the Elastic Wave Equation in 1D with the Spectral Element Method (SEM).\n",
      "\n",
      "<div style=\"clear:both\"></div>"
     ]
    },
    {
     "cell_type": "code",
     "collapsed": false,
     "input": [
      "# This is a configuration step for the exercise. Please run it before the simulation code!\n",
      "# Imports of python modules \n",
      "import numpy as np\n",
      "import matplotlib.pyplot as plt\n",
      "import matplotlib.animation as animation\n",
      "\n",
      "from operator import sub\n",
      "\n",
      "from gll import *\n",
      "from lagrange1st import *\n",
      "from legendre import *\n",
      "from ricker import *\n",
      "import time\n",
      "\n",
      "# Show the plots in the Notebook.\n",
      "plt.switch_backend(\"nbagg\")"
     ],
     "language": "python",
     "metadata": {},
     "outputs": [],
     "prompt_number": 11
    },
    {
     "cell_type": "markdown",
     "metadata": {},
     "source": [
      "<p style=\"width:35%;float:right;padding-left:50px\">\n",
      "<img src=fig_gll.png>\n",
      "<span style=\"font-size:smaller\">\n",
      "</span>\n",
      "</p>\n",
      "\n",
      "The Gau\u00df-Lobatto-Legendre are needed for interpolation and numerical integration.\n",
      "\n",
      "The GLL points are the roots of the first derivative of the Legendre polynomials $P_N$ of degree $N$\n",
      "\n",
      "The figure to the right is an illustration of the spatial distribution of Gauss-Lobatto-Legendre points in the interval [-1,1] from top to bottom for polynomial order 2 to 12. The distribution of points is symmetric around the origin.\n",
      "Note the decreasing distance between collocation points towards the element boundaries."
     ]
    },
    {
     "cell_type": "markdown",
     "metadata": {},
     "source": [
      "We approximate (i.e., \u201dinterpolate\u201d) our unknown displacement field u(x, t) by a sum over space-dependent basis functions $\\psi_i$ weighted by time-dependent coefficients $u_i(t)$\n",
      "\n",
      "$$ u(x,t) \\ \\approx \\ \\overline{u}(x,t) \\ = \\ \\sum_{i=1}^{n} u_i(t) \\ \\psi_i(x) $$\n",
      "\n",
      "As interpolating functions we choose the Lagrange polynomials and use $\\xi$ as the space variable representing our elemental domain:\n",
      "\n",
      "$$ \\psi_i \\ \\rightarrow \\ \\ell_i^{(N)} (\\xi) \\ := \\ \\prod_{k = 1, \\ k \\neq i}^{N+1} \\frac{\\xi - \\xi_k}{\\xi_i-\\xi_k}, \\qquad   i = 1, 2, \\dotsc , N + 1  $$\n",
      "They are implemented in Python with the following code:"
     ]
    },
    {
     "cell_type": "code",
     "collapsed": false,
     "input": [
      "def lagrange(N,i,x):\n",
      "\n",
      "# Program to calculate  Lagrange polynomial for order N\n",
      "# and polynomial i [0, N] at location x\n",
      "\n",
      "    from gll import gll\n",
      "\n",
      "    [xi, weights] =  gll(N)\n",
      "    fac = 1\n",
      "    for j in range (-1,N): \n",
      "        if j != i:\n",
      "            fac=fac*((x-xi[j+1])/(xi[i+1]-xi[j+1]))\n",
      "    x = fac\n",
      "\n",
      "    return x"
     ],
     "language": "python",
     "metadata": {},
     "outputs": [],
     "prompt_number": 12
    },
    {
     "cell_type": "markdown",
     "metadata": {},
     "source": [
      "<p style=\"width:50%;float:right;padding-left:50px\">\n",
      "<img src=fig_sem_symbolic.png>\n",
      "<span style=\"font-size:smaller\">\n",
      "</span>\n",
      "</p>\n",
      "\n",
      "Now we have to initialize the mass and stiffness matrix at the element level\n",
      "The elemental mass matrix is defined as\n",
      "\n",
      "$$ M_{ji}^e \\ = \\ w_j \\rho (\\xi) \\frac{\\mathrm{d}x}{\\mathrm{d}\\xi} \\delta_{ij} \\vert_ {\\xi = \\xi_j}   $$\n",
      "\n",
      "and the elemental stiffness matrix as\n",
      "\n",
      "$$ K_{ji}^e \\ = \\ \\sum_{k = 1}^{N+1} w_k \\mu (\\xi) \\partial_\\xi \\ell_j (\\xi) \\partial_\\xi \\ell_i (\\xi) \\left(\\frac{\\mathrm{d}\\xi}{\\mathrm{d}x} \\right)^2 \\frac{\\mathrm{d}x}{\\mathrm{d}\\xi} \\vert_{\\xi = \\xi_k} $$\n",
      "                                                                                                                                                                                           \n",
      "\n",
      "Later we combine them to global matrices."
     ]
    },
    {
     "cell_type": "code",
     "collapsed": false,
     "input": [
      "# Initialization of setup\n",
      "# ---------------------------------------------------------------\n",
      "nt = 10000          # number of time steps\n",
      "xmax = 10000.       # Length of domain\n",
      "vs = 2500.          # [m/s] S velocity for homogeneneous medium\n",
      "rho = 2000          # [kg/m3] Density for homogeneous model\n",
      "mu = rho * vs**2    # Initialization of shear modulus mu\n",
      "N = 3               # Order of Lagrange polynomials THIS WAS ORIGINALLY 5\n",
      "ne = 250            # Number of elements\n",
      "Tdom = .2           # Dominant period of Ricker source wavelet\n",
      "iplot = 20          # Plotting each iplot snapshot\n",
      "\n",
      "# variables for elemental matrices\n",
      "Me = np.zeros(N+1, dtype =  float)\n",
      "Ke = np.zeros([N+1, N+1], dtype =  float)\n",
      "\n",
      "# ----------------------------------------------------------------\n",
      "\n",
      "# Initialization of GLL points integration weights\n",
      "[xi, w] = gll(N)    # xi -> N+1 coordinates [-1 1] of GLL points\n",
      "                    # w Integration weights at GLL locations\n",
      "# Space domain\n",
      "le = xmax/ne       # Length of elements\n",
      "\n",
      "\n",
      "# Vector with GLL points  \n",
      "k=0\n",
      "xg = np.zeros((N*ne)+1) \n",
      "xg[k] = 0\n",
      "for i in range(1,ne+1):\n",
      "    for j in range(0,N):\n",
      "        k = k+1\n",
      "        xg[k] = (i-1)*le+.5*(xi[j+1]+1)*le\n",
      "\n",
      "# ---------------------------------------------------------------\n",
      "# Calculation if time step is acoording to Courant criterion\n",
      "dxmin = min(np.diff(xg))  \n",
      "eps = 0.1           # Courant value\n",
      "dt = eps*dxmin/vs   # Global time step\n",
      "\n",
      "# Mapping - Jacobian\n",
      "J = le/2 \n",
      "Ji = 1/J             # Inverse Jacobian\n",
      "\n",
      "# Initialization of 1st derivative of Lagrange polynomials\n",
      "l1d = lagrange1st(N)   # Array with GLL as columns for each N+1 polynomial\n",
      "\n",
      "# -----------------------------------------------------------------\n",
      "# Initialization of system matrices\n",
      "# -----------------------------------------------------------------\n",
      "# Elemental Mass matrix\n",
      "for i in range(-1,N):\n",
      "    Me[i+1]=rho*w[i+1]*J\n",
      "    \n",
      "print 'This is the Elemental Mass matrix (diagonal elements):'\n",
      "print(Me)\n",
      "print('\\n')\n",
      "\n",
      "# Global Mass matrix\n",
      "k=-1\n",
      "ng=(ne-1)*N+N+1\n",
      "M=np.zeros(2*ng) # probably does not need to be so large\n",
      "\n",
      "for i in range(1, ne+1):  \n",
      "    for j in range(0, N+1): \n",
      "        k=k+1\n",
      "        if i>1:\n",
      "            if j==0:\n",
      "                k=k-1\n",
      "\n",
      "        M[k]=M[k]+Me[j]\n",
      "\n",
      "# Build inverse matrix (this is overkill, but just to get the complete\n",
      "# matrix system for tutorial purposes)\n",
      "Minv = np.identity(ng)\n",
      "for i in range(0,ng):\n",
      "    Minv[i,i]=1./M[i]\n",
      "    \n",
      "# ---------------------------------------------------------------\n",
      "# Elemental Stiffness Matrix\n",
      "\n",
      "for i in range(-1,N):\n",
      "    for j in range(-1,N):\n",
      "            sum=0\n",
      "            for k in range(-1,N):\n",
      "                sum = sum + mu*w[k+1]*Ji**2 *J*l1d[i+1,k+1]*l1d[j+1,k+1]\n",
      "\n",
      "            Ke[i+1,j+1]=sum\n",
      "\n",
      "print('This is the elemental stiffness matrix:')\n",
      "print(Ke)\n",
      "            \n",
      "# Global Stiffness Matrix\n",
      "K = np.zeros([ng, ng])\n",
      "\n",
      "# Values except at element boundaries \n",
      "for k in range(1,ne+1):\n",
      "    i0=(k-1)*N+1\n",
      "    j0=i0\n",
      "    for i in range(-1,N):\n",
      "        for j in range(-1,N):\n",
      "            K[i0+i,j0+j]=Ke[i+1,j+1]\n",
      "\n",
      "    # print(i0)\n",
      "\n",
      "\n",
      "# Values at element boundaries \n",
      "for k in range(2,ne+1):\n",
      "    i0=(k-1)*N\n",
      "    j0=i0\n",
      "    K[i0,j0]=Ke[0,0]+Ke[N,N]\n",
      "\n",
      "    \n",
      "# initialize source time function and force vector f\n",
      "src = ricker(dt,Tdom)\n",
      "\n",
      "# Plot of the source time function\n",
      "plt.figure()\n",
      "plt.plot(np.arange(1,len(src)+1) * dt, src)\n",
      "plt.xlabel(' Time (s)')\n",
      "plt.ylabel('Amplitude')\n",
      "plt.title(' Source time function ')\n",
      "plt.show() \n",
      "isrc= np.floor(ng/2)   # Source location"
     ],
     "language": "python",
     "metadata": {},
     "outputs": [
      {
       "output_type": "stream",
       "stream": "stdout",
       "text": [
        "This is the Elemental Mass matrix (diagonal elements):\n",
        "[  6666.666668  33333.33332   33333.33332    6666.666664]\n",
        "\n",
        "\n",
        "This is the elemental stiffness matrix:\n",
        "[[  1.35416667e+09  -1.52450572e+09   2.22422387e+08  -5.20833334e+07]\n",
        " [ -1.52450572e+09   2.60416667e+09  -1.30208333e+09   2.22422387e+08]\n",
        " [  2.22422387e+08  -1.30208333e+09   2.60416667e+09  -1.52450572e+09]\n",
        " [ -5.20833334e+07   2.22422387e+08  -1.52450572e+09   1.35416667e+09]]\n"
       ]
      },
      {
       "javascript": [
        "/* Put everything inside the global mpl namespace */\n",
        "window.mpl = {};\n",
        "\n",
        "mpl.get_websocket_type = function() {\n",
        "    if (typeof(WebSocket) !== 'undefined') {\n",
        "        return WebSocket;\n",
        "    } else if (typeof(MozWebSocket) !== 'undefined') {\n",
        "        return MozWebSocket;\n",
        "    } else {\n",
        "        alert('Your browser does not have WebSocket support.' +\n",
        "              'Please try Chrome, Safari or Firefox \u2265 6. ' +\n",
        "              'Firefox 4 and 5 are also supported but you ' +\n",
        "              'have to enable WebSockets in about:config.');\n",
        "    };\n",
        "}\n",
        "\n",
        "mpl.figure = function(figure_id, websocket, ondownload, parent_element) {\n",
        "    this.id = figure_id;\n",
        "\n",
        "    this.ws = websocket;\n",
        "\n",
        "    this.supports_binary = (this.ws.binaryType != undefined);\n",
        "\n",
        "    if (!this.supports_binary) {\n",
        "        var warnings = document.getElementById(\"mpl-warnings\");\n",
        "        if (warnings) {\n",
        "            warnings.style.display = 'block';\n",
        "            warnings.textContent = (\n",
        "                \"This browser does not support binary websocket messages. \" +\n",
        "                    \"Performance may be slow.\");\n",
        "        }\n",
        "    }\n",
        "\n",
        "    this.imageObj = new Image();\n",
        "\n",
        "    this.context = undefined;\n",
        "    this.message = undefined;\n",
        "    this.canvas = undefined;\n",
        "    this.rubberband_canvas = undefined;\n",
        "    this.rubberband_context = undefined;\n",
        "    this.format_dropdown = undefined;\n",
        "\n",
        "    this.focus_on_mousover = false;\n",
        "    this.image_mode = 'full';\n",
        "\n",
        "    this.root = $('<div/>');\n",
        "    this.root.attr('style', 'display: inline-block');\n",
        "    $(parent_element).append(this.root);\n",
        "\n",
        "    this._init_header(this);\n",
        "    this._init_canvas(this);\n",
        "    this._init_toolbar(this);\n",
        "\n",
        "    var fig = this;\n",
        "\n",
        "    this.waiting = false;\n",
        "\n",
        "    this.ws.onopen =  function () {\n",
        "            fig.send_message(\"supports_binary\", {value: fig.supports_binary});\n",
        "            fig.send_message(\"send_image_mode\", {});\n",
        "            fig.send_message(\"refresh\", {});\n",
        "        }\n",
        "\n",
        "    this.imageObj.onload = function() {\n",
        "            if (fig.image_mode == 'full') {\n",
        "                // Full images could contain transparency (where diff images\n",
        "                // almost always do), so we need to clear the canvas so that\n",
        "                // there is no ghosting.\n",
        "                fig.context.clearRect(0, 0, fig.canvas.width, fig.canvas.height);\n",
        "            }\n",
        "            fig.context.drawImage(fig.imageObj, 0, 0);\n",
        "            fig.waiting = false;\n",
        "        };\n",
        "\n",
        "    this.imageObj.onunload = function() {\n",
        "        this.ws.close();\n",
        "    }\n",
        "\n",
        "    this.ws.onmessage = this._make_on_message_function(this);\n",
        "\n",
        "    this.ondownload = ondownload;\n",
        "}\n",
        "\n",
        "mpl.figure.prototype._init_header = function() {\n",
        "    var titlebar = $(\n",
        "        '<div class=\"ui-dialog-titlebar ui-widget-header ui-corner-all ' +\n",
        "        'ui-helper-clearfix\"/>');\n",
        "    var titletext = $(\n",
        "        '<div class=\"ui-dialog-title\" style=\"width: 100%; ' +\n",
        "        'text-align: center; padding: 3px;\"/>');\n",
        "    titlebar.append(titletext)\n",
        "    this.root.append(titlebar);\n",
        "    this.header = titletext[0];\n",
        "}\n",
        "\n",
        "mpl.figure.prototype._init_canvas = function() {\n",
        "    var fig = this;\n",
        "\n",
        "    var canvas_div = $('<div/>');\n",
        "    canvas_div.resizable({ resize: mpl.debounce_resize(\n",
        "        function(event, ui) { fig.request_resize(ui.size.width, ui.size.height); }\n",
        "        , 50)});\n",
        "\n",
        "    canvas_div.attr('style', 'position: relative; clear: both;');\n",
        "    this.root.append(canvas_div);\n",
        "\n",
        "    var canvas = $('<canvas/>');\n",
        "    canvas.addClass('mpl-canvas');\n",
        "    canvas.attr('style', \"left: 0; top: 0; z-index: 0;\")\n",
        "\n",
        "    function canvas_keyboard_event(event) {\n",
        "        return fig.key_event(event, event['data']);\n",
        "    }\n",
        "\n",
        "    this.canvas = canvas[0];\n",
        "    this.context = canvas[0].getContext(\"2d\");\n",
        "\n",
        "    var rubberband = $('<canvas/>');\n",
        "    rubberband.attr('style', \"position: absolute; left: 0; top: 0; z-index: 1;\")\n",
        "    function mouse_event_fn(event) {\n",
        "        return fig.mouse_event(event, event['data']);\n",
        "    }\n",
        "    rubberband.mousedown('button_press', mouse_event_fn);\n",
        "    rubberband.mouseup('button_release', mouse_event_fn);\n",
        "    // Throttle sequential mouse events to 1 every 20ms.\n",
        "    rubberband.mousemove('motion_notify', mouse_event_fn);\n",
        "\n",
        "    canvas_div.append(canvas);\n",
        "    canvas_div.append(rubberband);\n",
        "\n",
        "    canvas_div.keydown('key_press', canvas_keyboard_event);\n",
        "    canvas_div.keydown('key_release', canvas_keyboard_event);\n",
        "\n",
        "    this.rubberband = rubberband;\n",
        "    this.rubberband_canvas = rubberband[0];\n",
        "    this.rubberband_context = rubberband[0].getContext(\"2d\");\n",
        "    this.rubberband_context.strokeStyle = \"#000000\";\n",
        "\n",
        "    this._resize_canvas = function(width, height) {\n",
        "        // Keep the size of the canvas, canvas container, and rubber band\n",
        "        // canvas in synch.\n",
        "        canvas_div.css('width', width)\n",
        "        canvas_div.css('height', height)\n",
        "\n",
        "        canvas.attr('width', width);\n",
        "        canvas.attr('height', height);\n",
        "\n",
        "        rubberband.attr('width', width);\n",
        "        rubberband.attr('height', height);\n",
        "    }\n",
        "\n",
        "    // Set the figure to an initial 600x600px, this will subsequently be updated\n",
        "    // upon first draw.\n",
        "    this._resize_canvas(600, 600);\n",
        "}\n",
        "\n",
        "mpl.figure.prototype._init_toolbar = function() {\n",
        "    var fig = this;\n",
        "\n",
        "    var nav_element = $('<div/>')\n",
        "    nav_element.attr('style', 'width: 100%');\n",
        "    this.root.append(nav_element);\n",
        "\n",
        "    // Define a callback function for later on.\n",
        "    function toolbar_event(event) {\n",
        "        return fig.toolbar_button_onclick(event['data']);\n",
        "    }\n",
        "    function toolbar_mouse_event(event) {\n",
        "        return fig.toolbar_button_onmouseover(event['data']);\n",
        "    }\n",
        "\n",
        "    for(var toolbar_ind in mpl.toolbar_items){\n",
        "        var name = mpl.toolbar_items[toolbar_ind][0];\n",
        "        var tooltip = mpl.toolbar_items[toolbar_ind][1];\n",
        "        var image = mpl.toolbar_items[toolbar_ind][2];\n",
        "        var method_name = mpl.toolbar_items[toolbar_ind][3];\n",
        "\n",
        "        if (!name) {\n",
        "            // put a spacer in here.\n",
        "            continue;\n",
        "        }\n",
        "        var button = $('<button/>');\n",
        "        button.addClass('ui-button ui-widget ui-state-default ui-corner-all ' +\n",
        "                        'ui-button-icon-only');\n",
        "        button.attr('role', 'button');\n",
        "        button.attr('aria-disabled', 'false');\n",
        "        button.click(method_name, toolbar_event);\n",
        "        button.mouseover(tooltip, toolbar_mouse_event);\n",
        "\n",
        "        var icon_img = $('<span/>');\n",
        "        icon_img.addClass('ui-button-icon-primary ui-icon');\n",
        "        icon_img.addClass(image);\n",
        "        icon_img.addClass('ui-corner-all');\n",
        "\n",
        "        var tooltip_span = $('<span/>');\n",
        "        tooltip_span.addClass('ui-button-text');\n",
        "        tooltip_span.html(tooltip);\n",
        "\n",
        "        button.append(icon_img);\n",
        "        button.append(tooltip_span);\n",
        "\n",
        "        nav_element.append(button);\n",
        "    }\n",
        "\n",
        "    var fmt_picker_span = $('<span/>');\n",
        "\n",
        "    var fmt_picker = $('<select/>');\n",
        "    fmt_picker.addClass('mpl-toolbar-option ui-widget ui-widget-content');\n",
        "    fmt_picker_span.append(fmt_picker);\n",
        "    nav_element.append(fmt_picker_span);\n",
        "    this.format_dropdown = fmt_picker[0];\n",
        "\n",
        "    for (var ind in mpl.extensions) {\n",
        "        var fmt = mpl.extensions[ind];\n",
        "        var option = $(\n",
        "            '<option/>', {selected: fmt === mpl.default_extension}).html(fmt);\n",
        "        fmt_picker.append(option)\n",
        "    }\n",
        "\n",
        "    // Add hover states to the ui-buttons\n",
        "    $( \".ui-button\" ).hover(\n",
        "        function() { $(this).addClass(\"ui-state-hover\");},\n",
        "        function() { $(this).removeClass(\"ui-state-hover\");}\n",
        "    );\n",
        "\n",
        "    var status_bar = $('<span class=\"mpl-message\"/>');\n",
        "    nav_element.append(status_bar);\n",
        "    this.message = status_bar[0];\n",
        "}\n",
        "\n",
        "mpl.figure.prototype.request_resize = function(x_pixels, y_pixels) {\n",
        "    // Request matplotlib to resize the figure. Matplotlib will then trigger a resize in the client,\n",
        "    // which will in turn request a refresh of the image.\n",
        "    this.send_message('resize', {'width': x_pixels, 'height': y_pixels});\n",
        "}\n",
        "\n",
        "mpl.figure.prototype.send_message = function(type, properties) {\n",
        "    properties['type'] = type;\n",
        "    properties['figure_id'] = this.id;\n",
        "    this.ws.send(JSON.stringify(properties));\n",
        "}\n",
        "\n",
        "mpl.figure.prototype.send_draw_message = function() {\n",
        "    if (!this.waiting) {\n",
        "        this.waiting = true;\n",
        "        this.ws.send(JSON.stringify({type: \"draw\", figure_id: this.id}));\n",
        "    }\n",
        "}\n",
        "\n",
        "mpl.figure.prototype.handle_resize = function(fig, msg) {\n",
        "    var size = msg['size'];\n",
        "    if (size[0] != fig.canvas.width || size[1] != fig.canvas.height) {\n",
        "        fig._resize_canvas(size[0], size[1]);\n",
        "        fig.send_message(\"refresh\", {});\n",
        "    };\n",
        "}\n",
        "\n",
        "mpl.figure.prototype.handle_rubberband = function(fig, msg) {\n",
        "    var x0 = msg['x0'];\n",
        "    var y0 = fig.canvas.height - msg['y0'];\n",
        "    var x1 = msg['x1'];\n",
        "    var y1 = fig.canvas.height - msg['y1'];\n",
        "    x0 = Math.floor(x0) + 0.5;\n",
        "    y0 = Math.floor(y0) + 0.5;\n",
        "    x1 = Math.floor(x1) + 0.5;\n",
        "    y1 = Math.floor(y1) + 0.5;\n",
        "    var min_x = Math.min(x0, x1);\n",
        "    var min_y = Math.min(y0, y1);\n",
        "    var width = Math.abs(x1 - x0);\n",
        "    var height = Math.abs(y1 - y0);\n",
        "\n",
        "    fig.rubberband_context.clearRect(\n",
        "        0, 0, fig.canvas.width, fig.canvas.height);\n",
        "\n",
        "    fig.rubberband_context.strokeRect(min_x, min_y, width, height);\n",
        "}\n",
        "\n",
        "mpl.figure.prototype.handle_figure_label = function(fig, msg) {\n",
        "    // Updates the figure title.\n",
        "    fig.header.textContent = msg['label'];\n",
        "}\n",
        "\n",
        "mpl.figure.prototype.handle_cursor = function(fig, msg) {\n",
        "    var cursor = msg['cursor'];\n",
        "    switch(cursor)\n",
        "    {\n",
        "    case 0:\n",
        "        cursor = 'pointer';\n",
        "        break;\n",
        "    case 1:\n",
        "        cursor = 'default';\n",
        "        break;\n",
        "    case 2:\n",
        "        cursor = 'crosshair';\n",
        "        break;\n",
        "    case 3:\n",
        "        cursor = 'move';\n",
        "        break;\n",
        "    }\n",
        "    fig.rubberband_canvas.style.cursor = cursor;\n",
        "}\n",
        "\n",
        "mpl.figure.prototype.handle_message = function(fig, msg) {\n",
        "    fig.message.textContent = msg['message'];\n",
        "}\n",
        "\n",
        "mpl.figure.prototype.handle_draw = function(fig, msg) {\n",
        "    // Request the server to send over a new figure.\n",
        "    fig.send_draw_message();\n",
        "}\n",
        "\n",
        "mpl.figure.prototype.handle_image_mode = function(fig, msg) {\n",
        "    fig.image_mode = msg['mode'];\n",
        "}\n",
        "\n",
        "mpl.figure.prototype.updated_canvas_event = function() {\n",
        "    // Called whenever the canvas gets updated.\n",
        "    this.send_message(\"ack\", {});\n",
        "}\n",
        "\n",
        "// A function to construct a web socket function for onmessage handling.\n",
        "// Called in the figure constructor.\n",
        "mpl.figure.prototype._make_on_message_function = function(fig) {\n",
        "    return function socket_on_message(evt) {\n",
        "        if (evt.data instanceof Blob) {\n",
        "            /* FIXME: We get \"Resource interpreted as Image but\n",
        "             * transferred with MIME type text/plain:\" errors on\n",
        "             * Chrome.  But how to set the MIME type?  It doesn't seem\n",
        "             * to be part of the websocket stream */\n",
        "            evt.data.type = \"image/png\";\n",
        "\n",
        "            /* Free the memory for the previous frames */\n",
        "            if (fig.imageObj.src) {\n",
        "                (window.URL || window.webkitURL).revokeObjectURL(\n",
        "                    fig.imageObj.src);\n",
        "            }\n",
        "\n",
        "            fig.imageObj.src = (window.URL || window.webkitURL).createObjectURL(\n",
        "                evt.data);\n",
        "            fig.updated_canvas_event();\n",
        "            return;\n",
        "        }\n",
        "        else if (typeof evt.data === 'string' && evt.data.slice(0, 21) == \"data:image/png;base64\") {\n",
        "            fig.imageObj.src = evt.data;\n",
        "            fig.updated_canvas_event();\n",
        "            return;\n",
        "        }\n",
        "\n",
        "        var msg = JSON.parse(evt.data);\n",
        "        var msg_type = msg['type'];\n",
        "\n",
        "        // Call the  \"handle_{type}\" callback, which takes\n",
        "        // the figure and JSON message as its only arguments.\n",
        "        try {\n",
        "            var callback = fig[\"handle_\" + msg_type];\n",
        "        } catch (e) {\n",
        "            console.log(\"No handler for the '\" + msg_type + \"' message type: \", msg);\n",
        "            return;\n",
        "        }\n",
        "\n",
        "        if (callback) {\n",
        "            try {\n",
        "                // console.log(\"Handling '\" + msg_type + \"' message: \", msg);\n",
        "                callback(fig, msg);\n",
        "            } catch (e) {\n",
        "                console.log(\"Exception inside the 'handler_\" + msg_type + \"' callback:\", e, e.stack, msg);\n",
        "            }\n",
        "        }\n",
        "    };\n",
        "}\n",
        "\n",
        "// from http://stackoverflow.com/questions/1114465/getting-mouse-location-in-canvas\n",
        "mpl.findpos = function(e) {\n",
        "    //this section is from http://www.quirksmode.org/js/events_properties.html\n",
        "    var targ;\n",
        "    if (!e)\n",
        "        e = window.event;\n",
        "    if (e.target)\n",
        "        targ = e.target;\n",
        "    else if (e.srcElement)\n",
        "        targ = e.srcElement;\n",
        "    if (targ.nodeType == 3) // defeat Safari bug\n",
        "        targ = targ.parentNode;\n",
        "\n",
        "    // jQuery normalizes the pageX and pageY\n",
        "    // pageX,Y are the mouse positions relative to the document\n",
        "    // offset() returns the position of the element relative to the document\n",
        "    var x = e.pageX - $(targ).offset().left;\n",
        "    var y = e.pageY - $(targ).offset().top;\n",
        "\n",
        "    return {\"x\": x, \"y\": y};\n",
        "};\n",
        "\n",
        "mpl.figure.prototype.mouse_event = function(event, name) {\n",
        "    var canvas_pos = mpl.findpos(event)\n",
        "\n",
        "    if (this.focus_on_mouseover && name === 'motion_notify')\n",
        "    {\n",
        "        this.canvas.focus();\n",
        "    }\n",
        "\n",
        "    var x = canvas_pos.x;\n",
        "    var y = canvas_pos.y;\n",
        "\n",
        "    this.send_message(name, {x: x, y: y, button: event.button});\n",
        "\n",
        "    /* This prevents the web browser from automatically changing to\n",
        "     * the text insertion cursor when the button is pressed.  We want\n",
        "     * to control all of the cursor setting manually through the\n",
        "     * 'cursor' event from matplotlib */\n",
        "    event.preventDefault();\n",
        "    return false;\n",
        "}\n",
        "\n",
        "mpl.figure.prototype.key_event = function(event, name) {\n",
        "    /* Don't fire events just when a modifier is changed.  Modifiers are\n",
        "       sent along with other keys. */\n",
        "    if (event.keyCode >= 16 && event.keyCode <= 20) {\n",
        "        return;\n",
        "    }\n",
        "\n",
        "    value = '';\n",
        "    if (event.ctrlKey) {\n",
        "        value += \"ctrl+\";\n",
        "    }\n",
        "    if (event.altKey) {\n",
        "        value += \"alt+\";\n",
        "    }\n",
        "    value += String.fromCharCode(event.keyCode).toLowerCase();\n",
        "\n",
        "    this.send_message(name, {key: value});\n",
        "}\n",
        "\n",
        "mpl.figure.prototype.toolbar_button_onclick = function(name) {\n",
        "    if (name == 'download') {\n",
        "        var format_dropdown = this.format_dropdown;\n",
        "        var format = format_dropdown.options[format_dropdown.selectedIndex].value;\n",
        "        this.ondownload(this, format);\n",
        "    } else {\n",
        "        this.send_message(\"toolbar_button\", {name: name});\n",
        "    }\n",
        "};\n",
        "\n",
        "mpl.figure.prototype.toolbar_button_onmouseover = function(tooltip) {\n",
        "    this.message.textContent = tooltip;\n",
        "};\n",
        "\n",
        "mpl.debounce_event = function(func, time){\n",
        "    var timer;\n",
        "    return function(event){\n",
        "        clearTimeout(timer);\n",
        "        timer = setTimeout(function(){ func(event); }, time);\n",
        "    };\n",
        "}\n",
        "\n",
        "mpl.debounce_resize = function(func, time){\n",
        "    var timer;\n",
        "    return function(event, ui){\n",
        "        clearTimeout(timer);\n",
        "        timer = setTimeout(function(){ func(event, ui); }, time);\n",
        "    };\n",
        "}\n",
        "mpl.toolbar_items = [[\"Home\", \"Reset original view\", \"fa fa-home icon-home\", \"home\"], [\"Back\", \"Back to  previous view\", \"fa fa-arrow-left icon-arrow-left\", \"back\"], [\"Forward\", \"Forward to next view\", \"fa fa-arrow-right icon-arrow-right\", \"forward\"], [\"\", \"\", \"\", \"\"], [\"Pan\", \"Pan axes with left mouse, zoom with right\", \"fa fa-arrows icon-move\", \"pan\"], [\"Zoom\", \"Zoom to rectangle\", \"fa fa-square-o icon-check-empty\", \"zoom\"], [\"\", \"\", \"\", \"\"]];\n",
        "\n",
        "mpl.extensions = [\"eps\", \"jpeg\", \"pgf\", \"pdf\", \"png\", \"ps\", \"raw\", \"svg\", \"tif\"];\n",
        "\n",
        "mpl.default_extension = \"png\";var comm_websocket_adapter = function(comm) {\n",
        "    // Create a \"websocket\"-like object which calls the given IPython comm\n",
        "    // object with the appropriate methods. Currently this is a non binary\n",
        "    // socket, so there is still some room for performance tuning.\n",
        "    var ws = {};\n",
        "\n",
        "    ws.close = function() {\n",
        "        comm.close()\n",
        "    };\n",
        "    ws.send = function(m) {\n",
        "        //console.log('sending', m);\n",
        "        comm.send(m);\n",
        "    };\n",
        "    // Register the callback with on_msg.\n",
        "    comm.on_msg(function(msg) {\n",
        "        //console.log('receiving', msg['content']['data'], msg);\n",
        "        // Pass the mpl event to the overriden (by mpl) onmessage function.\n",
        "        ws.onmessage(msg['content']['data'])\n",
        "    });\n",
        "    return ws;\n",
        "}\n",
        "\n",
        "mpl.mpl_figure_comm = function(comm, msg) {\n",
        "    // This is the function which gets called when the mpl process\n",
        "    // starts-up an IPython Comm through the \"matplotlib\" channel.\n",
        "\n",
        "    var id = msg.content.data.id;\n",
        "    // Get hold of the div created by the display call when the Comm\n",
        "    // socket was opened in Python.\n",
        "    var element = $(\"#\" + id);\n",
        "    var ws_proxy = comm_websocket_adapter(comm)\n",
        "\n",
        "    var fig = new mpl.figure(id, ws_proxy,\n",
        "                           function() { },\n",
        "                           element.get(0));\n",
        "\n",
        "    // Call onopen now - mpl needs it, as it is assuming we've passed it a real\n",
        "    // web socket which is closed, not our websocket->open comm proxy.\n",
        "    ws_proxy.onopen();\n",
        "\n",
        "    fig.parent_element = element.get(0);\n",
        "    fig.cell_info = mpl.find_output_cell(\"<div id='\" + id + \"'></div>\");\n",
        "\n",
        "    var output_index = fig.cell_info[2]\n",
        "    var cell = fig.cell_info[0];\n",
        "\n",
        "    // Disable right mouse context menu.\n",
        "    $(fig.rubberband_canvas).bind(\"contextmenu\",function(e){\n",
        "        return false;\n",
        "    });\n",
        "\n",
        "};\n",
        "\n",
        "mpl.figure.prototype.handle_close = function(fig, msg) {\n",
        "    // Update the output cell to use the data from the current canvas.\n",
        "    fig.push_to_output();\n",
        "    var dataURL = fig.canvas.toDataURL();\n",
        "    // Re-enable the keyboard manager in IPython - without this line, in FF,\n",
        "    // the notebook keyboard shortcuts fail.\n",
        "    IPython.keyboard_manager.enable()\n",
        "    $(fig.parent_element).html('<img src=\"' + dataURL + '\">');\n",
        "    fig.send_message('closing', {});\n",
        "    fig.ws.close()\n",
        "}\n",
        "\n",
        "mpl.figure.prototype.push_to_output = function(remove_interactive) {\n",
        "    // Turn the data on the canvas into data in the output cell.\n",
        "    var dataURL = this.canvas.toDataURL();\n",
        "    this.cell_info[1]['text/html'] = '<img src=\"' + dataURL + '\">';\n",
        "}\n",
        "\n",
        "mpl.figure.prototype.updated_canvas_event = function() {\n",
        "    // Tell IPython that the notebook contents must change.\n",
        "    IPython.notebook.set_dirty(true);\n",
        "    this.send_message(\"ack\", {});\n",
        "    var fig = this;\n",
        "    // Wait a second, then push the new image to the DOM so\n",
        "    // that it is saved nicely (might be nice to debounce this).\n",
        "    setTimeout(function () { fig.push_to_output() }, 1000);\n",
        "}\n",
        "\n",
        "mpl.figure.prototype._init_toolbar = function() {\n",
        "    var fig = this;\n",
        "\n",
        "    var nav_element = $('<div/>')\n",
        "    nav_element.attr('style', 'width: 100%');\n",
        "    this.root.append(nav_element);\n",
        "\n",
        "    // Define a callback function for later on.\n",
        "    function toolbar_event(event) {\n",
        "        return fig.toolbar_button_onclick(event['data']);\n",
        "    }\n",
        "    function toolbar_mouse_event(event) {\n",
        "        return fig.toolbar_button_onmouseover(event['data']);\n",
        "    }\n",
        "\n",
        "    for(var toolbar_ind in mpl.toolbar_items){\n",
        "        var name = mpl.toolbar_items[toolbar_ind][0];\n",
        "        var tooltip = mpl.toolbar_items[toolbar_ind][1];\n",
        "        var image = mpl.toolbar_items[toolbar_ind][2];\n",
        "        var method_name = mpl.toolbar_items[toolbar_ind][3];\n",
        "\n",
        "        if (!name) { continue; };\n",
        "\n",
        "        var button = $('<button class=\"btn btn-default\" href=\"#\" title=\"' + name + '\"><i class=\"fa ' + image + ' fa-lg\"></i></button>');\n",
        "        button.click(method_name, toolbar_event);\n",
        "        button.mouseover(tooltip, toolbar_mouse_event);\n",
        "        nav_element.append(button);\n",
        "    }\n",
        "\n",
        "    // Add the status bar.\n",
        "    var status_bar = $('<span class=\"mpl-message\" style=\"text-align:right; float: right;\"/>');\n",
        "    nav_element.append(status_bar);\n",
        "    this.message = status_bar[0];\n",
        "\n",
        "    // Add the close button to the window.\n",
        "    var buttongrp = $('<div class=\"btn-group inline pull-right\"></div>');\n",
        "    var button = $('<button class=\"btn btn-mini btn-danger\" href=\"#\" title=\"Close figure\"><i class=\"fa fa-times icon-remove icon-large\"></i></button>');\n",
        "    button.click(function (evt) { fig.handle_close(fig, {}); } );\n",
        "    button.mouseover('Close figure', toolbar_mouse_event);\n",
        "    buttongrp.append(button);\n",
        "    var titlebar = this.root.find($('.ui-dialog-titlebar'));\n",
        "    titlebar.prepend(buttongrp);\n",
        "}\n",
        "\n",
        "mpl.find_output_cell = function(html_output) {\n",
        "    // Return the cell and output element which can be found *uniquely* in the notebook.\n",
        "    // Note - this is a bit hacky, but it is done because the \"notebook_saving.Notebook\"\n",
        "    // IPython event is triggered only after the cells have been serialised, which for\n",
        "    // our purposes (turning an active figure into a static one), is too late.\n",
        "    var cells = IPython.notebook.get_cells();\n",
        "    var ncells = cells.length;\n",
        "    for (var i=0; i<ncells; i++) {\n",
        "        var cell = cells[i];\n",
        "        if (cell.cell_type == 'code'){\n",
        "            for (var j=0; j<cell.output_area.outputs.length; j++) {\n",
        "                var data = cell.output_area.outputs[j];\n",
        "                if (cell.output_area.outputs[j]['text/html'] == html_output) {\n",
        "                    var output = cell.output_area.outputs[j];\n",
        "                    return [cell, output, j];\n",
        "                }\n",
        "            }\n",
        "        }\n",
        "    }\n",
        "}\n",
        "\n",
        "// Register the function which deals with the matplotlib target/channel.\n",
        "// The kernel may be null if the page has been refreshed.\n",
        "if (IPython.notebook.kernel != null) {\n",
        "    IPython.notebook.kernel.comm_manager.register_target('matplotlib', mpl.mpl_figure_comm);\n",
        "}\n"
       ],
       "metadata": {},
       "output_type": "display_data",
       "text": [
        "<IPython.core.display.Javascript at 0x7f15dd582510>"
       ]
      },
      {
       "html": [
        "<img src=\"data:image/png;base64,iVBORw0KGgoAAAANSUhEUgAAAoAAAAHgCAYAAAA10dzkAAAgAElEQVR4nO3dd5hU1eHG8VdsCIIFGxbssSuiBrtoiFGwayzYsEUjNhQ7UezGGlvsSuw/eywRjS222HsXsaCCKNKRtvv+/jizYRhml929M3Pmzv1+nuc8srN3Zt7LBXz3zj3nSgAAAAAAAAAAAAAAAAAAAAAAAAAAAAAAAAAAAAAAAAAAAAAAAAAAAAAAAAAAAAAAAAAAAAAAAAAAAAAAAAAAAAAAAAAAAAAAAAAAAAAAAAAAAAAAAAAAAAAAAAAAAAAAAAAAAAAAAAAAAAAAAAAAAACA9NhK0hBJ30v6VdJwSU9I6hMzVJmsIGmQpBWLfO9rSbdUMEtT2kj6m6QRkuokPRgxyyBJWxd5fLCkryqaBAAAlMQukuoVCsYukraUdICk23Oj1vRQ2N9tinxvPRUvhjHsqZDzOEndJa0SMUu9pLOLPL6Swu8ZAABImRckvdHI9+aqZBBJ81fgPXooFJrfVeC9kjhTIWelj0Ex9ZLOiR0CAACUzgeS/tXMbVeT9JCkMZImS/qvpD8UbDNYxT8WfF7Sc3lf91AoFrtKulHST7nXbXCYpLdz7/NL7vmb5H2/naS/5t5rqqRhkk5T04Wp4T0Lx5a5738t6da87fvmvr+ppPsljZc0UtIpue/vIOk9SZMkvS6pW5H33E3Sq7ltxki6V9JyTWRsyFGY8YC8/FsWbN+Qs0vBa9wuaW9Jn0iaqFD0NyvyfltJ+reksbnt3pV0cO57xX6/zsh9b7BmP9adJd2mcDynKPz+7NtI3u6S7pQ0TuHygytUmR8CAADIvJslzVA4w7OOGi9QSyv8T32owrWBOyhcJzhD0nZ52w1WKGOFnpP0bN7XPRRKwHeSbpC0raSdct+7JPe9GyT1lrS9wkeQe+a+P4+kFyX9LOkYhevTTlO4fvGSJva1g6Q/5167n6Tf5kaH3Pe/0qzXAPbNbfu5pNMVPja+LvfY5Qrlec9cxo8kfStp3rznH5Hb9iaF36M9JX2s8PuzYBM5u+Zy1OdlXEwtK4BfKZTA1xRKaG+FQj1G0kJ52+2scAyfy+XbRuH3dFDu+91zr31zXpalc98brFmPdXuF36sfJR2q8MPBHbnnH1Yk7+e599lG0sBcjkECAABlt7ik/2jm2Z2xCmf5/liw3SWSpitc99WgjaRPJb2V99hgNX4GsFgBfKBgu1UUJj00VeT2zz1384LHT1M4G7h4E89teN9i1wA2VgAH5j02t6RRkqZJWj7v8R01azlbUOHM1k0F77FCLuOxTWSUpHNzr1cse3PPAI7WrGVvg9x2++S+niu33etzyNLYNYCDNeuxPqqRfP9WKIUNP1w05D2zYLtHJX02hywAAKCENlQoOo9KmqCZZ+AavK5wvWChQQqFreGM1mC1rADuV7Bdw1mz3zSR9c7ce8ytcDawYWyUe+6OTTy34X1bUgA3KNjuFYWzf/l+k9u2Yeb07/PeZ56C8b5mL76FSlEAHyvYbv7cdiflvl499/Wf5pCluQXwXoWzoIUa8q1V8PWGBdtdoHAWFwAARLCQwlmbeklr5h4bKun/imzbUNgarmsbrJYVwMLJGKfnHm/XRL6GbMVGnaQDm3huw/u2pACuVLDd85q9DK+Q27bh2rl9m8hYr1mvhywmaQH8SuFavEL51/Btlvu61xyyNLcAPq3wkXOh7XKvsUVB3sLf10GafZ8BAEAF7aTwP+M9cl+/puadAbxO4YL+Qh+oeAEsLGKHa85nAO+W9KXCpItio1MTz23sfaXSFsCG0rN/IxlXbSKjVLwAbpx7rGfB4yeodQVwNcU9A0gBBAAgks6NPH6Swv+MG2aNXqTZr3ubW2GGaf4yMqcqXMy/WN5jK+ee25wCuFLu+U1dA3hg7vVWa2KbxmySe9/eRb5XygLYUeEawGLFqTmKFcDOucf6Fzz+rEIJb2kBnEthEsecrgGcIuniIo8P1qyTQI7UzFnT+Z5SWNC68BpACiAAAJG8p3Dd32EKy4Fsp3At1hRJL+Vt11lh8sPnCpMIdlBYPma6wgzeBivnHhuiMAt0X4Wzf9+r+DIwxc7EXaxQaK7Pvc/2ChMG8mcBP68wg7i/wsfI2ytMQnhS0gJN7G8nhfL4oEK53VAzz15+reYXwBcLHltBsxZAKZxZmy7pWoXZtj0Ufj9u0MyJGI0pVgCl8Hs4SuHM4nYKs2y/UvFrAOdUAKVwpneGQolsmAXcT7POxn1boej3VPj9avihYbBmPQPYTmESx0hJh+Ty3Z57z0PztusrCiAAAFHtqXBt31CFteomS/pQoYC0L9j2NwozhMcqXKz/imYtfw12Vih9kyW9o1Acii0DU6fiBVAKHwW/p1BER+ee2z3v+/MrlMJP8rZ5TaHczN3UDisUsy8VylmdZl5TV+wMYJ1mLyrPac5nABtsn8s+TuH393OFmcGrzyHjObn3LrSMpEcUlnMZoXCcDlHrzgA22DqXcUJuvKNZr6PcVNKbCsc8//m3avYlf5bSrOsAvqvZbynYV8V/X89U8X0GAAAAAKA09lb4SGecwk+4beaw/SIKS1GMVfhJ/A7Nut4WAAAAqty2kvaSdJCaVwAfV7iweVGFa4r+LenhcgYEAABAefTQnAvg8rlt1sl7bN3cY8uWLRkAAADKoofmXAB3VvHV6qcozFgEAABAivTQnAvg/grLHBQaqdlnu82lMGuvI4PBYDAYjFSNZTRz/UrUuB4q7RnAZSSZwWAwGAxGKscyQib0UOuuAVxPxa8B7CjJw4cP97hx4zI1+vXrFz0D+81+s9/sN/vNfrdmDB8+vKEAdixZw0BVaiOprcJs4IYb0bdV46d+H1O440AnhVtePa3is4A7SvK4ceOcNf37948dIQr2O1vY72xhv7Nj3LhxFMCM6KtQ/OoVVqJv+PWWCqvrT9DMe6JKs64DOFbhdkfF/pBQADOG/c4W9jtb2O/soAAiqcwWwCFDhsSOEAX7nS3sd7aw39lBAURSmS2AAACkFQUQSVEAAQBIGQogkqIAAgCQMhRAJEUBBAAgZSiASIoCCABAylAAkRQFEACAlKEAIikKIAAAKUMBRFIUQAAAUoYCiKQogAAApAwFEElRAAEASBkKIJKiAAIAkDIUQCRFAQQAIGUogEiKAggAQMpQAJEUBRAAgJShACIpCiAAAClDAURSFEAAAFKGAoikKIAAAKQMBRBJUQABAEgZCiCSogACAJAyFEAkRQEEACBlKIBIigIIAEDKUACRFAUQaIaJE+2337ZffdX+8cfYaQBkHQUQSVEAgSa8/rq9yy72fPPZCy9sL7WU3aaNvdFG9r332vX1sRMCyCIKIJKiAAJFTJliDxhgt2tnn3ii/dlnM7/388/21VfbSy5p77CDPWZMvJwAsokCiKQogECBsWPtLbawu3WzP/648e1Gj7Z79bLXXNMeObJy+QCAAoikKIBAnl9+CcWvVy978uQ5bz99ut2nj73uujZ/jQBUCgUQSVEAgZypU+2ttw4f606d2vznTZtm9+xp77UX1wQCqAwKIJKiAAI5hx5qr7++PWFCy5/744925872NdeUPhcAFKIAIikKIGD7zjvtTp3s4cNb/xrPPmu3b29//XXpcgFAMRRAJEUBROYNG2Z37Gg/8kjy1+rbNywbAwDlRAFEUhRAZFp9fbh+7/DDS/N6o0bZiyxi/+tfpXk9ACiGAoikKIDItDvvDIs7jx1bute87DK7a1cmhAAoHwogkqIAIrN++cVeYgn7nntK+7qTJ4cJIQ88UNrXBYAGFEAkRQFEZvXrZ2+7bXnO1F11lb322nZdXelfGwAogEiKAohM+uwze/75m77TRxJTpoSzgI89Vp7XB5BtFEAkRQFEJv3xj/Zhh5X3Pc45J0wwAYBSowAiKQogMue11+x27ezvvivv+4waZbdta7//fnnfB0D2UACRFAUQmbPNNvapp1bmvQ491D7kkMq8F4DsoAAiKQogMuXll+0OHcIM4Ep4661wd5Dx4yvzfgCygQKIpCiAyJTeve2TT67se3btat90U2XfE0BtowAiKQogMuOdd+wFFrBHjqzs+155pb3pppV9TwC1jQKIpCiAyIw997SPPrry7zt6dHmXnAGQPRRAJEUBRCZ8+mkoYd9+G+f999jDPv30OO8NoPZQAJEUBRCZcOih9kEHxXv/Bx6wV16Z+wMDKA0KIJKiAKLmNazH98EH8TJMnhxmH7/5ZrwMAGoHBRBJUQBR88491/7d72KnsPff3x4wIHYKALWAAoikKICoadOm2UsvbT/ySOwk9uOP28stx8fAAJKjACIpCiBq2l13hWvv6upiJ7GnTrU7duRjYADJUQCRFAUQNa17d/uKK2KnmGnPPe0zzoidAkDaUQCRFAUQNeu118LEi2r6433HHeHOIACQBAUQSVEAUbP69rX79YudYlajR9tzz21/803sJADSjAKIpCiAqEljxoTbvr3/fuwks+vRw7766tgpAKQZBRBJUQBRk666yt5449gpirvsMnvbbWOnAJBmFEAkRQFEzamvt9de27711thJihs61J533uq6NhFAulAAkRQFEDXn5ZfthRayJ02KnaRxq69uP/RQ7BQA0ooCiKQogKg5BxxgH3VU7BRNO+YY+89/jp0CQFpRAJEUBRA15Zdf4t/3tzkefdReZZXYKQCkFQUQSVEAUVOuuMLedNPYKeZswoRwHeCwYbGTAEgjCiCSogCipnTtat98c+wUzbPllvb118dOASCNKIBIigKImvHee2Htv7T8cT73XHv33WOnAJBGFEAkRQFEzRgwwN5339gpmu/11+2FF7ZnzIidBEDaUACRFAUQNWH6dHuppewnn4ydpPlmzLAXWcR+9dXYSQCkDQUQSVEAUROeeMLu3Dl9Z9N2390+77zYKQCkDQUQSVEAURP22cc+8cTYKVruyivtP/whdgoAaUMBRFIUQKTeuHHpWPuvmPfesxdcMHyEDQDNRQFEUhRApN7NN9vdusVO0Tp1deE6wNdei50EQJpQAJEUBRCpt9VW9t/+FjtF6+20k33RRbFTAEgTCiCSogAi1YYNC3fU+PHH2Ela79JL7d69Y6cAkCYUQCRFAUSqnX22vcMOsVMk8+abdseO6ZvBDCAeCiCSogAiterr7VVWse+7L3aSZGbMCAXw7bdjJwGQFhRAJEUBRGq98kq4k8avv8ZOklyvXvbll8dOASAtKIBIigKI1DriCPvww2OnKI0LLuC+wACajwKIpCiASKVffw1n/15+OXaS0nj+eXvppcPH2gAwJxRAJEUBRCrdd1+4/q9WCtPEifbcc9tffx07CYA0oAAiKQogUmnHHcMM4FrSrZt9992xUwBIAwogkqIAInV+/DGs/TdsWOwkpXXUUfYxx8ROASANKIBIigKI1LniCnvLLWOnKL0777Q32ih2CgBpQAFEUhRApE63bvZNN8VOUXrDhtnzzGNPnhw7CYBqRwFEUhRApMoHH9ht29q1+Ee2vt5eckn7xRdjJwFQ7SiASIoCiFQ56SR7n31ipyifXXax//rX2CkAVDsKIJKiACI1ZswIa+U98UTsJOVz0UWhBAJAUyiASIoCiNR46il7qaXs6dNjJymfF18MHwPXyvqGAMqDAoikKIBIjf32swcMiJ2ivCZPDhNBam2JGwClRQFEUhRApML48Xa7dvb778dOUn4bbWTfdVfsFACqGQUQSVEAkQq33mp37Ro7RWUceaR9/PGxUwCoZhRAJEUBRCpsvbV92WWxU1TGLbfU5kLXAEqHApgtZ0n6XtJESf+RtFYT2z4vaaqkCXnjiCLbUQBR9b7+Otz6beTI2Ekq4/337fbtw6xnACiGApgdJ0r6VqH0tZV0vqTvJLVvZPvnJJ3djNelAKLqnXee3bt37BSVM326vcAC9kcfxU4CoFpRALPjK0lH5309t6QfJe3XyPbPSTqnGa9LAURVq6+3f/Mb+//+L3aSytpsM/sf/4idAkC1ogBmw0KS6iV1L3j8SUmXNvKc5yT9LOkXSZ9IukDFzxZSAFHVXn3VXmih7N0f99hj7aOPjp0CQLWiAGbDcgoFcLWCx++RdEMjz9lE0sK5X68r6e3c9oUogKhqRx5pH3ZY7BSVd/vt9sYbx04BoFpRALOhsTOAT0m6pJmvsaWk6ZLmL3i8oyT369fP/fv3d//+/T1kyJDYf64B2/aUKfaii9ovvRQ7SeV98ondtq09bVrsJACqxZAhQ/73/+p+/fpRADNimGa9BnAeSaMk7dvM5zcUwLYFj3MGEFXrgQfslVbK5m3R6ursDh3sd9+NnQRANeIMYHYMkPSNwizgBRSu6RsuqV2RbZeQtJ3CNX9z5Z7zpqT7i2xLAUTV2mkn+6yzYqeIp0cP+6abYqcAUI0ogNlylqQRkiYprPPXsA5gF4V1/jbL+/o1SWNzj38h6UIxCQQp8uOPYe2/r76KnSSeAQPsww+PnQJANaIAIikKIKrS5ZeHM2BZds899gYbxE4BoBpRAJEUBRBVqWvXcP/fLPvyy3AWdMqU2EkAVBsKIJKiAKLqvPuu3a6dPX587CRx1deHNRDffjt2EgDVhgKIpCiAqDr9+9sHHBA7RXXYaiv75ptjpwBQbSiASIoCiKoybZq9+OL2M8/ETlIduCMIgGIogEiKAoiq8sgjdpcuYR08hOsgt9gidgoA1YYCiKQogKgqu+9uDxwYO0X1ePfdsCA0hRhAPgogkqIAomr8/LM933z255/HTlI9pk4NM4GHDo2dBEA1oQAiKQogqsbVV9ubbho7RfXp2tW+//7YKQBUEwogkqIAompstJF9ww2xU1Sfgw7iY3EAs6IAIikKIKrChx/abdvaY8fGTlJ9rrjC7t07dgoA1YQCiKQogKgK/fvb++0XO0V1+s9/7GWWiZ0CQDWhACIpCiCimzLF7tTJfv752Emq09ixtmSPGhU7CYBqQQFEUhRARHfPPfYqq4Rbn6G4lVayn3oqdgoA1YICiKQogIiuZ0/7wgtjp6huu+1mX3RR7BQAqgUFEElRABHVsGFhnbsRI2InqW5nn2336RM7BYBqQQFEUhRARDVwoL3rrrFTVL9HH7XXWCN2CgDVggKIpCiAiGb69DC79fHHYyepfsOH223a2JMmxU4CoBpQAJEUBRDRPPZYKIAzZsROUv3q68NM6ddei50EQDWgACIpCiCi2WUX+y9/iZ0iPX73O/v662OnAFANKIBIigKIKL77zp5vPvurr2InSY/jjrOPOip2CgDVgAKIpCiAiOLMM7m9WUvdfLO91VaxUwCoBhRAJEUBRMVNm2Z37szkj5Z6/XV70UVZMBsABRDJUQBRcffea6+4ol1XFztJukyaZM81l/3997GTAIiNAoikKICouK224q4WrbXKKvaQIbFTAIiNAoikKICoqA8/tNu2tX/+OXaSdNp1V/vii2OnABAbBRBJUQBRUf362QceGDtFep1xhn3AAbFTAIiNAoikKIComPHj7Q4dwmQGtM5999nrrx87BYDYKIBIigKIivn73+0NN4ydIt0+/dSef/5wGz0A2UUBRFIUQFREfb291lr2LbfETpJuM2aEayg/+SR2EgAxUQCRFAUQFTFkiL3EEvavv8ZOkn7duoWldABkFwUQSVEAURHbbmufdVbsFLXhwAO5hzKQdRRAJEUBRNm9/3742HLUqNhJasMll9i77BI7BYCYKIBIigKIsjvoIPuww2KnqB1PPmmvvHLsFABiogAiKQogymrEiDBr9eOPYyepHT/8EG4JN3Fi7CQAYqEAIikKIMpq4EC7V6/YKWpLfb3dqZP92muxkwCIhQKIpCiAKJtJk0JRefrp2ElqT48e9k03xU4BIBYKIJKiAKJsrrgi3LWivj52ktpz9NH2scfGTgEgFgogkqIAoiymTLGXXda+//7YSWrTDTfY22wTOwWAWCiASIoCiLK44QZ7jTXsurrYSWrTf/9rL7547BQAYqEAIikKIEpu+nR7pZXs226LnaR2jR9vS/bIkbGTAIiBAoikKIAouTvusFdcMRRBlM8KKzDBBsgqCiCSogCipOrq7DXXtK+/PnaS2te7t33llbFTAIiBAoikKIAoqfvvt5dZJkwCQXmdeKJ9+OGxUwCIgQKIpCiAKJkZM+y11rKvvjp2kmwYPNjefPPYKQDEQAFEUhRAlMztt4fr0qZOjZ0kG954w15kEdZZBLKIAoikKIAoiWnTwszfW2+NnSQ7JkwIM4FHjIidBEClUQCRFAUQJXHddfZqqzHzt9KYCQxkEwUQSVEAkdjkyWHix733xk6SPcwEBrKJAoikKIBI7Pzz7Q024K4fMTATGMgmCiCSogAikREj7A4d7P/8J3aSbGImMJBNFEAkRQFEIocdZu+2W+wU2cVMYCCbKIBIigKIVnvvPbttW3vo0NhJsouZwEA2UQCRFAUQrVJfb/fsaZ9wQuwkWGEF+5lnYqcAUEkUQCRFAUSr/N//2UsuaY8ZEzsJmAkMZA8FEElRANFi48bZnTvbd9wROwlsZgIDWUQBRFIUQLTYMcfY22zDxINqMXiwvcUWsVMAqCQKIJKiAKJF3norTPz45JPYSdDg9dftRRelkANZQgFEUhRANNu0aWHB59NPj50E+ZgJDGQPBTC+uSR1jh0iAQogmu2cc+y11rKnTImdBIWYCQxkCwUwnnaSbpA0RdLk3GM7Szo9WqLWoQCiWd59115ggbDwMKpPr17MBAayhAIYzzWS/i1pM0ljc48tJ+mjaIlahwKIOZo61e7a1R44MHYSNIaZwEC2UADj+U5Sp9yvx+T+O5dmlsG0oABijk45xV533VAEUZ2YCQxkCwUwnpGS5s39uqEAtpP0Q5w4rUYBRJOGDLEXXND+6KPYSdAUZgID2UIBjOcxScfmft1QAP8s6cE4cVqNAohG/fCDvfji9i23xE6COWmYCTxyZOwkACqBAhjP6pJ+kvSKpKmSnpH0i6TVYoZqBQogipoxIyz2vN9+nFVKC2YCA9lBAYxrMUnHS7pW0hkKk0DShgKIok480V59dXv8+NhJ0FzMBAaygwKIpCiAmM1tt9mLLGJ//nnsJGgJZgID2UEBrKwDJR3QjJEmFEDM4tVX7fbt7aeeip0ELXXrrfaWW8ZOAaASKICV9Z2k4XljuqQ6hWsBZ+S+/jZautahAOJ/hg61l1zSvvzy2EnQGq+9Zi+2WOwUACqBAhjPsZJu0czf+IUk3STpmGiJWocCCNvhPrIrrWT378+kj7QaPz7MBB41KnYSAOVGAYznO4V1//K1VzgzmCYUQHjMGHu99ez997fr6mKnQRJdutjPPx87BYByowDG87OkpQseW1rS6AhZkqAAZtzYsfYmm9i9e9vTpsVOg6S2286+5prYKQCUGwUwnpslvSmpt6Q1c/99Q+Fj4TShAGbYL7/YG20Ulg/59dfYaVAKxx9v9+sXOwWAcqMAxrOgpBsk/SqpPvffG3OPpwkFMKNGjbK7drV33tmeMiV2GpTKTTfZW28dOwWAcqMAxtdG0pK5/6YRBTCDPvvMXnlle889+di31rzySpjJDaC2UQCRFAUwY154wV50Ufukk5jwUYvGjAkzgX/+OXYSAOVEAYxneCODdQBRlerr7Wuvtdu1s6+/PnYalNPSS9svvhg7BYByogDG07dgnCbpa0mnRsrTWhTADJgwwe7Tx15qKZYIyYKePSn5QK2jAFaXrpIejx2ihSiANe6//7VXWy1MDBgxInYaVMKxx4YBoHZRAKtLG0kTYodoIQpgjfr1V/vEE8NHvhdeaM+YETsRKuX66+3f/z52CgDlRAGMp03B6CDpRElfxAzVChTAGlNfbz/ySJjlu9FG9kcfxU6ESnvxRXuZZWKnAFBOFMB46ouMcZJ2iRmqFSiANeS998KdIDp1ChM+OOuXTT//HGYCjxkTOwmAcqEAxtOjYGygcBYwbSiANeC99+zdd7fbtg3Xfo0eHTsRYltyybAmIIDaRAGMZ7NGHt+0oimSowCmVF2d/eST9o47huJ39NH2d9/FToVqsfXW4a4gAGoTBTCexiZ7jKloiuQogCnzww/2pZfaq65qL7GEPXCg/f33sVOh2vTrF+4LDKA2UQDjKVYA55c0utJBEqIApsDIkfaNN9rbbGPPM4/do4d9553cwxeNu+aacD0ogNpEAay8F3NjhqQX8r5+UdI3kp4q43ufJel7SRMl/UfSWk1su4ikOyWNVTgreYekhYpsRwGsQr/+Gm7Zdtppdrdudps2dvfu9mWX8TEvmue55+wuXWKnAFAuFMDKG5QbUyWdmff1GZIOU/kOxIkKt5lbS1JbSedL+k5S+0a2f1yhjC4qqZOkf0t6uMh2FMDIpk+3P/3Uvvtu+5hjwtIt884bLuLfbz/7jjvsUaNip0TajBoVZgKPHx87CYByoADGs2+F3+8rSUfnfT23pB8l7Vdk2+UVlqVZJ++xdXOPLVuwLQWwAqZOtYcNC7dhu/12e9Age8897bXXDmWvbVt7ww3to44KH+0OGxbW8wOSWGwx+/XXY6cAUA4UwMqaK+/XhQtB549SW0ihvHUvePxJSZcW2X5nSb8WeXyKpB0KHqMANtOMGeFsyogR9tCh9rvv2i+/bD/1lH3//fZ119nnnWf372/vv7/dq1c4m7f00vZcc9lzz20vv7y9xRbh+xdcYP/zn+G1WK8P5bDllvbgwbFTACgHCmBl5U/8KLYQdL2kujK873K5116t4PF7JN1QZPv9JY0s8vhISX0KHusoyX/+87j/3T/0mGPCOProMI46Kox+/cI48sgw/vznMI44YuY4/PAw/vSnMA47LIxDDw3jkEPCOPjgMA46KIy+fcM48MCZ44ADwth//zD22y+MffcNo0+fMPbZJ4y99w5jr73C2HPPmeOPfwxj993tnXayt9/e7tkzTKbYbDP7t7+1118/nChq5lkAACAASURBVJFbffVwF40uXezOncOiym3bho/TGsa889oLLxzutvCb34Szd9ttF/Ide6x9zjlhIeZ77w0lcfhwSh4q74gj7JNOip0CmLP6+nDt8+jR4TrnL76w33/ffu21cD3rk0/ajz8efmh+4AH7nnvC5TGDB4fljq67zr76avtvf7MvucT+61/DLTAvuMA+//zww/m554Z/m88+2z7rrPBJzJln2mecYf/lL2FFhdNPD9den3qqfcop9sknh79DJ55oDxhgn3BCy8bxx7ds9O/f/HHkkRTAStoi79c9mhil1tgZwKckXVJk+xafAVxvvX7u1q2/N9igv3fffYgHDAh/2E88MYyTTgrj5JPDOOWUME49NYzTTps5Tj89jIEDw/jLX8I444wwzjwzjEGDwjjrrDDOPjuMc86ZOc49N4zzzgvj/PPDuOCCMC68MIy//jWMiy4K4+KLw7jkkpnj0kvDJIqrrgr/WNx8s33bbfZdd9n33Wc//HD4B+bJJ+1nnw2303r1Vfutt8I1esOHhzsrTJsW9x9KoLmuvNLu3Tt2CmTN1Kn2N9/Y//2v/eCDYUb6wIHhxEGfPuEH8E02CT9sL7VUuF/5XHPN+kP2fPPZCy0Uvr/SSmHbddYJP6hvtFF4/hZbhJURtt02fOKy0072bruFH/r33jucGOjTJ5ww2G+/cCLhgAPCCYa+fcPJh4MPDiclDj00nKz405/CSYwjjggnOI48Mpz4OOqocELkmGP8v5MlzR3HHdey0VTp23XXIe7Wrb+7devv9dbrRwHMiGGa9RrAeSSNUvFrEYtdA7ieuAYQyJSnn7ZXXDF2CtSiGTPsTz4Jn3Kcf34oUlttFT4VkcLKBUstFQpbr16hZJ10UvjB/dprwxm8IUPCGb5PPgmFcdQoe8IEPi1pLj4CrqxtmjnKYYDCMjNrSVpA0gWShktq18j2jylcI9hJ0mKSnhazgIFM+eGHcGZl4sTYSZBm9fXhWuVbbglnxjbeOJy1a9s2LFO1997hDN/gwfZLL4WF6adPj5269lEAK6ux6/4KR7mcJWmEpEmSntfMdQC7KFyfmH97uvx1AMdKul3F/5BQAIEaVV8frlV9663YSZA2o0aFwrfPPmEi27zz2ptvHq5ru+MO+6OPKHmxUQCRFAUQqGGbbhqWHgLm5JtvwrXTm28eVi3YaKNwvfazz9qTJ8dOh0IUQCRFAQRq2GGHhYlaQDGTJoUzej17hrN8f/hDmCTH/cWrHwUwnnkknSZpqMJdQYZKOl1hgeY0oQACNezyy+2dd46dAtVm5MiwOkOnTvYaa4TVE374IXYqtAQFMJ6LJH0p6QhJ2+X+O1TSxTFDtQIFEKhhTz5pr7pq7BSoFsOHh6VO2rYNy7E88wx3HUorCmA8IzT7wsyrqfgCzNWMAgjUsOHDw5Icv/4aOwli+uWXsAzLAguEWbsffBA7EZKiAMbzo6R5Cx6bT2FtvjShAAI1rL7e7tAh3LoQ2VNXZ//972E2+LbbMiO8llAA4zlfYVmWhvsDt5E0KPd4mlAAgRrXvXu44w2y5b33wpp9K65oP/FE7DQoNQpgPC9KmqbwUfAbCh/9Tss93jBeiJau+SiAQI076KCwUC+yoa4u3CJzgQXCDPBJk2InQjlQAOMZ1IxxZqVDtQIFEKhxF18c7pGK2vfdd/bWW9urrBJus4baRQFEUhRAoMY9/ri9+uqxU6DcXnjBXnxxu2/fcE9d1DYKYHwdJC1dMNKEAgjUuK+/Dnd2mDo1dhKUy7XXhvvzXntt7CSoFApgPBtL+lSz3we4LmaoVqAAAjWurs5u397+8MPYSVBqdXX2cceFM38vvBA7DSqJAhjPh5L+JmkDSasXjDShAAIZsOGG9r33xk6BUpo2zd5vP3vlle0vv4ydBpVGAYxnvMLSL2lHAQQy4IAD7EGDYqdAqUyebPfqZa+3nj1iROw0iIECGM+/Ja0VO0QJUACBDLjwQnvPPWOnQClMmWJvt5296ab22LGx0yAWCmA8Kyqs83eypAMKRppQAIEMeOQRe621YqdAUtOm2TvtZP/2tzb/bGcbBTCeoxUmffwiaXjBSBMKIJABQ4fa884bCgTSacaMcBa3a9dwb19kGwUwnlGSdo4dogQogEAGzJhht21rf/JJ7CRoreOPt1dd1f7pp9hJUA0ogPH8rJn3AU4zCiCQEeuvbz/wQOwUaI2rrrIXW8z+4ovYSVAtKIDx/F3SbrFDlAAFEMiIffe1zzkndgq01KOPhnUcX3kldhJUEwpgPPdImqIwG/g2Sbfnxm0xQ7UCBRDIiPPOs/fZJ3YKtMRnn9kdO9r33BM7CaoNBTCewUXGrbmRJhRAICMeeiisG4d0mDjRXntt+4QTYidBNaIAVo8Oko6S9FHsIC1EAQQy4rPP7PnnDxNCUN3q6+0+feyttrKnT4+dBtWIAhjfupKukzQhNy6PG6fFKIBARkyfbs83HxMJ0uDaa+3OnbnLBxpHAYxjPkn7SnpZYS3ATyVNlrRKzFCtRAEEMmSddeyHH46dAk355JMw6ePZZ2MnQTWjAFbeBZJ+VFgA+lpJG+ceHyFpiVihEqAAAhmy1172+efHToHGTJ1qd+tmDxgQOwmqHQWw8uolvSlptYLHKYAAqt5ZZ9n77Rc7BRpz6qlhos6UKbGToNpRACvvIElvSKqT9IzCvX/biwIIIAXuvz+cYUL1+e9/7Xbt7A8/jJ0EaUABjGcjhSVfJilM/pgmaauoiVqHAghkyMcf2wssYNfVxU6CfFOn2mutxcfzaD4KYHyLSDpe0ucKHw8/GTdOi1EAgQyZNs2eZx572LDYSZDvrLPCR7/TpsVOgrSgAFaPuSRtK+nB2EFaiAIIZMyaa9qPPRY7BRp89FE4K/vGG7GTIE0ogEiKAghkzB572BddFDsF7PBR/GabcbcPtBwFEElRAIGMOeMMu2/f2Clg27fdZi+7bLjtG9ASFEAkRQEEMuaee+zf/jZ2CowbZy+1VDgeQEtRAJEUBRDImPfftxdcMNxvFvGceGK41y/HAa1BAURSFEAgY6ZMseee2/7mm9hJsuvTT+22be333oudBGlFAURSFEAgg1ZbzX7iidgpsmuHHex+/WKnQJpRAJEUBRDIoF13tS+9NHaKbHrhBbtDB3vUqNhJkGYUQCRFAQQy6PTT7UMOiZ0ie+rr7U02sc8+O3YSpB0FEElRAIEMuvPOUERQWQ89ZC+5pD1hQuwkSDsKIJKiAAIZ9M479kILMQO1kqZPt9dYw77mmthJUAsogEiKAghk0OTJ9lxz2d9/HztJdtx0k73yytzvF6VBAURSFEAgo1Ze2f73v2OnyIYpU8IdP+6+O3YS1AoKIJKiAAIZteOO9t/+FjtFNlx7rb3WWuHev0ApUACRFAUQyKhTTrH/9KfYKWrf1Kl2ly7c8g2lRQFEUhRAIKNuu83efPPYKWrfjTfaq69uz5gROwlqCQUQSVEAgYx68017kUWYCVxO06bZK65o33577CSoNRRAJEUBBDJq4kRbskeOjJ2kdg0ebK+ySlgCBiglCiCSogACGbbCCvazz8ZOUZumT7dXXdW+9dbYSVCLKIBIigIIZFivXvbVV8dOUZvuucdefnnW/UN5UACRFAUQyLABA+wjj4ydovbU19sbbGBfcUXsJKhVFEAkRQEEMuyWW+wePWKnqD3PPRcm2HDPX5QLBRBJUQCBDHv1VXuJJWKnqD29e9unnRY7BWoZBRBJUQCBDBs/PswE/umn2Elqx0cf2W3b2iNGxE6CWkYBRFIUQCDjllvOfv752Clqx8EH24ccEjsFah0FEElRAIGM2357ZgKXyg8/2PPPb3/8cewkqHUUQCRFAQQy7uSTuSdwqQwcGK7/A8qNAoikKIBAxt15p73xxrFTpN+UKWFCzVNPxU6CLKAAIikKIJBxH3xgL7igXVcXO0m63X67vdpq/D6iMiiASIoCCGTctGn2vPPaX34ZO0m6de9uX3ll7BTICgogkqIAAvC669oPPRQ7RXq9/no4i8o/pagUCiCSogAC8H772WedFTtFeh14ILfUQ2VRAJEUBRCAL7rI3n332CnSadSosPTLRx/FToIsoQAiKQogAA8ZYq+6auwU6XTBBfY228ROgayhACIpCiAA//CDPddc9sSJsZOky/Tpdpcu9oMPxk6CrKEAIikKIADX19uLLRYmM6D5Hn443Epv+vTYSZA1FEAkRQEEYDt8jHnTTbFTpEuvXvbZZ8dOgSyiACIpCiAA2/Zxx9nHHBM7RXp8801YP3H48NhJkEUUQCRFAQRg277lFrtHj9gp0uPMM+0ddoidAllFAURSFEAAtu033rAXXTRcD4imzZgRrv375z9jJ0FWUQCRFAUQgG170iS7TRv7u+9iJ6l+jz9uL700kz8QDwUQSVEAAfzPaqvZ//pX7BTVb+ed7YEDY6dAllEAkRQFEMD//PGP9oUXxk5R3X74IUz++Oqr2EmQZRRAJEUBBPA/555r77NP7BTV7bzz7G23jZ0CWUcBRFIUQAD/8/jj9uqrx05Rverq7BVXtO+/P3YSZB0FEElRAAH8T8Mt4SZMiJ2kOj3zjL344vbUqbGTIOsogEiKAghgFksuab/8cuwU1enAA+1jj42dAqAAIjkKIIBZbLedffXVsVNUn4kT7fbt7bffjp0EoAAiOQoggFmcdpp98MGxU1Sf22+3116bhbJRHSiASIoCCGAW991nr79+7BTVp2dP+6KLYqcAAgogkqIAApjF0KFhnTsmOsw0fLg9zzz299/HTgIEFEAkRQEEMIu6OrtjR/udd2InqR4XXsjaf6guFEAkRQEEMJstt7Rvvjl2iupQX2+vuaZ9xx2xkwAzUQCRFAUQwGyOO84+6qjYKarDm2/aCy5oT5oUOwkwEwUQSVEAAczmH/+wN9ssdorqcMwx9kEHxU4BzIoCiKQogABm8/77Yc27urrYSeKaOtVebDH7uediJwFmRQFEUhRAALOZNs2ef377009jJ4nrn/+0u3ShCKP6UACzYw9Jn0qaLOljSbvOYftBkuokTcgbdxbZjgIIoKgNN7Tvvjt2irh2390+/fTYKYDZUQCzobukXxVK39ySdlMoghs08ZxBkl5oxmtTAAEU9ac/2SedFDtFPKNH2/PNx1lQVCcKYDbcKumBgscelHRTE88ZJOnFZrw2BRBAUddea//+97FTxHPttXb37rFTAMVRALPhbUknFzx2mqS3mnjOmZImShol6WuFj39XKLIdBRBAUa+9Zi+6aHbvfbvJJvbf/x47BVAcBTDdBkuqb2I8m9tuqKTDC577Z0lfNPHaa0laLvfrpSXdkXud9gXbUQABFDVlSrgl3NChsZNU3uefh49/R4+OnQQojgKYbu0lLdrE6JDb7m1JpxQ8d05nAAvNp3AdYc+CxztKcr9+/dy/f3/379/fQ4YMif3nGkCVyOpEkIED7d12i50CmNWQIUP+9//qfv36UQAz4BbNfg3gQ5JubMFrNBTA3xc8zhlAAI068ki7f//YKSqrrs5efnn74YdjJwEaxxnAbGiYBbyLpHkl7a45zwLeU1Kn3K+XlHSbpGHiI2AALXDrrfbmm8dOUVnPP2936hQWgQaqFQUwO/aQ9IlCESy2DuCHmvVj4n8qTACZJOk7hUkgKxV5XQoggEZ99JG9wAL29Omxk1TOwQdzH2RUPwogkqIAAmjUjBn2ggva774bO0llTJpkd+hgv/FG7CRA0yiASIoCCKBJPXrYN94YO0Vl3HWXvcYa2V36BulBAURSFEAATTrpJPuww2KnqIzttrMvuCB2CmDOKIBIigIIoEn33Wd37Ro7Rfl9/709zzz2t9/GTgLMGQUQSVEAATTpm2/suecO18fVsosvtn/3u9gpgOahACIpCiCAJtXX20suab/0Uuwk5VNfb6+9tv2Pf8ROAjQPBRBJUQABzNEOO9iXXx47Rfm8847dvr09YULsJEDzUACRFAUQwBydfba9116xU5RP//72AQfETgE0HwUQSVEAAczR00/byy0XO0V5TJ9uL7FE2EcgLSiASIoCCGCOJkwIE0FqcYbsY4/Zyy4bFr0G0oICiKQogACapVs3++67Y6covT33tE85JXYKoGUogEiKAgigWY4+uvbukTtmjD3//OGex0CaUACRFAUQQLPcc4+9/vqxU5TWDTfYG24YOwXQchRAJEUBBNAs335rt2lTW0ulbL65fdVVsVMALUcBRFIUQADNttxytTNb9ssv7XnntX/6KXYSoOUogEiKAgig2fbe2z7rrNgpSuPMM+2dd46dAmgdCiCSogACaLarrrK33TZ2iuTq6uwVVrAfeih2EqB1KIBIigIIoNneftvu0CH9a+Y9/7zdqZM9dWrsJEDrUACRFAUQQLNNnx7umfvuu7GTJNO3r33MMbFTAK1HAURSFEAALdKzZ7pnzk6YEErsW2/FTgK0HgUQSVEAAbTIeefZu+0WO0Xr/eMf9jrr2PX1sZMArUcBRFIUQAAt8sor9qKLhokUabTNNvYll8ROASRDAURSFEAALTJtWnqvA/z667D234gRsZMAyVAAkRQFEECLbb+9ffnlsVO03Dnn2DvsEDsFkBwFEElRAAG02EUX2TvtFDtFy9TX26usYt93X+wkQHIUQCRFAQTQYm+8YS+0ULrWA3zpJXuRRewpU2InAZKjACIpCiCAFpsxIxTAN9+MnaT5Dj3UPvLI2CmA0qAAIikKIIBW2XHH8FFwGkyYYC+4YLoKK9AUCiCSogACaJUrr7R///vYKZrnxhvt9dePnQIoHQogkqIAAmiVzz+355vPnjgxdpI5++1v7b//PXYKoHQogEiKAgig1VZe2X7ssdgpmvbee3a7dvbYsbGTAKVDAURSFEAArdavXxjV7Kij7L59Y6cASosCiKQogABa7dFHw1nAajV5sr3wwvbLL8dOApQWBRBJUQABtNrEieE6wM8/j52kuNtus9dcMywCDdQSCiCSogACSKRnzzAjuBptsUU6b1kHzAkFEElRAAEkcskl9nbbxU4xuw8+sNu2tX/+OXYSoPQogEiKAgggkYblYKptlu3hh9sHHxw7BVAeFEAkRQEEkNg669h33RU7xUxjxoSlX95+O3YSoDwogEiKAgggsTPPtPfYI3aKmS67zN5ss9gpgPKhACIpCiCAxBoWW548OXYSu64uLE1z992xkwDlQwFEUhRAAInV19srrWQ//HDsJPbjj9udO9tTp8ZOApQPBRBJUQABlMSAAfYBB8ROYf/hD/agQbFTAOVFAURSFEAAJfHKK+GuG1OmxMvw7rv2AgvYP/4YLwNQCRRAJEUBBFAS9fX2iivaDz4YL0OfPvaRR8Z7f6BSKIBIigIIoGT+8hd7113jvPdXX4X1CL/8Ms77A5VEAURSFEAAJdOwKPTo0ZV/76OPtvfaq/LvC8RAAURSFEAAJdW9u33ddZV9z59+YuFnZAsFEElRAAGU1HXX2RtsUNn3/Mtf7N//vrLvCcREAURSFEAAJTV+vL3ggvbrr1fm/X76KbzfSy9V5v2AakABRFIUQAAld8QR9sEHV+a9Bgywt9++Mu8FVAsKIJKiAAIouYb1+H75pbzv88MP4X3efLO87wNUGwogkqIAAiiLLbawzz+/vO9x5JHxlp0BYqIAIikKIICyePxxe4kl7MmTy/P6779vt21rf/JJeV4fqGYUQCRFAQRQFvX19nrr2ddcU57X3npr+4QTSv/aQBpQAJEUBRBA2dx9t92li/3rr6V93fvus5dc0uafLmQVBRBJUQABlM2MGXbXrvbFF5fuNceOtZdd1r711tK9JpA2FEAkRQEEUFZPP20vtJD988+leb2DD7Z79gwfAwNZRQFEUhRAAGXXq5d92GHJX+exx+yOHe1vvkn+WkCaUQCRFAUQQNl99ZXdoYP95JPJXmPRRe3bby9VKiC9KIBIigIIoCKuvz5cuzd6dMufO2mS3a1bWPcPAAUQyVEAAVREfX1YtHmrreypU5v/vClT7D/8wd5yy5Y9D6hlFEAkRQEEUDETJ9obbGD36WNPnz7n7SdMsHfc0d5wQ5Z8AfJRAJEUBRBARY0YYa+9tt27d9MfB3/xhb3uunaPHq372BioZRRAJEUBBFBxv/xi77ST3bmzfdVVM5eIqa+3P/vMHjDAbtfOPvZYe9q0uFmBakQBRFIUQABR1Nfb999vb7SR3aaNvdRS9sIL2/PNF64VfP312AmB6kUBRFIUQADR/fij/eqr9jvv2JMnx04DVD8KIJKiAAIAkDIUQCRFAQQAIGUogEiKAggAQMpQAJEUBRAAgJShACIpCiAAAClDAURSFEAAAFKGAoikKIAAAKQMBRBJUQABAEgZCiCSogACAJAyFEAkRQEEACBlKIBIigIIAEDKUACRFAUQAICUoQAiKQogAAApQwFEUhRAAABShgKIpCiAAACkDAUQSVEAAQBIGQogkqIAAgCQMhRAJEUBBAAgZSiASIoCCABAylAAkRQFEACAlKEAIikKIAAAKUMBrH3rSXpC0ghJ9ZJ+18znnSXpe0kTJf1H0lqNbEcBBAAgZSiAtW91SYdI2kChAG7TjOecKOlbhdLXVtL5kr6T1L7ItpktgEOGDIkdIQr2O1vY72xhv7ODApgtzS2AX0k6Ou/ruSX9KGm/IttmtgD2798/doQo2O9sYb+zhf3ODgpgtjSnAC6U2657weNPSrq0yPYUwIxhv7OF/c4W9js7KIDpNVihqDU2ni3ynOYUwOVy261W8Pg9km4osn1HSR4+fLjHjRuXqdGvX7/oGdhv9pv9Zr/Zb/a7NWP48OEUwJRqL2nRJkaHIs9JcgbwKUmXFNl+GYU/QAwGg8FgMNI3lhFqXnOvARymWa8BnEfSKEn7Ftl2LoU/PB0ZDAaDwWCkaiyj8P9x1Ki2khZQKIDb5b6eu4ntB0j6RmEW8AKSLpA0XFK78sYEAABAKaygmdcF1uX9+oy8bT6UdErB885SWDtwkqTn1fg6gAAAAAAAAADSprl3AZGkRSTdKWmspDGS7lCYSJJvD0mfSpos6WNJu5Y4b6mUcr97KJxpnZA3vi154tJoyX6fK+ltSVMlvdjINrV4vOe03z1Ue8d7cUn/ULgmeILC+qDnS5qvYLtaO97N2e8eqr3jLUmPKCz6P05h7dcHJK1UsE2tHW9pzvvdQ7V5vBt0lPS1wj62KfheWo43SqAldwGRpMcVZggvKqmTpH9Lejjv+90l/arwh2ZuSbsp/EHaoAzZkyj1fvdQ+MtU7RfXtnS/+0rqLekqSS8U+X6tHu++anq/e6j2jveKkk7N/VeSVpb0nqTL87apxePdnP3uodo73pK0rqT5c79eWNLdkl7J+34tHm9pzvvdQ7V5vBvcImmIwmVi+QUwLccbJfKVmn8XkOUV/lKsk/fYurnHls19favCT1P5HpR0UynCllCp97tH7uumJttUg5bsd75BKn4mrBaPd75BavoMYK0e7wbHSno37+taP94NCve7h2r/eC8i6S5J/5f3WBaOd7H97qHaPd47SnpN0u80+xnAtBxvlEBL7wKys8JPB4WmSNoh9+u3JZ1c8P3TJL3V+pglV4797pF7zW8ljZT0tKQtS5C1lFq63/kGqXgRqsXjnW+Qmi6AtXq8G/xL4WxBg1o/3g0K97uHavd4XyBpfO65z2vWs0e1fLyb2u8eqs3j3Unho981NXMf8wtgGo43SqSldwHZX+EvQ6GRkvrkfj1U0uEF3/+zpC9aH7PkyrHfSyqcIWwjaUFJJyiUxvVKkLdUWrrf+QapeBGqxeOdb5CK73etH29J+ovCtUVL5z1W68dbKr7fWTjeKysUofwzQFk43sX2u1aP970KhU4qXgDTcLxRIi29C0hzzwAWLjFTbT9BlGO/i3lW0nmtCVgmLd3vfIPU+BnAWjve+Qap8ckvhWrpeJ+jsDboqgWP1/rxbmy/i6ml491go9xrLJL7utaPd4PC/S4m7cd7b0lvaubH2j00+8fcaTjeKKGW3AWk2LVw62nWa+Fu0ezXEDwk6cZShC2hUu93MdX2D4bUsv3ON0jFi1AtHu98g5TeAii1fL/nknSNpM8ldSny/Vo93nPa72Jq4XgX2kzSDIUJBVLtHu9ChftdTNqP960KM4V/yo2xCv8P+0nhUy4pPccbJdLSu4A8pnCNQSdJiylcG1FsFvAukuaVtLuqcxZRqfd7W4VZhG1yr3GcwhnCbmXInkRL93sehX8Uz5X0ksLMufx/JGv1eM9pv2vxeM+jsNTRh5KWauT1avF4N2e/a/F4r6owy7OjQgFeTWEmbP5kiFo83s3Z71o83gsrXNbQMPZQKIDL5W2fluONEmrsLiBdFNY/2ixv2/z18MZKul3hL1K+PSR9ovAHqZrXESrlfg9U+IvY8BPWMwqn2KtRS/Z7sGa/s0xdwevV4vEerKb3uxaP91YK+zlZs65/Nr7g9WrteDdnv2vxeP9G4ez2GIV9/VxhGZHCJURq7Xg3Z79r8XgX6qHZl4GR0nO8AQAAAAAAAAAAAAAAAAAAAAAAAAAAAAAAAAAAAAAAAAAAAACojGsV796dTyncPmpOllW4ZdWi5Y0DAACQfk9o5q3KJivcwiz/9mWnxIumnSS93YLtL5N0ZZmyAAAA1KTfKRTAavEfSUe0YPs1FErrQuWJAwAAUHt6qngBHCzp9ryvv5Z0pqQhCoXrM4UbwfeU9J6k8Qof3S6Z95y2ks6XNFTSLwrlrmsTWRZXuLH8inmPzSfp7wo3qh8v6StJRxU87xtJezbxugAAAMjTWAG8VdJteV9/rVC+1pHURtIlkkZKekhSJ0kLSnpZ0nV5zxmsUAqXzj2nn6Qf1fjZuu0UPpLOd5jCR8IN1/ktIWn9gm0elXRxI68JAACAAs09A/iVpNPzvl4vptAR8wAAAU9JREFU97zueY8dr5nX73XKff83Ba/7uaR9G8nSR+FMX74Dcs/ZQtK8jTzvDkk3N/I9AAAAFGhJATw47+tVcs/rkvfYEZK+yP26e+77YwrGREknNZKl2BnANpJOkPSqpLGS/iWpW8E2j0m6qJHXBAAAQIGmPgJOUgCXz31/2RZkWULhGsAVGvl+O0mXKiz9ku9rcQ0gAABAs5XrDKAkPSjpkbxtOkjaXtJSTeR5QbPOAt5a0oYKk0HmkXR2LkuDNRTOKjILGAAAoJl6Kpx1K1Q4CaRYAazTrAXwcIXr9Rq0VZg5/JnCDN7vJd0vqXMTeXbWrOsA7iXpA4WZx79Iek7SBnnfZx1AAACAGvCkmncnkGUkfSvuBAIAAAAAAAAAAAAAAAAAAAAAAAAAAAAAAAAAAAAAAAAAAAAAAAAAAAAAAAAAAAAAAAAAAAAAQAX8P5Bgl3xBYhcyAAAAAElFTkSuQmCC\">"
       ],
       "metadata": {},
       "output_type": "display_data",
       "text": [
        "<IPython.core.display.HTML at 0x7f15dd582590>"
       ]
      }
     ],
     "prompt_number": 13
    },
    {
     "cell_type": "code",
     "collapsed": false,
     "input": [
      "# Initalization of solution vectors\n",
      "u = np.zeros(ng)\n",
      "uold = u\n",
      "unew = u\n",
      "f = u \n",
      "\n",
      "################ Time extrapolation ####################################\n",
      "# Simple finite difference time extrapolation\n",
      "  \n",
      "# Interactive mode on for plotting\n",
      "# plt.close()\n",
      "plt.figure()\n",
      "plt.ion()\n",
      "\n",
      "plt.title('SEM 1D Animation')\n",
      "plt.xlabel(' x (m)')\n",
      "plt.ylabel(' Amplitude ')\n",
      "\n",
      "# Initialize animated plot\n",
      "lines = plt.plot(xg, u, lw=1.5)\n",
      "plt.show()\n",
      "\n",
      "for it in xrange(nt): \n",
      "    # Source initialization\n",
      "    f= np.zeros(ng)\n",
      "    if it < len(src):\n",
      "        f[isrc-1] = src[it-1] \n",
      "            \n",
      "    \n",
      "    # Extrapolation\n",
      "    unew = dt**2 * np.dot(Minv, f - np.dot(K, u)) + 2 * u - uold\n",
      "    \n",
      "    uold = u\n",
      "    u = unew\n",
      "    \n",
      " \n",
      "    # Animation plot\n",
      "    if not it % iplot:\n",
      "        for l in lines:\n",
      "            l.remove()\n",
      "            del l\n",
      "        lines = plt.plot(xg, u, color=\"black\", lw = 1.5)\n",
      "        plt.draw()\n",
      "        # time.sleep(0.1)   # to slow the animation down\n",
      "        print('it = ', it, ', Max(u) = ', max(u))"
     ],
     "language": "python",
     "metadata": {},
     "outputs": [
      {
       "javascript": [
        "/* Put everything inside the global mpl namespace */\n",
        "window.mpl = {};\n",
        "\n",
        "mpl.get_websocket_type = function() {\n",
        "    if (typeof(WebSocket) !== 'undefined') {\n",
        "        return WebSocket;\n",
        "    } else if (typeof(MozWebSocket) !== 'undefined') {\n",
        "        return MozWebSocket;\n",
        "    } else {\n",
        "        alert('Your browser does not have WebSocket support.' +\n",
        "              'Please try Chrome, Safari or Firefox \u2265 6. ' +\n",
        "              'Firefox 4 and 5 are also supported but you ' +\n",
        "              'have to enable WebSockets in about:config.');\n",
        "    };\n",
        "}\n",
        "\n",
        "mpl.figure = function(figure_id, websocket, ondownload, parent_element) {\n",
        "    this.id = figure_id;\n",
        "\n",
        "    this.ws = websocket;\n",
        "\n",
        "    this.supports_binary = (this.ws.binaryType != undefined);\n",
        "\n",
        "    if (!this.supports_binary) {\n",
        "        var warnings = document.getElementById(\"mpl-warnings\");\n",
        "        if (warnings) {\n",
        "            warnings.style.display = 'block';\n",
        "            warnings.textContent = (\n",
        "                \"This browser does not support binary websocket messages. \" +\n",
        "                    \"Performance may be slow.\");\n",
        "        }\n",
        "    }\n",
        "\n",
        "    this.imageObj = new Image();\n",
        "\n",
        "    this.context = undefined;\n",
        "    this.message = undefined;\n",
        "    this.canvas = undefined;\n",
        "    this.rubberband_canvas = undefined;\n",
        "    this.rubberband_context = undefined;\n",
        "    this.format_dropdown = undefined;\n",
        "\n",
        "    this.focus_on_mousover = false;\n",
        "    this.image_mode = 'full';\n",
        "\n",
        "    this.root = $('<div/>');\n",
        "    this.root.attr('style', 'display: inline-block');\n",
        "    $(parent_element).append(this.root);\n",
        "\n",
        "    this._init_header(this);\n",
        "    this._init_canvas(this);\n",
        "    this._init_toolbar(this);\n",
        "\n",
        "    var fig = this;\n",
        "\n",
        "    this.waiting = false;\n",
        "\n",
        "    this.ws.onopen =  function () {\n",
        "            fig.send_message(\"supports_binary\", {value: fig.supports_binary});\n",
        "            fig.send_message(\"send_image_mode\", {});\n",
        "            fig.send_message(\"refresh\", {});\n",
        "        }\n",
        "\n",
        "    this.imageObj.onload = function() {\n",
        "            if (fig.image_mode == 'full') {\n",
        "                // Full images could contain transparency (where diff images\n",
        "                // almost always do), so we need to clear the canvas so that\n",
        "                // there is no ghosting.\n",
        "                fig.context.clearRect(0, 0, fig.canvas.width, fig.canvas.height);\n",
        "            }\n",
        "            fig.context.drawImage(fig.imageObj, 0, 0);\n",
        "            fig.waiting = false;\n",
        "        };\n",
        "\n",
        "    this.imageObj.onunload = function() {\n",
        "        this.ws.close();\n",
        "    }\n",
        "\n",
        "    this.ws.onmessage = this._make_on_message_function(this);\n",
        "\n",
        "    this.ondownload = ondownload;\n",
        "}\n",
        "\n",
        "mpl.figure.prototype._init_header = function() {\n",
        "    var titlebar = $(\n",
        "        '<div class=\"ui-dialog-titlebar ui-widget-header ui-corner-all ' +\n",
        "        'ui-helper-clearfix\"/>');\n",
        "    var titletext = $(\n",
        "        '<div class=\"ui-dialog-title\" style=\"width: 100%; ' +\n",
        "        'text-align: center; padding: 3px;\"/>');\n",
        "    titlebar.append(titletext)\n",
        "    this.root.append(titlebar);\n",
        "    this.header = titletext[0];\n",
        "}\n",
        "\n",
        "mpl.figure.prototype._init_canvas = function() {\n",
        "    var fig = this;\n",
        "\n",
        "    var canvas_div = $('<div/>');\n",
        "    canvas_div.resizable({ resize: mpl.debounce_resize(\n",
        "        function(event, ui) { fig.request_resize(ui.size.width, ui.size.height); }\n",
        "        , 50)});\n",
        "\n",
        "    canvas_div.attr('style', 'position: relative; clear: both;');\n",
        "    this.root.append(canvas_div);\n",
        "\n",
        "    var canvas = $('<canvas/>');\n",
        "    canvas.addClass('mpl-canvas');\n",
        "    canvas.attr('style', \"left: 0; top: 0; z-index: 0;\")\n",
        "\n",
        "    function canvas_keyboard_event(event) {\n",
        "        return fig.key_event(event, event['data']);\n",
        "    }\n",
        "\n",
        "    this.canvas = canvas[0];\n",
        "    this.context = canvas[0].getContext(\"2d\");\n",
        "\n",
        "    var rubberband = $('<canvas/>');\n",
        "    rubberband.attr('style', \"position: absolute; left: 0; top: 0; z-index: 1;\")\n",
        "    function mouse_event_fn(event) {\n",
        "        return fig.mouse_event(event, event['data']);\n",
        "    }\n",
        "    rubberband.mousedown('button_press', mouse_event_fn);\n",
        "    rubberband.mouseup('button_release', mouse_event_fn);\n",
        "    // Throttle sequential mouse events to 1 every 20ms.\n",
        "    rubberband.mousemove('motion_notify', mouse_event_fn);\n",
        "\n",
        "    canvas_div.append(canvas);\n",
        "    canvas_div.append(rubberband);\n",
        "\n",
        "    canvas_div.keydown('key_press', canvas_keyboard_event);\n",
        "    canvas_div.keydown('key_release', canvas_keyboard_event);\n",
        "\n",
        "    this.rubberband = rubberband;\n",
        "    this.rubberband_canvas = rubberband[0];\n",
        "    this.rubberband_context = rubberband[0].getContext(\"2d\");\n",
        "    this.rubberband_context.strokeStyle = \"#000000\";\n",
        "\n",
        "    this._resize_canvas = function(width, height) {\n",
        "        // Keep the size of the canvas, canvas container, and rubber band\n",
        "        // canvas in synch.\n",
        "        canvas_div.css('width', width)\n",
        "        canvas_div.css('height', height)\n",
        "\n",
        "        canvas.attr('width', width);\n",
        "        canvas.attr('height', height);\n",
        "\n",
        "        rubberband.attr('width', width);\n",
        "        rubberband.attr('height', height);\n",
        "    }\n",
        "\n",
        "    // Set the figure to an initial 600x600px, this will subsequently be updated\n",
        "    // upon first draw.\n",
        "    this._resize_canvas(600, 600);\n",
        "}\n",
        "\n",
        "mpl.figure.prototype._init_toolbar = function() {\n",
        "    var fig = this;\n",
        "\n",
        "    var nav_element = $('<div/>')\n",
        "    nav_element.attr('style', 'width: 100%');\n",
        "    this.root.append(nav_element);\n",
        "\n",
        "    // Define a callback function for later on.\n",
        "    function toolbar_event(event) {\n",
        "        return fig.toolbar_button_onclick(event['data']);\n",
        "    }\n",
        "    function toolbar_mouse_event(event) {\n",
        "        return fig.toolbar_button_onmouseover(event['data']);\n",
        "    }\n",
        "\n",
        "    for(var toolbar_ind in mpl.toolbar_items){\n",
        "        var name = mpl.toolbar_items[toolbar_ind][0];\n",
        "        var tooltip = mpl.toolbar_items[toolbar_ind][1];\n",
        "        var image = mpl.toolbar_items[toolbar_ind][2];\n",
        "        var method_name = mpl.toolbar_items[toolbar_ind][3];\n",
        "\n",
        "        if (!name) {\n",
        "            // put a spacer in here.\n",
        "            continue;\n",
        "        }\n",
        "        var button = $('<button/>');\n",
        "        button.addClass('ui-button ui-widget ui-state-default ui-corner-all ' +\n",
        "                        'ui-button-icon-only');\n",
        "        button.attr('role', 'button');\n",
        "        button.attr('aria-disabled', 'false');\n",
        "        button.click(method_name, toolbar_event);\n",
        "        button.mouseover(tooltip, toolbar_mouse_event);\n",
        "\n",
        "        var icon_img = $('<span/>');\n",
        "        icon_img.addClass('ui-button-icon-primary ui-icon');\n",
        "        icon_img.addClass(image);\n",
        "        icon_img.addClass('ui-corner-all');\n",
        "\n",
        "        var tooltip_span = $('<span/>');\n",
        "        tooltip_span.addClass('ui-button-text');\n",
        "        tooltip_span.html(tooltip);\n",
        "\n",
        "        button.append(icon_img);\n",
        "        button.append(tooltip_span);\n",
        "\n",
        "        nav_element.append(button);\n",
        "    }\n",
        "\n",
        "    var fmt_picker_span = $('<span/>');\n",
        "\n",
        "    var fmt_picker = $('<select/>');\n",
        "    fmt_picker.addClass('mpl-toolbar-option ui-widget ui-widget-content');\n",
        "    fmt_picker_span.append(fmt_picker);\n",
        "    nav_element.append(fmt_picker_span);\n",
        "    this.format_dropdown = fmt_picker[0];\n",
        "\n",
        "    for (var ind in mpl.extensions) {\n",
        "        var fmt = mpl.extensions[ind];\n",
        "        var option = $(\n",
        "            '<option/>', {selected: fmt === mpl.default_extension}).html(fmt);\n",
        "        fmt_picker.append(option)\n",
        "    }\n",
        "\n",
        "    // Add hover states to the ui-buttons\n",
        "    $( \".ui-button\" ).hover(\n",
        "        function() { $(this).addClass(\"ui-state-hover\");},\n",
        "        function() { $(this).removeClass(\"ui-state-hover\");}\n",
        "    );\n",
        "\n",
        "    var status_bar = $('<span class=\"mpl-message\"/>');\n",
        "    nav_element.append(status_bar);\n",
        "    this.message = status_bar[0];\n",
        "}\n",
        "\n",
        "mpl.figure.prototype.request_resize = function(x_pixels, y_pixels) {\n",
        "    // Request matplotlib to resize the figure. Matplotlib will then trigger a resize in the client,\n",
        "    // which will in turn request a refresh of the image.\n",
        "    this.send_message('resize', {'width': x_pixels, 'height': y_pixels});\n",
        "}\n",
        "\n",
        "mpl.figure.prototype.send_message = function(type, properties) {\n",
        "    properties['type'] = type;\n",
        "    properties['figure_id'] = this.id;\n",
        "    this.ws.send(JSON.stringify(properties));\n",
        "}\n",
        "\n",
        "mpl.figure.prototype.send_draw_message = function() {\n",
        "    if (!this.waiting) {\n",
        "        this.waiting = true;\n",
        "        this.ws.send(JSON.stringify({type: \"draw\", figure_id: this.id}));\n",
        "    }\n",
        "}\n",
        "\n",
        "mpl.figure.prototype.handle_resize = function(fig, msg) {\n",
        "    var size = msg['size'];\n",
        "    if (size[0] != fig.canvas.width || size[1] != fig.canvas.height) {\n",
        "        fig._resize_canvas(size[0], size[1]);\n",
        "        fig.send_message(\"refresh\", {});\n",
        "    };\n",
        "}\n",
        "\n",
        "mpl.figure.prototype.handle_rubberband = function(fig, msg) {\n",
        "    var x0 = msg['x0'];\n",
        "    var y0 = fig.canvas.height - msg['y0'];\n",
        "    var x1 = msg['x1'];\n",
        "    var y1 = fig.canvas.height - msg['y1'];\n",
        "    x0 = Math.floor(x0) + 0.5;\n",
        "    y0 = Math.floor(y0) + 0.5;\n",
        "    x1 = Math.floor(x1) + 0.5;\n",
        "    y1 = Math.floor(y1) + 0.5;\n",
        "    var min_x = Math.min(x0, x1);\n",
        "    var min_y = Math.min(y0, y1);\n",
        "    var width = Math.abs(x1 - x0);\n",
        "    var height = Math.abs(y1 - y0);\n",
        "\n",
        "    fig.rubberband_context.clearRect(\n",
        "        0, 0, fig.canvas.width, fig.canvas.height);\n",
        "\n",
        "    fig.rubberband_context.strokeRect(min_x, min_y, width, height);\n",
        "}\n",
        "\n",
        "mpl.figure.prototype.handle_figure_label = function(fig, msg) {\n",
        "    // Updates the figure title.\n",
        "    fig.header.textContent = msg['label'];\n",
        "}\n",
        "\n",
        "mpl.figure.prototype.handle_cursor = function(fig, msg) {\n",
        "    var cursor = msg['cursor'];\n",
        "    switch(cursor)\n",
        "    {\n",
        "    case 0:\n",
        "        cursor = 'pointer';\n",
        "        break;\n",
        "    case 1:\n",
        "        cursor = 'default';\n",
        "        break;\n",
        "    case 2:\n",
        "        cursor = 'crosshair';\n",
        "        break;\n",
        "    case 3:\n",
        "        cursor = 'move';\n",
        "        break;\n",
        "    }\n",
        "    fig.rubberband_canvas.style.cursor = cursor;\n",
        "}\n",
        "\n",
        "mpl.figure.prototype.handle_message = function(fig, msg) {\n",
        "    fig.message.textContent = msg['message'];\n",
        "}\n",
        "\n",
        "mpl.figure.prototype.handle_draw = function(fig, msg) {\n",
        "    // Request the server to send over a new figure.\n",
        "    fig.send_draw_message();\n",
        "}\n",
        "\n",
        "mpl.figure.prototype.handle_image_mode = function(fig, msg) {\n",
        "    fig.image_mode = msg['mode'];\n",
        "}\n",
        "\n",
        "mpl.figure.prototype.updated_canvas_event = function() {\n",
        "    // Called whenever the canvas gets updated.\n",
        "    this.send_message(\"ack\", {});\n",
        "}\n",
        "\n",
        "// A function to construct a web socket function for onmessage handling.\n",
        "// Called in the figure constructor.\n",
        "mpl.figure.prototype._make_on_message_function = function(fig) {\n",
        "    return function socket_on_message(evt) {\n",
        "        if (evt.data instanceof Blob) {\n",
        "            /* FIXME: We get \"Resource interpreted as Image but\n",
        "             * transferred with MIME type text/plain:\" errors on\n",
        "             * Chrome.  But how to set the MIME type?  It doesn't seem\n",
        "             * to be part of the websocket stream */\n",
        "            evt.data.type = \"image/png\";\n",
        "\n",
        "            /* Free the memory for the previous frames */\n",
        "            if (fig.imageObj.src) {\n",
        "                (window.URL || window.webkitURL).revokeObjectURL(\n",
        "                    fig.imageObj.src);\n",
        "            }\n",
        "\n",
        "            fig.imageObj.src = (window.URL || window.webkitURL).createObjectURL(\n",
        "                evt.data);\n",
        "            fig.updated_canvas_event();\n",
        "            return;\n",
        "        }\n",
        "        else if (typeof evt.data === 'string' && evt.data.slice(0, 21) == \"data:image/png;base64\") {\n",
        "            fig.imageObj.src = evt.data;\n",
        "            fig.updated_canvas_event();\n",
        "            return;\n",
        "        }\n",
        "\n",
        "        var msg = JSON.parse(evt.data);\n",
        "        var msg_type = msg['type'];\n",
        "\n",
        "        // Call the  \"handle_{type}\" callback, which takes\n",
        "        // the figure and JSON message as its only arguments.\n",
        "        try {\n",
        "            var callback = fig[\"handle_\" + msg_type];\n",
        "        } catch (e) {\n",
        "            console.log(\"No handler for the '\" + msg_type + \"' message type: \", msg);\n",
        "            return;\n",
        "        }\n",
        "\n",
        "        if (callback) {\n",
        "            try {\n",
        "                // console.log(\"Handling '\" + msg_type + \"' message: \", msg);\n",
        "                callback(fig, msg);\n",
        "            } catch (e) {\n",
        "                console.log(\"Exception inside the 'handler_\" + msg_type + \"' callback:\", e, e.stack, msg);\n",
        "            }\n",
        "        }\n",
        "    };\n",
        "}\n",
        "\n",
        "// from http://stackoverflow.com/questions/1114465/getting-mouse-location-in-canvas\n",
        "mpl.findpos = function(e) {\n",
        "    //this section is from http://www.quirksmode.org/js/events_properties.html\n",
        "    var targ;\n",
        "    if (!e)\n",
        "        e = window.event;\n",
        "    if (e.target)\n",
        "        targ = e.target;\n",
        "    else if (e.srcElement)\n",
        "        targ = e.srcElement;\n",
        "    if (targ.nodeType == 3) // defeat Safari bug\n",
        "        targ = targ.parentNode;\n",
        "\n",
        "    // jQuery normalizes the pageX and pageY\n",
        "    // pageX,Y are the mouse positions relative to the document\n",
        "    // offset() returns the position of the element relative to the document\n",
        "    var x = e.pageX - $(targ).offset().left;\n",
        "    var y = e.pageY - $(targ).offset().top;\n",
        "\n",
        "    return {\"x\": x, \"y\": y};\n",
        "};\n",
        "\n",
        "mpl.figure.prototype.mouse_event = function(event, name) {\n",
        "    var canvas_pos = mpl.findpos(event)\n",
        "\n",
        "    if (this.focus_on_mouseover && name === 'motion_notify')\n",
        "    {\n",
        "        this.canvas.focus();\n",
        "    }\n",
        "\n",
        "    var x = canvas_pos.x;\n",
        "    var y = canvas_pos.y;\n",
        "\n",
        "    this.send_message(name, {x: x, y: y, button: event.button});\n",
        "\n",
        "    /* This prevents the web browser from automatically changing to\n",
        "     * the text insertion cursor when the button is pressed.  We want\n",
        "     * to control all of the cursor setting manually through the\n",
        "     * 'cursor' event from matplotlib */\n",
        "    event.preventDefault();\n",
        "    return false;\n",
        "}\n",
        "\n",
        "mpl.figure.prototype.key_event = function(event, name) {\n",
        "    /* Don't fire events just when a modifier is changed.  Modifiers are\n",
        "       sent along with other keys. */\n",
        "    if (event.keyCode >= 16 && event.keyCode <= 20) {\n",
        "        return;\n",
        "    }\n",
        "\n",
        "    value = '';\n",
        "    if (event.ctrlKey) {\n",
        "        value += \"ctrl+\";\n",
        "    }\n",
        "    if (event.altKey) {\n",
        "        value += \"alt+\";\n",
        "    }\n",
        "    value += String.fromCharCode(event.keyCode).toLowerCase();\n",
        "\n",
        "    this.send_message(name, {key: value});\n",
        "}\n",
        "\n",
        "mpl.figure.prototype.toolbar_button_onclick = function(name) {\n",
        "    if (name == 'download') {\n",
        "        var format_dropdown = this.format_dropdown;\n",
        "        var format = format_dropdown.options[format_dropdown.selectedIndex].value;\n",
        "        this.ondownload(this, format);\n",
        "    } else {\n",
        "        this.send_message(\"toolbar_button\", {name: name});\n",
        "    }\n",
        "};\n",
        "\n",
        "mpl.figure.prototype.toolbar_button_onmouseover = function(tooltip) {\n",
        "    this.message.textContent = tooltip;\n",
        "};\n",
        "\n",
        "mpl.debounce_event = function(func, time){\n",
        "    var timer;\n",
        "    return function(event){\n",
        "        clearTimeout(timer);\n",
        "        timer = setTimeout(function(){ func(event); }, time);\n",
        "    };\n",
        "}\n",
        "\n",
        "mpl.debounce_resize = function(func, time){\n",
        "    var timer;\n",
        "    return function(event, ui){\n",
        "        clearTimeout(timer);\n",
        "        timer = setTimeout(function(){ func(event, ui); }, time);\n",
        "    };\n",
        "}\n",
        "mpl.toolbar_items = [[\"Home\", \"Reset original view\", \"fa fa-home icon-home\", \"home\"], [\"Back\", \"Back to  previous view\", \"fa fa-arrow-left icon-arrow-left\", \"back\"], [\"Forward\", \"Forward to next view\", \"fa fa-arrow-right icon-arrow-right\", \"forward\"], [\"\", \"\", \"\", \"\"], [\"Pan\", \"Pan axes with left mouse, zoom with right\", \"fa fa-arrows icon-move\", \"pan\"], [\"Zoom\", \"Zoom to rectangle\", \"fa fa-square-o icon-check-empty\", \"zoom\"], [\"\", \"\", \"\", \"\"]];\n",
        "\n",
        "mpl.extensions = [\"eps\", \"jpeg\", \"pgf\", \"pdf\", \"png\", \"ps\", \"raw\", \"svg\", \"tif\"];\n",
        "\n",
        "mpl.default_extension = \"png\";var comm_websocket_adapter = function(comm) {\n",
        "    // Create a \"websocket\"-like object which calls the given IPython comm\n",
        "    // object with the appropriate methods. Currently this is a non binary\n",
        "    // socket, so there is still some room for performance tuning.\n",
        "    var ws = {};\n",
        "\n",
        "    ws.close = function() {\n",
        "        comm.close()\n",
        "    };\n",
        "    ws.send = function(m) {\n",
        "        //console.log('sending', m);\n",
        "        comm.send(m);\n",
        "    };\n",
        "    // Register the callback with on_msg.\n",
        "    comm.on_msg(function(msg) {\n",
        "        //console.log('receiving', msg['content']['data'], msg);\n",
        "        // Pass the mpl event to the overriden (by mpl) onmessage function.\n",
        "        ws.onmessage(msg['content']['data'])\n",
        "    });\n",
        "    return ws;\n",
        "}\n",
        "\n",
        "mpl.mpl_figure_comm = function(comm, msg) {\n",
        "    // This is the function which gets called when the mpl process\n",
        "    // starts-up an IPython Comm through the \"matplotlib\" channel.\n",
        "\n",
        "    var id = msg.content.data.id;\n",
        "    // Get hold of the div created by the display call when the Comm\n",
        "    // socket was opened in Python.\n",
        "    var element = $(\"#\" + id);\n",
        "    var ws_proxy = comm_websocket_adapter(comm)\n",
        "\n",
        "    var fig = new mpl.figure(id, ws_proxy,\n",
        "                           function() { },\n",
        "                           element.get(0));\n",
        "\n",
        "    // Call onopen now - mpl needs it, as it is assuming we've passed it a real\n",
        "    // web socket which is closed, not our websocket->open comm proxy.\n",
        "    ws_proxy.onopen();\n",
        "\n",
        "    fig.parent_element = element.get(0);\n",
        "    fig.cell_info = mpl.find_output_cell(\"<div id='\" + id + \"'></div>\");\n",
        "\n",
        "    var output_index = fig.cell_info[2]\n",
        "    var cell = fig.cell_info[0];\n",
        "\n",
        "    // Disable right mouse context menu.\n",
        "    $(fig.rubberband_canvas).bind(\"contextmenu\",function(e){\n",
        "        return false;\n",
        "    });\n",
        "\n",
        "};\n",
        "\n",
        "mpl.figure.prototype.handle_close = function(fig, msg) {\n",
        "    // Update the output cell to use the data from the current canvas.\n",
        "    fig.push_to_output();\n",
        "    var dataURL = fig.canvas.toDataURL();\n",
        "    // Re-enable the keyboard manager in IPython - without this line, in FF,\n",
        "    // the notebook keyboard shortcuts fail.\n",
        "    IPython.keyboard_manager.enable()\n",
        "    $(fig.parent_element).html('<img src=\"' + dataURL + '\">');\n",
        "    fig.send_message('closing', {});\n",
        "    fig.ws.close()\n",
        "}\n",
        "\n",
        "mpl.figure.prototype.push_to_output = function(remove_interactive) {\n",
        "    // Turn the data on the canvas into data in the output cell.\n",
        "    var dataURL = this.canvas.toDataURL();\n",
        "    this.cell_info[1]['text/html'] = '<img src=\"' + dataURL + '\">';\n",
        "}\n",
        "\n",
        "mpl.figure.prototype.updated_canvas_event = function() {\n",
        "    // Tell IPython that the notebook contents must change.\n",
        "    IPython.notebook.set_dirty(true);\n",
        "    this.send_message(\"ack\", {});\n",
        "    var fig = this;\n",
        "    // Wait a second, then push the new image to the DOM so\n",
        "    // that it is saved nicely (might be nice to debounce this).\n",
        "    setTimeout(function () { fig.push_to_output() }, 1000);\n",
        "}\n",
        "\n",
        "mpl.figure.prototype._init_toolbar = function() {\n",
        "    var fig = this;\n",
        "\n",
        "    var nav_element = $('<div/>')\n",
        "    nav_element.attr('style', 'width: 100%');\n",
        "    this.root.append(nav_element);\n",
        "\n",
        "    // Define a callback function for later on.\n",
        "    function toolbar_event(event) {\n",
        "        return fig.toolbar_button_onclick(event['data']);\n",
        "    }\n",
        "    function toolbar_mouse_event(event) {\n",
        "        return fig.toolbar_button_onmouseover(event['data']);\n",
        "    }\n",
        "\n",
        "    for(var toolbar_ind in mpl.toolbar_items){\n",
        "        var name = mpl.toolbar_items[toolbar_ind][0];\n",
        "        var tooltip = mpl.toolbar_items[toolbar_ind][1];\n",
        "        var image = mpl.toolbar_items[toolbar_ind][2];\n",
        "        var method_name = mpl.toolbar_items[toolbar_ind][3];\n",
        "\n",
        "        if (!name) { continue; };\n",
        "\n",
        "        var button = $('<button class=\"btn btn-default\" href=\"#\" title=\"' + name + '\"><i class=\"fa ' + image + ' fa-lg\"></i></button>');\n",
        "        button.click(method_name, toolbar_event);\n",
        "        button.mouseover(tooltip, toolbar_mouse_event);\n",
        "        nav_element.append(button);\n",
        "    }\n",
        "\n",
        "    // Add the status bar.\n",
        "    var status_bar = $('<span class=\"mpl-message\" style=\"text-align:right; float: right;\"/>');\n",
        "    nav_element.append(status_bar);\n",
        "    this.message = status_bar[0];\n",
        "\n",
        "    // Add the close button to the window.\n",
        "    var buttongrp = $('<div class=\"btn-group inline pull-right\"></div>');\n",
        "    var button = $('<button class=\"btn btn-mini btn-danger\" href=\"#\" title=\"Close figure\"><i class=\"fa fa-times icon-remove icon-large\"></i></button>');\n",
        "    button.click(function (evt) { fig.handle_close(fig, {}); } );\n",
        "    button.mouseover('Close figure', toolbar_mouse_event);\n",
        "    buttongrp.append(button);\n",
        "    var titlebar = this.root.find($('.ui-dialog-titlebar'));\n",
        "    titlebar.prepend(buttongrp);\n",
        "}\n",
        "\n",
        "mpl.find_output_cell = function(html_output) {\n",
        "    // Return the cell and output element which can be found *uniquely* in the notebook.\n",
        "    // Note - this is a bit hacky, but it is done because the \"notebook_saving.Notebook\"\n",
        "    // IPython event is triggered only after the cells have been serialised, which for\n",
        "    // our purposes (turning an active figure into a static one), is too late.\n",
        "    var cells = IPython.notebook.get_cells();\n",
        "    var ncells = cells.length;\n",
        "    for (var i=0; i<ncells; i++) {\n",
        "        var cell = cells[i];\n",
        "        if (cell.cell_type == 'code'){\n",
        "            for (var j=0; j<cell.output_area.outputs.length; j++) {\n",
        "                var data = cell.output_area.outputs[j];\n",
        "                if (cell.output_area.outputs[j]['text/html'] == html_output) {\n",
        "                    var output = cell.output_area.outputs[j];\n",
        "                    return [cell, output, j];\n",
        "                }\n",
        "            }\n",
        "        }\n",
        "    }\n",
        "}\n",
        "\n",
        "// Register the function which deals with the matplotlib target/channel.\n",
        "// The kernel may be null if the page has been refreshed.\n",
        "if (IPython.notebook.kernel != null) {\n",
        "    IPython.notebook.kernel.comm_manager.register_target('matplotlib', mpl.mpl_figure_comm);\n",
        "}\n"
       ],
       "metadata": {},
       "output_type": "display_data",
       "text": [
        "<IPython.core.display.Javascript at 0x7f15dd602050>"
       ]
      },
      {
       "html": [
        "<img src=\"data:image/png;base64,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\">"
       ],
       "metadata": {},
       "output_type": "display_data",
       "text": [
        "<IPython.core.display.HTML at 0x7f15de4acdd0>"
       ]
      },
      {
       "output_type": "stream",
       "stream": "stdout",
       "text": [
        "('it = ', 0, ', Max(u) = ', 0.0)\n",
        "('it = ', 20, ', Max(u) = ', 1.3055970977882737e-15)"
       ]
      },
      {
       "output_type": "stream",
       "stream": "stdout",
       "text": [
        "\n",
        "('it = ', 40, ', Max(u) = ', 6.7077804277431757e-15)"
       ]
      },
      {
       "output_type": "stream",
       "stream": "stdout",
       "text": [
        "\n",
        "('it = ', 60, ', Max(u) = ', 2.5301847108740499e-14)"
       ]
      },
      {
       "output_type": "stream",
       "stream": "stdout",
       "text": [
        "\n",
        "('it = ', 80, ', Max(u) = ', 8.5830291954381344e-14)"
       ]
      },
      {
       "output_type": "stream",
       "stream": "stdout",
       "text": [
        "\n",
        "('it = ', 100, ', Max(u) = ', 2.6996411661981166e-13)"
       ]
      },
      {
       "output_type": "stream",
       "stream": "stdout",
       "text": [
        "\n",
        "('it = ', 120, ', Max(u) = ', 7.9488031799455259e-13)"
       ]
      },
      {
       "output_type": "stream",
       "stream": "stdout",
       "text": [
        "\n",
        "('it = ', 140, ', Max(u) = ', 2.1959396327883015e-12)"
       ]
      },
      {
       "output_type": "stream",
       "stream": "stdout",
       "text": [
        "\n",
        "('it = ', 160, ', Max(u) = ', 5.6964240009032513e-12)"
       ]
      },
      {
       "output_type": "stream",
       "stream": "stdout",
       "text": [
        "\n",
        "('it = ', 180, ', Max(u) = ', 1.3877654614886884e-11)"
       ]
      },
      {
       "output_type": "stream",
       "stream": "stdout",
       "text": [
        "\n",
        "('it = ', 200, ', Max(u) = ', 3.1754077527290406e-11)"
       ]
      },
      {
       "output_type": "stream",
       "stream": "stdout",
       "text": [
        "\n",
        "('it = ', 220, ', Max(u) = ', 6.8243157109970155e-11)"
       ]
      },
      {
       "output_type": "stream",
       "stream": "stdout",
       "text": [
        "\n",
        "('it = ', 240, ', Max(u) = ', 1.3775241663075723e-10)"
       ]
      },
      {
       "output_type": "stream",
       "stream": "stdout",
       "text": [
        "\n",
        "('it = ', 260, ', Max(u) = ', 2.611679194968455e-10)"
       ]
      },
      {
       "output_type": "stream",
       "stream": "stdout",
       "text": [
        "\n",
        "('it = ', 280, ', Max(u) = ', 4.6507318683702287e-10)"
       ]
      },
      {
       "output_type": "stream",
       "stream": "stdout",
       "text": [
        "\n",
        "('it = ', 300, ', Max(u) = ', 7.7786338789288441e-10)"
       ]
      },
      {
       "output_type": "stream",
       "stream": "stdout",
       "text": [
        "\n",
        "('it = ', 320, ', Max(u) = ', 1.2219853483018917e-09)"
       ]
      },
      {
       "output_type": "stream",
       "stream": "stdout",
       "text": [
        "\n",
        "('it = ', 340, ', Max(u) = ', 1.8030565591546724e-09)"
       ]
      },
      {
       "output_type": "stream",
       "stream": "stdout",
       "text": [
        "\n",
        "('it = ', 360, ', Max(u) = ', 2.4988126703833098e-09)"
       ]
      },
      {
       "output_type": "stream",
       "stream": "stdout",
       "text": [
        "\n",
        "('it = ', 380, ', Max(u) = ', 3.2526659638524799e-09)"
       ]
      },
      {
       "output_type": "stream",
       "stream": "stdout",
       "text": [
        "\n",
        "('it = ', 400, ', Max(u) = ', 3.9767406882249862e-09)"
       ]
      },
      {
       "output_type": "stream",
       "stream": "stdout",
       "text": [
        "\n",
        "('it = ', 420, ', Max(u) = ', 4.5666512715182394e-09)"
       ]
      },
      {
       "output_type": "stream",
       "stream": "stdout",
       "text": [
        "\n",
        "('it = ', 440, ', Max(u) = ', 4.9255196100497908e-09)"
       ]
      },
      {
       "output_type": "stream",
       "stream": "stdout",
       "text": [
        "\n",
        "('it = ', 460, ', Max(u) = ', 4.9994262512255252e-09)"
       ]
      },
      {
       "output_type": "stream",
       "stream": "stdout",
       "text": [
        "\n",
        "('it = ', 480, ', Max(u) = ', 4.9974680676896473e-09)"
       ]
      },
      {
       "output_type": "stream",
       "stream": "stdout",
       "text": [
        "\n",
        "('it = ', 500, ', Max(u) = ', 4.9974624208773076e-09)"
       ]
      },
      {
       "output_type": "stream",
       "stream": "stdout",
       "text": [
        "\n",
        "('it = ', 520, ', Max(u) = ', 4.994934047732654e-09)"
       ]
      },
      {
       "output_type": "stream",
       "stream": "stdout",
       "text": [
        "\n",
        "('it = ', 540, ', Max(u) = ', 5.0000228482633045e-09)"
       ]
      },
      {
       "output_type": "stream",
       "stream": "stdout",
       "text": [
        "\n",
        "('it = ', 560, ', Max(u) = ', 5.0000223973853414e-09)"
       ]
      },
      {
       "output_type": "stream",
       "stream": "stdout",
       "text": [
        "\n",
        "('it = ', 580, ', Max(u) = ', 5.0000219213291619e-09)"
       ]
      },
      {
       "output_type": "stream",
       "stream": "stdout",
       "text": [
        "\n",
        "('it = ', 600, ', Max(u) = ', 4.9937000298626315e-09)"
       ]
      },
      {
       "output_type": "stream",
       "stream": "stdout",
       "text": [
        "\n",
        "('it = ', 620, ', Max(u) = ', 4.9982255462189965e-09)"
       ]
      },
      {
       "output_type": "stream",
       "stream": "stdout",
       "text": [
        "\n",
        "('it = ', 640, ', Max(u) = ', 4.998230281460449e-09)"
       ]
      },
      {
       "output_type": "stream",
       "stream": "stdout",
       "text": [
        "\n",
        "('it = ', 660, ', Max(u) = ', 4.9989543359408042e-09)"
       ]
      },
      {
       "output_type": "stream",
       "stream": "stdout",
       "text": [
        "\n",
        "('it = ', 680, ', Max(u) = ', 4.998950665167559e-09)"
       ]
      },
      {
       "output_type": "stream",
       "stream": "stdout",
       "text": [
        "\n",
        "('it = ', 700, ', Max(u) = ', 4.9920822458974388e-09)"
       ]
      },
      {
       "output_type": "stream",
       "stream": "stdout",
       "text": [
        "\n",
        "('it = ', 720, ', Max(u) = ', 4.9998503955593607e-09)"
       ]
      },
      {
       "output_type": "stream",
       "stream": "stdout",
       "text": [
        "\n",
        "('it = ', 740, ', Max(u) = ', 4.9998519231697451e-09)"
       ]
      },
      {
       "output_type": "stream",
       "stream": "stdout",
       "text": [
        "\n",
        "('it = ', 760, ', Max(u) = ', 4.9998534256339315e-09)"
       ]
      },
      {
       "output_type": "stream",
       "stream": "stdout",
       "text": [
        "\n",
        "('it = ', 780, ', Max(u) = ', 4.9962120385203828e-09)"
       ]
      },
      {
       "output_type": "stream",
       "stream": "stdout",
       "text": [
        "\n",
        "('it = ', 800, ', Max(u) = ', 4.9963968240417452e-09)"
       ]
      },
      {
       "output_type": "stream",
       "stream": "stdout",
       "text": [
        "\n",
        "('it = ', 820, ', Max(u) = ', 4.9964035326612034e-09)"
       ]
      },
      {
       "output_type": "stream",
       "stream": "stdout",
       "text": [
        "\n",
        "('it = ', 840, ', Max(u) = ', 4.9998095846805578e-09)"
       ]
      },
      {
       "output_type": "stream",
       "stream": "stdout",
       "text": [
        "\n",
        "('it = ', 860, ', Max(u) = ', 4.9998078608804948e-09)"
       ]
      },
      {
       "output_type": "stream",
       "stream": "stdout",
       "text": [
        "\n",
        "('it = ', 880, ', Max(u) = ', 4.991813070785421e-09)"
       ]
      },
      {
       "output_type": "stream",
       "stream": "stdout",
       "text": [
        "\n",
        "('it = ', 900, ', Max(u) = ', 4.9990466293664343e-09)"
       ]
      },
      {
       "output_type": "stream",
       "stream": "stdout",
       "text": [
        "\n",
        "('it = ', 920, ', Max(u) = ', 4.9990501274585839e-09)"
       ]
      },
      {
       "output_type": "stream",
       "stream": "stdout",
       "text": [
        "\n",
        "('it = ', 940, ', Max(u) = ', 4.9990535982002017e-09)"
       ]
      },
      {
       "output_type": "stream",
       "stream": "stdout",
       "text": [
        "\n",
        "('it = ', 960, ', Max(u) = ', 4.9980941071256015e-09)"
       ]
      },
      {
       "output_type": "stream",
       "stream": "stdout",
       "text": [
        "\n",
        "('it = ', 980, ', Max(u) = ', 4.9980891540596219e-09)"
       ]
      },
      {
       "output_type": "stream",
       "stream": "stdout",
       "text": [
        "\n",
        "('it = ', 1000, ', Max(u) = ', 4.9939467412572621e-09)"
       ]
      },
      {
       "output_type": "stream",
       "stream": "stdout",
       "text": [
        "\n",
        "('it = ', 1020, ', Max(u) = ', 5.0000334847897425e-09)"
       ]
      },
      {
       "output_type": "stream",
       "stream": "stdout",
       "text": [
        "\n",
        "('it = ', 1040, ', Max(u) = ', 5.0000337444327172e-09)"
       ]
      },
      {
       "output_type": "stream",
       "stream": "stdout",
       "text": [
        "\n",
        "('it = ', 1060, ', Max(u) = ', 4.9947180766095372e-09)"
       ]
      },
      {
       "output_type": "stream",
       "stream": "stdout",
       "text": [
        "\n",
        "('it = ', 1080, ', Max(u) = ', 4.9976117728934748e-09)"
       ]
      },
      {
       "output_type": "stream",
       "stream": "stdout",
       "text": [
        "\n",
        "('it = ', 1100, ', Max(u) = ', 4.9976172429043908e-09)"
       ]
      },
      {
       "output_type": "stream",
       "stream": "stdout",
       "text": [
        "\n",
        "('it = ', 1120, ', Max(u) = ', 4.9993484086898086e-09)"
       ]
      },
      {
       "output_type": "stream",
       "stream": "stdout",
       "text": [
        "\n",
        "('it = ', 1140, ', Max(u) = ', 4.9993454546461973e-09)"
       ]
      },
      {
       "output_type": "stream",
       "stream": "stdout",
       "text": [
        "\n",
        "('it = ', 1160, ', Max(u) = ', 4.9993424736560013e-09)"
       ]
      },
      {
       "output_type": "stream",
       "stream": "stdout",
       "text": [
        "\n",
        "('it = ', 1180, ', Max(u) = ', 4.9908607863469432e-09)"
       ]
      },
      {
       "output_type": "stream",
       "stream": "stdout",
       "text": [
        "\n",
        "('it = ', 1200, ', Max(u) = ', 4.999625938220355e-09)"
       ]
      },
      {
       "output_type": "stream",
       "stream": "stdout",
       "text": [
        "\n",
        "('it = ', 1220, ', Max(u) = ', 4.9996281721946387e-09)"
       ]
      },
      {
       "output_type": "stream",
       "stream": "stdout",
       "text": [
        "\n",
        "('it = ', 1240, ', Max(u) = ', 4.9969936561637823e-09)"
       ]
      },
      {
       "output_type": "stream",
       "stream": "stdout",
       "text": [
        "\n",
        "('it = ', 1260, ', Max(u) = ', 4.9969874681682001e-09)"
       ]
      },
      {
       "output_type": "stream",
       "stream": "stdout",
       "text": [
        "\n",
        "('it = ', 1280, ', Max(u) = ', 4.9955538231037564e-09)"
       ]
      },
      {
       "output_type": "stream",
       "stream": "stdout",
       "text": [
        "\n",
        "('it = ', 1300, ', Max(u) = ', 4.9999665984591728e-09)"
       ]
      },
      {
       "output_type": "stream",
       "stream": "stdout",
       "text": [
        "\n",
        "('it = ', 1320, ', Max(u) = ', 4.999965619232476e-09)"
       ]
      },
      {
       "output_type": "stream",
       "stream": "stdout",
       "text": [
        "\n",
        "('it = ', 1340, ', Max(u) = ', 4.9999646128723039e-09)"
       ]
      },
      {
       "output_type": "stream",
       "stream": "stdout",
       "text": [
        "\n",
        "('it = ', 1360, ', Max(u) = ', 4.9929671032374086e-09)"
       ]
      },
      {
       "output_type": "stream",
       "stream": "stdout",
       "text": [
        "\n",
        "('it = ', 1380, ', Max(u) = ', 4.9985871124874383e-09)"
       ]
      },
      {
       "output_type": "stream",
       "stream": "stdout",
       "text": [
        "\n",
        "('it = ', 1400, ', Max(u) = ', 4.9985913202658483e-09)"
       ]
      },
      {
       "output_type": "stream",
       "stream": "stdout",
       "text": [
        "\n",
        "('it = ', 1420, ', Max(u) = ', 4.9986389517308271e-09)"
       ]
      },
      {
       "output_type": "stream",
       "stream": "stdout",
       "text": [
        "\n",
        "('it = ', 1440, ', Max(u) = ', 4.9986347336288723e-09)"
       ]
      },
      {
       "output_type": "stream",
       "stream": "stdout",
       "text": [
        "\n",
        "('it = ', 1460, ', Max(u) = ', 4.9928606687508212e-09)"
       ]
      },
      {
       "output_type": "stream",
       "stream": "stdout",
       "text": [
        "\n",
        "('it = ', 1480, ', Max(u) = ', 4.9999533932262644e-09)"
       ]
      },
      {
       "output_type": "stream",
       "stream": "stdout",
       "text": [
        "\n",
        "('it = ', 1500, ', Max(u) = ', 4.9999543899617336e-09)"
       ]
      },
      {
       "output_type": "stream",
       "stream": "stdout",
       "text": [
        "\n",
        "('it = ', 1520, ', Max(u) = ', 4.9999553595098498e-09)"
       ]
      },
      {
       "output_type": "stream",
       "stream": "stdout",
       "text": [
        "\n",
        "('it = ', 1540, ', Max(u) = ', 4.9956378301771726e-09)"
       ]
      },
      {
       "output_type": "stream",
       "stream": "stdout",
       "text": [
        "\n",
        "('it = ', 1560, ', Max(u) = ', 4.9969174052437189e-09)"
       ]
      },
      {
       "output_type": "stream",
       "stream": "stdout",
       "text": [
        "\n",
        "('it = ', 1580, ', Max(u) = ', 4.9969235831732608e-09)"
       ]
      },
      {
       "output_type": "stream",
       "stream": "stdout",
       "text": [
        "\n",
        "('it = ', 1600, ', Max(u) = ', 4.9996533537774986e-09)"
       ]
      },
      {
       "output_type": "stream",
       "stream": "stdout",
       "text": [
        "\n",
        "('it = ', 1620, ', Max(u) = ', 4.9996511092789619e-09)"
       ]
      },
      {
       "output_type": "stream",
       "stream": "stdout",
       "text": [
        "\n",
        "('it = ', 1640, ', Max(u) = ', 4.9909811438325467e-09)"
       ]
      },
      {
       "output_type": "stream",
       "stream": "stdout",
       "text": [
        "\n",
        "('it = ', 1660, ', Max(u) = ', 4.9993087998524291e-09)"
       ]
      },
      {
       "output_type": "stream",
       "stream": "stdout",
       "text": [
        "\n",
        "('it = ', 1680, ', Max(u) = ', 4.9993117716180095e-09)"
       ]
      },
      {
       "output_type": "stream",
       "stream": "stdout",
       "text": [
        "\n",
        "('it = ', 1700, ', Max(u) = ', 4.9993147161810094e-09)"
       ]
      },
      {
       "output_type": "stream",
       "stream": "stdout",
       "text": [
        "\n",
        "('it = ', 1720, ', Max(u) = ', 4.9976788085206929e-09)"
       ]
      },
      {
       "output_type": "stream",
       "stream": "stdout",
       "text": [
        "\n",
        "('it = ', 1740, ', Max(u) = ', 4.9976733294287018e-09)"
       ]
      },
      {
       "output_type": "stream",
       "stream": "stdout",
       "text": [
        "\n",
        "('it = ', 1760, ', Max(u) = ', 4.9946255813933124e-09)"
       ]
      },
      {
       "output_type": "stream",
       "stream": "stdout",
       "text": [
        "\n",
        "('it = ', 1780, ', Max(u) = ', 5.0000364768241878e-09)"
       ]
      },
      {
       "output_type": "stream",
       "stream": "stdout",
       "text": [
        "\n",
        "('it = ', 1800, ', Max(u) = ', 5.0000362078105852e-09)"
       ]
      },
      {
       "output_type": "stream",
       "stream": "stdout",
       "text": [
        "\n",
        "('it = ', 1820, ', Max(u) = ', 4.9940446870570488e-09)"
       ]
      },
      {
       "output_type": "stream",
       "stream": "stdout",
       "text": [
        "\n",
        "('it = ', 1840, ', Max(u) = ', 4.9980330480560785e-09)"
       ]
      },
      {
       "output_type": "stream",
       "stream": "stdout",
       "text": [
        "\n",
        "('it = ', 1860, ', Max(u) = ', 4.9980379920696905e-09)"
       ]
      },
      {
       "output_type": "stream",
       "stream": "stdout",
       "text": [
        "\n",
        "('it = ', 1880, ', Max(u) = ', 4.9990927403909766e-09)"
       ]
      },
      {
       "output_type": "stream",
       "stream": "stdout",
       "text": [
        "\n",
        "('it = ', 1900, ', Max(u) = ', 4.9990892593825808e-09)"
       ]
      },
      {
       "output_type": "stream",
       "stream": "stdout",
       "text": [
        "\n",
        "('it = ', 1920, ', Max(u) = ', 4.9990857513995051e-09)"
       ]
      },
      {
       "output_type": "stream",
       "stream": "stdout",
       "text": [
        "\n",
        "('it = ', 1940, ', Max(u) = ', 4.9916981686370995e-09)"
       ]
      },
      {
       "output_type": "stream",
       "stream": "stdout",
       "text": [
        "\n",
        "('it = ', 1960, ', Max(u) = ', 4.9997881670561305e-09)"
       ]
      },
      {
       "output_type": "stream",
       "stream": "stdout",
       "text": [
        "\n",
        "('it = ', 1980, ', Max(u) = ', 4.9997898736527434e-09)"
       ]
      },
      {
       "output_type": "stream",
       "stream": "stdout",
       "text": [
        "\n",
        "('it = ', 2000, ', Max(u) = ', 4.9964790732184554e-09)"
       ]
      },
      {
       "output_type": "stream",
       "stream": "stdout",
       "text": [
        "\n",
        "('it = ', 2020, ', Max(u) = ', 4.9964723599855893e-09)"
       ]
      },
      {
       "output_type": "stream",
       "stream": "stdout",
       "text": [
        "\n",
        "('it = ', 2040, ', Max(u) = ', 4.9961335183716219e-09)"
       ]
      },
      {
       "output_type": "stream",
       "stream": "stdout",
       "text": [
        "\n",
        "('it = ', 2060, ', Max(u) = ', 4.9998701455110431e-09)"
       ]
      },
      {
       "output_type": "stream",
       "stream": "stdout",
       "text": [
        "\n",
        "('it = ', 2080, ', Max(u) = ', 4.9998686386134937e-09)"
       ]
      },
      {
       "output_type": "stream",
       "stream": "stdout",
       "text": [
        "\n",
        "('it = ', 2100, ', Max(u) = ', 4.9998671046238196e-09)"
       ]
      },
      {
       "output_type": "stream",
       "stream": "stdout",
       "text": [
        "\n",
        "('it = ', 2120, ', Max(u) = ', 4.9921941464255499e-09)"
       ]
      },
      {
       "output_type": "stream",
       "stream": "stdout",
       "text": [
        "\n",
        "('it = ', 2140, ', Max(u) = ', 4.9989085099743651e-09)"
       ]
      },
      {
       "output_type": "stream",
       "stream": "stdout",
       "text": [
        "\n",
        "('it = ', 2160, ', Max(u) = ', 4.9989121906833414e-09)"
       ]
      },
      {
       "output_type": "stream",
       "stream": "stdout",
       "text": [
        "\n",
        "('it = ', 2180, ', Max(u) = ', 4.998283377409195e-09)"
       ]
      },
      {
       "output_type": "stream",
       "stream": "stdout",
       "text": [
        "\n",
        "('it = ', 2200, ', Max(u) = ', 4.9982786325277681e-09)"
       ]
      },
      {
       "output_type": "stream",
       "stream": "stdout",
       "text": [
        "\n",
        "('it = ', 2220, ', Max(u) = ', 4.9935990618542529e-09)"
       ]
      },
      {
       "output_type": "stream",
       "stream": "stdout",
       "text": [
        "\n",
        "('it = ', 2240, ', Max(u) = ', 5.0000161760990681e-09)"
       ]
      },
      {
       "output_type": "stream",
       "stream": "stdout",
       "text": [
        "\n",
        "('it = ', 2260, ', Max(u) = ', 5.0000166445855963e-09)"
       ]
      },
      {
       "output_type": "stream",
       "stream": "stdout",
       "text": [
        "\n",
        "('it = ', 2280, ', Max(u) = ', 5.0000170859187048e-09)"
       ]
      },
      {
       "output_type": "stream",
       "stream": "stdout",
       "text": [
        "\n",
        "('it = ', 2300, ', Max(u) = ', 4.9950235209792089e-09)"
       ]
      },
      {
       "output_type": "stream",
       "stream": "stdout",
       "text": [
        "\n",
        "('it = ', 2320, ', Max(u) = ', 4.9973978326768183e-09)"
       ]
      },
      {
       "output_type": "stream",
       "stream": "stdout",
       "text": [
        "\n",
        "('it = ', 2340, ', Max(u) = ', 4.9974034844111903e-09)"
       ]
      },
      {
       "output_type": "stream",
       "stream": "stdout",
       "text": [
        "\n",
        "('it = ', 2360, ', Max(u) = ', 4.9994569145802518e-09)"
       ]
      },
      {
       "output_type": "stream",
       "stream": "stdout",
       "text": [
        "\n",
        "('it = ', 2380, ', Max(u) = ', 4.9994541421719049e-09)"
       ]
      },
      {
       "output_type": "stream",
       "stream": "stdout",
       "text": [
        "\n",
        "('it = ', 2400, ', Max(u) = ', 4.990435575442381e-09)"
       ]
      },
      {
       "output_type": "stream",
       "stream": "stdout",
       "text": [
        "\n",
        "('it = ', 2420, ', Max(u) = ', 4.9995307748916607e-09)"
       ]
      },
      {
       "output_type": "stream",
       "stream": "stdout",
       "text": [
        "\n",
        "('it = ', 2440, ', Max(u) = ', 4.9995332184764755e-09)"
       ]
      },
      {
       "output_type": "stream",
       "stream": "stdout",
       "text": [
        "\n",
        "('it = ', 2460, ', Max(u) = ', 4.9995356349022508e-09)"
       ]
      },
      {
       "output_type": "stream",
       "stream": "stdout",
       "text": [
        "\n",
        "('it = ', 2480, ', Max(u) = ', 4.9972233669189646e-09)"
       ]
      },
      {
       "output_type": "stream",
       "stream": "stdout",
       "text": [
        "\n",
        "('it = ', 2500, ', Max(u) = ', 4.9972173611870973e-09)"
       ]
      },
      {
       "output_type": "stream",
       "stream": "stdout",
       "text": [
        "\n",
        "('it = ', 2520, ', Max(u) = ', 4.9952643202651658e-09)"
       ]
      },
      {
       "output_type": "stream",
       "stream": "stdout",
       "text": [
        "\n",
        "('it = ', 2540, ', Max(u) = ', 4.9999992398071338e-09)"
       ]
      },
      {
       "output_type": "stream",
       "stream": "stdout",
       "text": [
        "\n",
        "('it = ', 2560, ', Max(u) = ', 4.9999984423851817e-09)"
       ]
      },
      {
       "output_type": "stream",
       "stream": "stdout",
       "text": [
        "\n",
        "('it = ', 2580, ', Max(u) = ', 4.9933312320442376e-09)"
       ]
      },
      {
       "output_type": "stream",
       "stream": "stdout",
       "text": [
        "\n",
        "('it = ', 2600, ', Max(u) = ', 4.9984141245964041e-09)"
       ]
      },
      {
       "output_type": "stream",
       "stream": "stdout",
       "text": [
        "\n",
        "('it = ', 2620, ', Max(u) = ', 4.9984185413652971e-09)"
       ]
      },
      {
       "output_type": "stream",
       "stream": "stdout",
       "text": [
        "\n",
        "('it = ', 2640, ', Max(u) = ', 4.9987968628071865e-09)"
       ]
      },
      {
       "output_type": "stream",
       "stream": "stdout",
       "text": [
        "\n",
        "('it = ', 2660, ', Max(u) = ', 4.9987928539065275e-09)"
       ]
      },
      {
       "output_type": "stream",
       "stream": "stdout",
       "text": [
        "\n",
        "('it = ', 2680, ', Max(u) = ', 4.9987888180864409e-09)"
       ]
      },
      {
       "output_type": "stream",
       "stream": "stdout",
       "text": [
        "\n",
        "('it = ', 2700, ', Max(u) = ', 4.9924955009241147e-09)"
       ]
      },
      {
       "output_type": "stream",
       "stream": "stdout",
       "text": [
        "\n",
        "('it = ', 2720, ', Max(u) = ', 4.9999101468130108e-09)"
       ]
      },
      {
       "output_type": "stream",
       "stream": "stdout",
       "text": [
        "\n",
        "('it = ', 2740, ', Max(u) = ', 4.9999113252309914e-09)"
       ]
      },
      {
       "output_type": "stream",
       "stream": "stdout",
       "text": [
        "\n",
        "('it = ', 2760, ', Max(u) = ', 4.9959243381587147e-09)"
       ]
      },
      {
       "output_type": "stream",
       "stream": "stdout",
       "text": [
        "\n",
        "('it = ', 2780, ', Max(u) = ', 4.9966666450123859e-09)"
       ]
      },
      {
       "output_type": "stream",
       "stream": "stdout",
       "text": [
        "\n",
        "('it = ', 2800, ', Max(u) = ', 4.9966730313469151e-09)"
       ]
      },
      {
       "output_type": "stream",
       "stream": "stdout",
       "text": [
        "\n",
        "('it = ', 2820, ', Max(u) = ', 4.9997334244241449e-09)"
       ]
      },
      {
       "output_type": "stream",
       "stream": "stdout",
       "text": [
        "\n",
        "('it = ', 2840, ', Max(u) = ', 4.9997313892347345e-09)"
       ]
      },
      {
       "output_type": "stream",
       "stream": "stdout",
       "text": [
        "\n",
        "('it = ', 2860, ', Max(u) = ', 4.999729327018311e-09)"
       ]
      },
      {
       "output_type": "stream",
       "stream": "stdout",
       "text": [
        "\n",
        "('it = ', 2880, ', Max(u) = ', 4.9913811336036529e-09)"
       ]
      },
      {
       "output_type": "stream",
       "stream": "stdout",
       "text": [
        "\n",
        "('it = ', 2900, ', Max(u) = ', 4.9991896664327079e-09)"
       ]
      },
      {
       "output_type": "stream",
       "stream": "stdout",
       "text": [
        "\n",
        "('it = ', 2920, ', Max(u) = ', 4.9991928198310506e-09)"
       ]
      },
      {
       "output_type": "stream",
       "stream": "stdout",
       "text": [
        "\n",
        "('it = ', 2940, ', Max(u) = ', 4.9978875828280002e-09)"
       ]
      },
      {
       "output_type": "stream",
       "stream": "stdout",
       "text": [
        "\n",
        "('it = ', 2960, ', Max(u) = ', 4.9978823111618197e-09)"
       ]
      },
      {
       "output_type": "stream",
       "stream": "stdout",
       "text": [
        "\n",
        "('it = ', 2980, ', Max(u) = ', 4.9942973418123822e-09)"
       ]
      },
      {
       "output_type": "stream",
       "stream": "stdout",
       "text": [
        "\n",
        "('it = ', 3000, ', Max(u) = ', 5.0000386759665097e-09)"
       ]
      },
      {
       "output_type": "stream",
       "stream": "stdout",
       "text": [
        "\n",
        "('it = ', 3020, ', Max(u) = ', 5.0000386164041132e-09)"
       ]
      },
      {
       "output_type": "stream",
       "stream": "stdout",
       "text": [
        "\n",
        "('it = ', 3040, ', Max(u) = ', 5.0000385297568299e-09)"
       ]
      },
      {
       "output_type": "stream",
       "stream": "stdout",
       "text": [
        "\n",
        "('it = ', 3060, ', Max(u) = ', 4.9943690602417873e-09)"
       ]
      },
      {
       "output_type": "stream",
       "stream": "stdout",
       "text": [
        "\n",
        "('it = ', 3080, ', Max(u) = ', 4.997838065684567e-09)"
       ]
      },
      {
       "output_type": "stream",
       "stream": "stdout",
       "text": [
        "\n",
        "('it = ', 3100, ', Max(u) = ', 4.997843191459002e-09)"
       ]
      },
      {
       "output_type": "stream",
       "stream": "stdout",
       "text": [
        "\n",
        "('it = ', 3120, ', Max(u) = ', 4.9992202232105702e-09)"
       ]
      },
      {
       "output_type": "stream",
       "stream": "stdout",
       "text": [
        "\n",
        "('it = ', 3140, ', Max(u) = ', 4.999216923402078e-09)"
       ]
      },
      {
       "output_type": "stream",
       "stream": "stdout",
       "text": [
        "\n",
        "('it = ', 3160, ', Max(u) = ', 4.9912923608062573e-09)"
       ]
      },
      {
       "output_type": "stream",
       "stream": "stdout",
       "text": [
        "\n",
        "('it = ', 3180, ', Max(u) = ', 4.9997124983759279e-09)"
       ]
      },
      {
       "output_type": "stream",
       "stream": "stdout",
       "text": [
        "\n",
        "('it = ', 3200, ', Max(u) = ', 4.9997144145945068e-09)"
       ]
      },
      {
       "output_type": "stream",
       "stream": "stdout",
       "text": [
        "\n",
        "('it = ', 3220, ', Max(u) = ', 4.9997163037178557e-09)"
       ]
      },
      {
       "output_type": "stream",
       "stream": "stdout",
       "text": [
        "\n",
        "('it = ', 3240, ', Max(u) = ', 4.9967277245367239e-09)"
       ]
      },
      {
       "output_type": "stream",
       "stream": "stdout",
       "text": [
        "\n",
        "('it = ', 3260, ', Max(u) = ', 4.9967211932213563e-09)"
       ]
      },
      {
       "output_type": "stream",
       "stream": "stdout",
       "text": [
        "\n",
        "('it = ', 3280, ', Max(u) = ', 4.9958629412294427e-09)"
       ]
      },
      {
       "output_type": "stream",
       "stream": "stdout",
       "text": [
        "\n",
        "('it = ', 3300, ', Max(u) = ', 4.9999217522015842e-09)"
       ]
      },
      {
       "output_type": "stream",
       "stream": "stdout",
       "text": [
        "\n",
        "('it = ', 3320, ', Max(u) = ', 4.9999204271900748e-09)"
       ]
      },
      {
       "output_type": "stream",
       "stream": "stdout",
       "text": [
        "\n",
        "('it = ', 3340, ', Max(u) = ', 4.9925776908255163e-09)"
       ]
      },
      {
       "output_type": "stream",
       "stream": "stdout",
       "text": [
        "\n",
        "('it = ', 3360, ', Max(u) = ', 4.9987550084047856e-09)"
       ]
      },
      {
       "output_type": "stream",
       "stream": "stdout",
       "text": [
        "\n",
        "('it = ', 3380, ', Max(u) = ', 4.9987588987893243e-09)"
       ]
      },
      {
       "output_type": "stream",
       "stream": "stdout",
       "text": [
        "\n",
        "('it = ', 3400, ', Max(u) = ', 4.9987627621156998e-09)"
       ]
      },
      {
       "output_type": "stream",
       "stream": "stdout",
       "text": [
        "\n",
        "('it = ', 3420, ', Max(u) = ', 4.998456232575654e-09)"
       ]
      },
      {
       "output_type": "stream",
       "stream": "stdout",
       "text": [
        "\n",
        "('it = ', 3440, ', Max(u) = ', 4.9984516702830397e-09)"
       ]
      },
      {
       "output_type": "stream",
       "stream": "stdout",
       "text": [
        "\n",
        "('it = ', 3460, ', Max(u) = ', 4.9932528060989317e-09)"
       ]
      },
      {
       "output_type": "stream",
       "stream": "stdout",
       "text": [
        "\n",
        "('it = ', 3480, ', Max(u) = ', 4.9999918987609612e-09)"
       ]
      },
      {
       "output_type": "stream",
       "stream": "stdout",
       "text": [
        "\n",
        "('it = ', 3500, ', Max(u) = ', 4.9999925497356531e-09)"
       ]
      },
      {
       "output_type": "stream",
       "stream": "stdout",
       "text": [
        "\n",
        "('it = ', 3520, ', Max(u) = ', 4.9953294682195192e-09)"
       ]
      },
      {
       "output_type": "stream",
       "stream": "stdout",
       "text": [
        "\n",
        "('it = ', 3540, ', Max(u) = ', 4.9971665589937836e-09)"
       ]
      },
      {
       "output_type": "stream",
       "stream": "stdout",
       "text": [
        "\n",
        "('it = ', 3560, ', Max(u) = ', 4.9971724201763401e-09)"
       ]
      },
      {
       "output_type": "stream",
       "stream": "stdout",
       "text": [
        "\n",
        "('it = ', 3580, ', Max(u) = ', 4.9995564880836106e-09)"
       ]
      },
      {
       "output_type": "stream",
       "stream": "stdout",
       "text": [
        "\n",
        "('it = ', 3600, ', Max(u) = ', 4.999553925759804e-09)"
       ]
      },
      {
       "output_type": "stream",
       "stream": "stdout",
       "text": [
        "\n",
        "('it = ', 3620, ', Max(u) = ', 4.9995513364675454e-09)"
       ]
      },
      {
       "output_type": "stream",
       "stream": "stdout",
       "text": [
        "\n",
        "('it = ', 3640, ', Max(u) = ', 4.9905281090401295e-09)"
       ]
      },
      {
       "output_type": "stream",
       "stream": "stdout",
       "text": [
        "\n",
        "('it = ', 3660, ', Max(u) = ', 4.9994306283821655e-09)"
       ]
      },
      {
       "output_type": "stream",
       "stream": "stdout",
       "text": [
        "\n",
        "('it = ', 3680, ', Max(u) = ', 4.9994332547911068e-09)"
       ]
      },
      {
       "output_type": "stream",
       "stream": "stdout",
       "text": [
        "\n",
        "('it = ', 3700, ', Max(u) = ', 4.997451620303886e-09)"
       ]
      },
      {
       "output_type": "stream",
       "stream": "stdout",
       "text": [
        "\n",
        "('it = ', 3720, ', Max(u) = ', 4.9974458229154869e-09)"
       ]
      },
      {
       "output_type": "stream",
       "stream": "stdout",
       "text": [
        "\n",
        "('it = ', 3740, ', Max(u) = ', 4.9949555665005154e-09)"
       ]
      },
      {
       "output_type": "stream",
       "stream": "stdout",
       "text": [
        "\n",
        "('it = ', 3760, ', Max(u) = ', 5.0000209686515341e-09)"
       ]
      },
      {
       "output_type": "stream",
       "stream": "stdout",
       "text": [
        "\n",
        "('it = ', 3780, ', Max(u) = ', 5.0000203816337068e-09)"
       ]
      },
      {
       "output_type": "stream",
       "stream": "stdout",
       "text": [
        "\n",
        "('it = ', 3800, ', Max(u) = ', 5.0000197675780932e-09)"
       ]
      },
      {
       "output_type": "stream",
       "stream": "stdout",
       "text": [
        "\n",
        "('it = ', 3820, ', Max(u) = ', 4.9936745312976742e-09)"
       ]
      },
      {
       "output_type": "stream",
       "stream": "stdout",
       "text": [
        "\n",
        "('it = ', 3840, ', Max(u) = ', 4.9982381434995483e-09)"
       ]
      },
      {
       "output_type": "stream",
       "stream": "stdout",
       "text": [
        "\n",
        "('it = ', 3860, ', Max(u) = ', 4.9982427430673388e-09)"
       ]
      },
      {
       "output_type": "stream",
       "stream": "stdout",
       "text": [
        "\n",
        "('it = ', 3880, ', Max(u) = ', 4.9989433396912268e-09)"
       ]
      },
      {
       "output_type": "stream",
       "stream": "stdout",
       "text": [
        "\n",
        "('it = ', 3900, ', Max(u) = ', 4.9989395130782809e-09)"
       ]
      },
      {
       "output_type": "stream",
       "stream": "stdout",
       "text": [
        "\n",
        "('it = ', 3920, ', Max(u) = ', 4.9921091621846709e-09)"
       ]
      },
      {
       "output_type": "stream",
       "stream": "stdout",
       "text": [
        "\n",
        "('it = ', 3940, ', Max(u) = ', 4.9998540258571861e-09)"
       ]
      },
      {
       "output_type": "stream",
       "stream": "stdout",
       "text": [
        "\n",
        "('it = ', 3960, ', Max(u) = ', 4.9998554146105841e-09)"
       ]
      },
      {
       "output_type": "stream",
       "stream": "stdout",
       "text": [
        "\n",
        "('it = ', 3980, ', Max(u) = ', 4.999856776306121e-09)"
       ]
      },
      {
       "output_type": "stream",
       "stream": "stdout",
       "text": [
        "\n",
        "('it = ', 4000, ', Max(u) = ', 4.9961919628758393e-09)"
       ]
      },
      {
       "output_type": "stream",
       "stream": "stdout",
       "text": [
        "\n",
        "('it = ', 4020, ', Max(u) = ', 4.9964148837072365e-09)"
       ]
      },
      {
       "output_type": "stream",
       "stream": "stdout",
       "text": [
        "\n",
        "('it = ', 4040, ', Max(u) = ', 4.9964214524567347e-09)"
       ]
      },
      {
       "output_type": "stream",
       "stream": "stdout",
       "text": [
        "\n",
        "('it = ', 4060, ', Max(u) = ', 4.999804055411555e-09)"
       ]
      },
      {
       "output_type": "stream",
       "stream": "stdout",
       "text": [
        "\n",
        "('it = ', 4080, ', Max(u) = ', 4.99980220286303e-09)"
       ]
      },
      {
       "output_type": "stream",
       "stream": "stdout",
       "text": [
        "\n",
        "('it = ', 4100, ', Max(u) = ', 4.9917841305279574e-09)"
       ]
      },
      {
       "output_type": "stream",
       "stream": "stdout",
       "text": [
        "\n",
        "('it = ', 4120, ', Max(u) = ', 4.9990557131770047e-09)"
       ]
      },
      {
       "output_type": "stream",
       "stream": "stdout",
       "text": [
        "\n",
        "('it = ', 4140, ', Max(u) = ', 4.9990590764645589e-09)"
       ]
      },
      {
       "output_type": "stream",
       "stream": "stdout",
       "text": [
        "\n",
        "('it = ', 4160, ', Max(u) = ', 4.9990624127245134e-09)"
       ]
      },
      {
       "output_type": "stream",
       "stream": "stdout",
       "text": [
        "\n",
        "('it = ', 4180, ', Max(u) = ', 4.9980794461183028e-09)"
       ]
      },
      {
       "output_type": "stream",
       "stream": "stdout",
       "text": [
        "\n",
        "('it = ', 4200, ', Max(u) = ', 4.9980743575197021e-09)"
       ]
      },
      {
       "output_type": "stream",
       "stream": "stdout",
       "text": [
        "\n",
        "('it = ', 4220, ', Max(u) = ', 4.9939700579959756e-09)"
       ]
      },
      {
       "output_type": "stream",
       "stream": "stdout",
       "text": [
        "\n",
        "('it = ', 4240, ', Max(u) = ', 5.000033433541474e-09)"
       ]
      },
      {
       "output_type": "stream",
       "stream": "stdout",
       "text": [
        "\n",
        "('it = ', 4260, ', Max(u) = ', 5.0000335566457709e-09)"
       ]
      },
      {
       "output_type": "stream",
       "stream": "stdout",
       "text": [
        "\n",
        "('it = ', 4280, ', Max(u) = ', 4.9946945072148261e-09)"
       ]
      },
      {
       "output_type": "stream",
       "stream": "stdout",
       "text": [
        "\n",
        "('it = ', 4300, ', Max(u) = ', 4.9976263216430379e-09)"
       ]
      },
      {
       "output_type": "stream",
       "stream": "stdout",
       "text": [
        "\n",
        "('it = ', 4320, ', Max(u) = ', 4.997631656544124e-09)"
       ]
      },
      {
       "output_type": "stream",
       "stream": "stdout",
       "text": [
        "\n",
        "('it = ', 4340, ', Max(u) = ', 4.9993393496104836e-09)"
       ]
      },
      {
       "output_type": "stream",
       "stream": "stdout",
       "text": [
        "\n",
        "('it = ', 4360, ', Max(u) = ', 4.9993362598087717e-09)"
       ]
      },
      {
       "output_type": "stream",
       "stream": "stdout",
       "text": [
        "\n",
        "('it = ', 4380, ', Max(u) = ', 4.9993331430790337e-09)"
       ]
      },
      {
       "output_type": "stream",
       "stream": "stdout",
       "text": [
        "\n",
        "('it = ', 4400, ', Max(u) = ', 4.9908894715657568e-09)"
       ]
      },
      {
       "output_type": "stream",
       "stream": "stdout",
       "text": [
        "\n",
        "('it = ', 4420, ', Max(u) = ', 4.9996313776030237e-09)"
       ]
      },
      {
       "output_type": "stream",
       "stream": "stdout",
       "text": [
        "\n",
        "('it = ', 4440, ', Max(u) = ', 4.9996334762591222e-09)"
       ]
      },
      {
       "output_type": "stream",
       "stream": "stdout",
       "text": [
        "\n",
        "('it = ', 4460, ', Max(u) = ', 4.9969755053786738e-09)"
       ]
      },
      {
       "output_type": "stream",
       "stream": "stdout",
       "text": [
        "\n",
        "('it = ', 4480, ', Max(u) = ', 4.9969691822291968e-09)"
       ]
      },
      {
       "output_type": "stream",
       "stream": "stdout",
       "text": [
        "\n",
        "('it = ', 4500, ', Max(u) = ', 4.9955736817054866e-09)"
       ]
      },
      {
       "output_type": "stream",
       "stream": "stdout",
       "text": [
        "\n",
        "('it = ', 4520, ', Max(u) = ', 4.9999630349811396e-09)"
       ]
      },
      {
       "output_type": "stream",
       "stream": "stdout",
       "text": [
        "\n",
        "('it = ', 4540, ', Max(u) = ', 4.9999619198146702e-09)"
       ]
      },
      {
       "output_type": "stream",
       "stream": "stdout",
       "text": [
        "\n",
        "('it = ', 4560, ', Max(u) = ', 4.9999607776496452e-09)"
       ]
      },
      {
       "output_type": "stream",
       "stream": "stdout",
       "text": [
        "\n",
        "('it = ', 4580, ', Max(u) = ', 4.9929399503946283e-09)"
       ]
      },
      {
       "output_type": "stream",
       "stream": "stdout",
       "text": [
        "\n",
        "('it = ', 4600, ', Max(u) = ', 4.9985980287210375e-09)"
       ]
      },
      {
       "output_type": "stream",
       "stream": "stdout",
       "text": [
        "\n",
        "('it = ', 4620, ', Max(u) = ', 4.9986021011472304e-09)"
       ]
      },
      {
       "output_type": "stream",
       "stream": "stdout",
       "text": [
        "\n",
        "('it = ', 4640, ', Max(u) = ', 4.998626256004307e-09)"
       ]
      },
      {
       "output_type": "stream",
       "stream": "stdout",
       "text": [
        "\n",
        "('it = ', 4660, ', Max(u) = ', 4.99862190225739e-09)"
       ]
      },
      {
       "output_type": "stream",
       "stream": "stdout",
       "text": [
        "\n",
        "('it = ', 4680, ', Max(u) = ', 4.9928859159877821e-09)"
       ]
      },
      {
       "output_type": "stream",
       "stream": "stdout",
       "text": [
        "\n",
        "('it = ', 4700, ', Max(u) = ', 4.999955320400379e-09)"
       ]
      },
      {
       "output_type": "stream",
       "stream": "stdout",
       "text": [
        "\n",
        "('it = ', 4720, ', Max(u) = ', 4.9999561807320157e-09)"
       ]
      },
      {
       "output_type": "stream",
       "stream": "stdout",
       "text": [
        "\n",
        "('it = ', 4740, ', Max(u) = ', 4.9999570094560852e-09)"
       ]
      },
      {
       "output_type": "stream",
       "stream": "stdout",
       "text": [
        "\n",
        "('it = ', 4760, ', Max(u) = ', 4.9956244117496547e-09)"
       ]
      },
      {
       "output_type": "stream",
       "stream": "stdout",
       "text": [
        "\n",
        "('it = ', 4780, ', Max(u) = ', 4.9970808685712157e-09)"
       ]
      },
      {
       "output_type": "stream",
       "stream": "stdout",
       "text": [
        "\n",
        "('it = ', 4800, ', Max(u) = ', 4.9970871786218807e-09)"
       ]
      },
      {
       "output_type": "stream",
       "stream": "stdout",
       "text": [
        "\n",
        "('it = ', 4820, ', Max(u) = ', 5.0069684525297214e-09)"
       ]
      },
      {
       "output_type": "stream",
       "stream": "stdout",
       "text": [
        "\n",
        "('it = ', 4840, ', Max(u) = ', 5.0397379009116423e-09)"
       ]
      },
      {
       "output_type": "stream",
       "stream": "stdout",
       "text": [
        "\n",
        "('it = ', 4860, ', Max(u) = ', 5.1921705850038889e-09)"
       ]
      },
      {
       "output_type": "stream",
       "stream": "stdout",
       "text": [
        "\n",
        "('it = ', 4880, ', Max(u) = ', 5.811980273167843e-09)"
       ]
      },
      {
       "output_type": "stream",
       "stream": "stdout",
       "text": [
        "\n",
        "('it = ', 4900, ', Max(u) = ', 7.2780224960675797e-09)"
       ]
      },
      {
       "output_type": "stream",
       "stream": "stdout",
       "text": [
        "\n",
        "('it = ', 4920, ', Max(u) = ', 8.6110221497339669e-09)"
       ]
      },
      {
       "output_type": "stream",
       "stream": "stdout",
       "text": [
        "\n",
        "('it = ', 4940, ', Max(u) = ', 9.5695344792539888e-09)"
       ]
      },
      {
       "output_type": "stream",
       "stream": "stdout",
       "text": [
        "\n",
        "('it = ', 4960, ', Max(u) = ', 9.9892784080711077e-09)"
       ]
      },
      {
       "output_type": "stream",
       "stream": "stdout",
       "text": [
        "\n",
        "('it = ', 4980, ', Max(u) = ', 9.989294423937193e-09)"
       ]
      },
      {
       "output_type": "stream",
       "stream": "stdout",
       "text": [
        "\n",
        "('it = ', 5000, ', Max(u) = ', 9.7947412669934732e-09)"
       ]
      },
      {
       "output_type": "stream",
       "stream": "stdout",
       "text": [
        "\n",
        "('it = ', 5020, ', Max(u) = ', 9.021562639354844e-09)"
       ]
      },
      {
       "output_type": "stream",
       "stream": "stdout",
       "text": [
        "\n",
        "('it = ', 5040, ', Max(u) = ', 7.8057406646858123e-09)"
       ]
      },
      {
       "output_type": "stream",
       "stream": "stdout",
       "text": [
        "\n",
        "('it = ', 5060, ', Max(u) = ', 6.3446004284429378e-09)"
       ]
      },
      {
       "output_type": "stream",
       "stream": "stdout",
       "text": [
        "\n",
        "('it = ', 5080, ', Max(u) = ', 5.3381629733770566e-09)"
       ]
      },
      {
       "output_type": "stream",
       "stream": "stdout",
       "text": [
        "\n",
        "('it = ', 5100, ', Max(u) = ', 5.0732669598882958e-09)"
       ]
      },
      {
       "output_type": "stream",
       "stream": "stdout",
       "text": [
        "\n",
        "('it = ', 5120, ', Max(u) = ', 5.0152893007282657e-09)"
       ]
      },
      {
       "output_type": "stream",
       "stream": "stdout",
       "text": [
        "\n",
        "('it = ', 5140, ', Max(u) = ', 5.0017143479679711e-09)"
       ]
      },
      {
       "output_type": "stream",
       "stream": "stdout",
       "text": [
        "\n",
        "('it = ', 5160, ', Max(u) = ', 4.9919618639940873e-09)"
       ]
      },
      {
       "output_type": "stream",
       "stream": "stdout",
       "text": [
        "\n",
        "('it = ', 5180, ', Max(u) = ', 4.9997933851111969e-09)"
       ]
      },
      {
       "output_type": "stream",
       "stream": "stdout",
       "text": [
        "\n",
        "('it = ', 5200, ', Max(u) = ', 4.9997949420497207e-09)"
       ]
      },
      {
       "output_type": "stream",
       "stream": "stdout",
       "text": [
        "\n",
        "('it = ', 5220, ', Max(u) = ', 4.9964592273117267e-09)"
       ]
      },
      {
       "output_type": "stream",
       "stream": "stdout",
       "text": [
        "\n",
        "('it = ', 5240, ', Max(u) = ', 4.9964523752663898e-09)"
       ]
      },
      {
       "output_type": "stream",
       "stream": "stdout",
       "text": [
        "\n",
        "('it = ', 5260, ', Max(u) = ', 4.9961516520504336e-09)"
       ]
      },
      {
       "output_type": "stream",
       "stream": "stdout",
       "text": [
        "\n",
        "('it = ', 5280, ', Max(u) = ', 4.9998648376330444e-09)"
       ]
      },
      {
       "output_type": "stream",
       "stream": "stdout",
       "text": [
        "\n",
        "('it = ', 5300, ', Max(u) = ', 4.9998632231013483e-09)"
       ]
      },
      {
       "output_type": "stream",
       "stream": "stdout",
       "text": [
        "\n",
        "('it = ', 5320, ', Max(u) = ', 4.9998615481419106e-09)"
       ]
      },
      {
       "output_type": "stream",
       "stream": "stdout",
       "text": [
        "\n",
        "('it = ', 5340, ', Max(u) = ', 4.9921652851014108e-09)"
       ]
      },
      {
       "output_type": "stream",
       "stream": "stdout",
       "text": [
        "\n",
        "('it = ', 5360, ', Max(u) = ', 4.9989176922106189e-09)"
       ]
      },
      {
       "output_type": "stream",
       "stream": "stdout",
       "text": [
        "\n",
        "('it = ', 5380, ', Max(u) = ', 4.9989212365055686e-09)"
       ]
      },
      {
       "output_type": "stream",
       "stream": "stdout",
       "text": [
        "\n",
        "('it = ', 5400, ', Max(u) = ', 4.9982689404006261e-09)"
       ]
      },
      {
       "output_type": "stream",
       "stream": "stdout",
       "text": [
        "\n",
        "('it = ', 5420, ', Max(u) = ', 4.9982640571899615e-09)"
       ]
      },
      {
       "output_type": "stream",
       "stream": "stdout",
       "text": [
        "\n",
        "('it = ', 5440, ', Max(u) = ', 4.9936225776421521e-09)"
       ]
      },
      {
       "output_type": "stream",
       "stream": "stdout",
       "text": [
        "\n",
        "('it = ', 5460, ', Max(u) = ', 5.0000163494540388e-09)"
       ]
      },
      {
       "output_type": "stream",
       "stream": "stdout",
       "text": [
        "\n",
        "('it = ', 5480, ', Max(u) = ', 5.0000166948451978e-09)"
       ]
      },
      {
       "output_type": "stream",
       "stream": "stdout",
       "text": [
        "\n",
        "('it = ', 5500, ', Max(u) = ', 5.0000169971947689e-09)"
       ]
      },
      {
       "output_type": "stream",
       "stream": "stdout",
       "text": [
        "\n",
        "('it = ', 5520, ', Max(u) = ', 4.9950000237149847e-09)"
       ]
      },
      {
       "output_type": "stream",
       "stream": "stdout",
       "text": [
        "\n",
        "('it = ', 5540, ', Max(u) = ', 4.9974124541022442e-09)"
       ]
      },
      {
       "output_type": "stream",
       "stream": "stdout",
       "text": [
        "\n",
        "('it = ', 5560, ', Max(u) = ', 4.9974179717674812e-09)"
       ]
      },
      {
       "output_type": "stream",
       "stream": "stdout",
       "text": [
        "\n",
        "('it = ', 5580, ', Max(u) = ', 4.9994479492232066e-09)"
       ]
      },
      {
       "output_type": "stream",
       "stream": "stdout",
       "text": [
        "\n",
        "('it = ', 5600, ', Max(u) = ', 4.9994450409493432e-09)"
       ]
      },
      {
       "output_type": "stream",
       "stream": "stdout",
       "text": [
        "\n",
        "('it = ', 5620, ', Max(u) = ', 4.9904644533791142e-09)"
       ]
      },
      {
       "output_type": "stream",
       "stream": "stdout",
       "text": [
        "\n",
        "('it = ', 5640, ', Max(u) = ', 4.9995364059415734e-09)"
       ]
      },
      {
       "output_type": "stream",
       "stream": "stdout",
       "text": [
        "\n",
        "('it = ', 5660, ', Max(u) = ', 4.999538725659683e-09)"
       ]
      },
      {
       "output_type": "stream",
       "stream": "stdout",
       "text": [
        "\n",
        "('it = ', 5680, ', Max(u) = ', 4.9995410052273515e-09)"
       ]
      },
      {
       "output_type": "stream",
       "stream": "stdout",
       "text": [
        "\n",
        "('it = ', 5700, ', Max(u) = ', 4.9972053044661509e-09)"
       ]
      },
      {
       "output_type": "stream",
       "stream": "stdout",
       "text": [
        "\n",
        "('it = ', 5720, ', Max(u) = ', 4.9971991615528062e-09)"
       ]
      },
      {
       "output_type": "stream",
       "stream": "stdout",
       "text": [
        "\n",
        "('it = ', 5740, ', Max(u) = ', 4.9952842441405469e-09)"
       ]
      },
      {
       "output_type": "stream",
       "stream": "stdout",
       "text": [
        "\n",
        "('it = ', 5760, ', Max(u) = ', 4.9999957514890033e-09)"
       ]
      },
      {
       "output_type": "stream",
       "stream": "stdout",
       "text": [
        "\n",
        "('it = ', 5780, ', Max(u) = ', 4.9999948197274462e-09)"
       ]
      },
      {
       "output_type": "stream",
       "stream": "stdout",
       "text": [
        "\n",
        "('it = ', 5800, ', Max(u) = ', 4.9933042772376355e-09)"
       ]
      },
      {
       "output_type": "stream",
       "stream": "stdout",
       "text": [
        "\n",
        "('it = ', 5820, ', Max(u) = ', 4.9984252291326851e-09)"
       ]
      },
      {
       "output_type": "stream",
       "stream": "stdout",
       "text": [
        "\n",
        "('it = ', 5840, ', Max(u) = ', 4.9984295158771453e-09)"
       ]
      },
      {
       "output_type": "stream",
       "stream": "stdout",
       "text": [
        "\n",
        "('it = ', 5860, ', Max(u) = ', 4.9987843613663357e-09)"
       ]
      },
      {
       "output_type": "stream",
       "stream": "stdout",
       "text": [
        "\n",
        "('it = ', 5880, ', Max(u) = ', 4.9987802280710408e-09)"
       ]
      },
      {
       "output_type": "stream",
       "stream": "stdout",
       "text": [
        "\n",
        "('it = ', 5900, ', Max(u) = ', 4.9987760558263438e-09)"
       ]
      },
      {
       "output_type": "stream",
       "stream": "stdout",
       "text": [
        "\n",
        "('it = ', 5920, ', Max(u) = ', 4.9925208017781991e-09)"
       ]
      },
      {
       "output_type": "stream",
       "stream": "stdout",
       "text": [
        "\n",
        "('it = ', 5940, ', Max(u) = ', 4.9999121384628333e-09)"
       ]
      },
      {
       "output_type": "stream",
       "stream": "stdout",
       "text": [
        "\n",
        "('it = ', 5960, ', Max(u) = ', 4.999913183866258e-09)"
       ]
      },
      {
       "output_type": "stream",
       "stream": "stdout",
       "text": [
        "\n",
        "('it = ', 5980, ', Max(u) = ', 4.9959027784832002e-09)"
       ]
      },
      {
       "output_type": "stream",
       "stream": "stdout",
       "text": [
        "\n",
        "('it = ', 6000, ', Max(u) = ', 4.9966832056395792e-09)"
       ]
      },
      {
       "output_type": "stream",
       "stream": "stdout",
       "text": [
        "\n",
        "('it = ', 6020, ', Max(u) = ', 4.9966894609658882e-09)"
       ]
      },
      {
       "output_type": "stream",
       "stream": "stdout",
       "text": [
        "\n",
        "('it = ', 6040, ', Max(u) = ', 4.9997264013568903e-09)"
       ]
      },
      {
       "output_type": "stream",
       "stream": "stdout",
       "text": [
        "\n",
        "('it = ', 6060, ', Max(u) = ', 4.9997242352573145e-09)"
       ]
      },
      {
       "output_type": "stream",
       "stream": "stdout",
       "text": [
        "\n",
        "('it = ', 6080, ', Max(u) = ', 4.9997220371726439e-09)"
       ]
      },
      {
       "output_type": "stream",
       "stream": "stdout",
       "text": [
        "\n",
        "('it = ', 6100, ', Max(u) = ', 4.9913506115209169e-09)"
       ]
      },
      {
       "output_type": "stream",
       "stream": "stdout",
       "text": [
        "\n",
        "('it = ', 6120, ', Max(u) = ', 4.9991971318876569e-09)"
       ]
      },
      {
       "output_type": "stream",
       "stream": "stdout",
       "text": [
        "\n",
        "('it = ', 6140, ', Max(u) = ', 4.9992001529178158e-09)"
       ]
      },
      {
       "output_type": "stream",
       "stream": "stdout",
       "text": [
        "\n",
        "('it = ', 6160, ', Max(u) = ', 4.9978714517397352e-09)"
       ]
      },
      {
       "output_type": "stream",
       "stream": "stdout",
       "text": [
        "\n",
        "('it = ', 6180, ', Max(u) = ', 4.997866047566939e-09)"
       ]
      },
      {
       "output_type": "stream",
       "stream": "stdout",
       "text": [
        "\n",
        "('it = ', 6200, ', Max(u) = ', 4.9943191852650983e-09)"
       ]
      },
      {
       "output_type": "stream",
       "stream": "stdout",
       "text": [
        "\n",
        "('it = ', 6220, ', Max(u) = ', 5.0000371379895951e-09)"
       ]
      },
      {
       "output_type": "stream",
       "stream": "stdout",
       "text": [
        "\n",
        "('it = ', 6240, ', Max(u) = ', 5.0000369418885622e-09)"
       ]
      },
      {
       "output_type": "stream",
       "stream": "stdout",
       "text": [
        "\n",
        "('it = ', 6260, ', Max(u) = ', 5.0000367198346242e-09)"
       ]
      },
      {
       "output_type": "stream",
       "stream": "stdout",
       "text": [
        "\n",
        "('it = ', 6280, ', Max(u) = ', 4.9943438864760879e-09)"
       ]
      },
      {
       "output_type": "stream",
       "stream": "stdout",
       "text": [
        "\n",
        "('it = ', 6300, ', Max(u) = ', 4.9978509849108707e-09)"
       ]
      },
      {
       "output_type": "stream",
       "stream": "stdout",
       "text": [
        "\n",
        "('it = ', 6320, ', Max(u) = ', 4.9978559784193193e-09)"
       ]
      },
      {
       "output_type": "stream",
       "stream": "stdout",
       "text": [
        "\n",
        "('it = ', 6340, ', Max(u) = ', 4.9992095396506533e-09)"
       ]
      },
      {
       "output_type": "stream",
       "stream": "stdout",
       "text": [
        "\n",
        "('it = ', 6360, ', Max(u) = ', 4.9992061075164878e-09)"
       ]
      },
      {
       "output_type": "stream",
       "stream": "stdout",
       "text": [
        "\n",
        "('it = ', 6380, ', Max(u) = ', 4.9913195507280347e-09)"
       ]
      },
      {
       "output_type": "stream",
       "stream": "stdout",
       "text": [
        "\n",
        "('it = ', 6400, ', Max(u) = ', 4.9997164286124808e-09)"
       ]
      },
      {
       "output_type": "stream",
       "stream": "stdout",
       "text": [
        "\n",
        "('it = ', 6420, ', Max(u) = ', 4.9997182118641651e-09)"
       ]
      },
      {
       "output_type": "stream",
       "stream": "stdout",
       "text": [
        "\n",
        "('it = ', 6440, ', Max(u) = ', 4.9997199665892786e-09)"
       ]
      },
      {
       "output_type": "stream",
       "stream": "stdout",
       "text": [
        "\n",
        "('it = ', 6460, ', Max(u) = ', 4.9967079623833698e-09)"
       ]
      },
      {
       "output_type": "stream",
       "stream": "stdout",
       "text": [
        "\n",
        "('it = ', 6480, ', Max(u) = ', 4.9967012957668841e-09)"
       ]
      },
      {
       "output_type": "stream",
       "stream": "stdout",
       "text": [
        "\n",
        "('it = ', 6500, ', Max(u) = ', 4.9958811583652402e-09)"
       ]
      },
      {
       "output_type": "stream",
       "stream": "stdout",
       "text": [
        "\n",
        "('it = ', 6520, ', Max(u) = ', 4.9999165453262451e-09)"
       ]
      },
      {
       "output_type": "stream",
       "stream": "stdout",
       "text": [
        "\n",
        "('it = ', 6540, ', Max(u) = ', 4.9999150845858892e-09)"
       ]
      },
      {
       "output_type": "stream",
       "stream": "stdout",
       "text": [
        "\n",
        "('it = ', 6560, ', Max(u) = ', 4.9925490633087179e-09)"
       ]
      },
      {
       "output_type": "stream",
       "stream": "stdout",
       "text": [
        "\n",
        "('it = ', 6580, ', Max(u) = ', 4.9987644194517708e-09)"
       ]
      },
      {
       "output_type": "stream",
       "stream": "stdout",
       "text": [
        "\n",
        "('it = ', 6600, ', Max(u) = ', 4.9987681721398244e-09)"
       ]
      },
      {
       "output_type": "stream",
       "stream": "stdout",
       "text": [
        "\n",
        "('it = ', 6620, ', Max(u) = ', 4.9987719025765136e-09)"
       ]
      },
      {
       "output_type": "stream",
       "stream": "stdout",
       "text": [
        "\n",
        "('it = ', 6640, ', Max(u) = ', 4.9984419108053021e-09)"
       ]
      },
      {
       "output_type": "stream",
       "stream": "stdout",
       "text": [
        "\n",
        "('it = ', 6660, ', Max(u) = ', 4.9984372137125791e-09)"
       ]
      },
      {
       "output_type": "stream",
       "stream": "stdout",
       "text": [
        "\n",
        "('it = ', 6680, ', Max(u) = ', 4.9932764073449023e-09)"
       ]
      },
      {
       "output_type": "stream",
       "stream": "stdout",
       "text": [
        "\n",
        "('it = ', 6700, ', Max(u) = ', 4.9999921687331454e-09)"
       ]
      },
      {
       "output_type": "stream",
       "stream": "stdout",
       "text": [
        "\n",
        "('it = ', 6720, ', Max(u) = ', 4.9999926934921436e-09)"
       ]
      },
      {
       "output_type": "stream",
       "stream": "stdout",
       "text": [
        "\n",
        "('it = ', 6740, ', Max(u) = ', 4.9953062162598804e-09)"
       ]
      },
      {
       "output_type": "stream",
       "stream": "stdout",
       "text": [
        "\n",
        "('it = ', 6760, ', Max(u) = ', 4.9971814148190266e-09)"
       ]
      },
      {
       "output_type": "stream",
       "stream": "stdout",
       "text": [
        "\n",
        "('it = ', 6780, ', Max(u) = ', 4.9971871381333398e-09)"
       ]
      },
      {
       "output_type": "stream",
       "stream": "stdout",
       "text": [
        "\n",
        "('it = ', 6800, ', Max(u) = ', 4.999547752819292e-09)"
       ]
      },
      {
       "output_type": "stream",
       "stream": "stdout",
       "text": [
        "\n",
        "('it = ', 6820, ', Max(u) = ', 4.9995450514757223e-09)"
       ]
      },
      {
       "output_type": "stream",
       "stream": "stdout",
       "text": [
        "\n",
        "('it = ', 6840, ', Max(u) = ', 4.9995423272764434e-09)"
       ]
      },
      {
       "output_type": "stream",
       "stream": "stdout",
       "text": [
        "\n",
        "('it = ', 6860, ', Max(u) = ', 4.9904959104690514e-09)"
       ]
      },
      {
       "output_type": "stream",
       "stream": "stdout",
       "text": [
        "\n",
        "('it = ', 6880, ', Max(u) = ', 4.9994363620114747e-09)"
       ]
      },
      {
       "output_type": "stream",
       "stream": "stdout",
       "text": [
        "\n",
        "('it = ', 6900, ', Max(u) = ', 4.9994388631232906e-09)"
       ]
      },
      {
       "output_type": "stream",
       "stream": "stdout",
       "text": [
        "\n",
        "('it = ', 6920, ', Max(u) = ', 4.997433781175717e-09)"
       ]
      },
      {
       "output_type": "stream",
       "stream": "stdout",
       "text": [
        "\n",
        "('it = ', 6940, ', Max(u) = ', 4.9974278497468165e-09)"
       ]
      },
      {
       "output_type": "stream",
       "stream": "stdout",
       "text": [
        "\n",
        "('it = ', 6960, ', Max(u) = ', 4.9949756914526517e-09)"
       ]
      },
      {
       "output_type": "stream",
       "stream": "stdout",
       "text": [
        "\n",
        "('it = ', 6980, ', Max(u) = ', 5.0000176981159671e-09)"
       ]
      },
      {
       "output_type": "stream",
       "stream": "stdout",
       "text": [
        "\n",
        "('it = ', 7000, ', Max(u) = ', 5.0000169745122763e-09)"
       ]
      },
      {
       "output_type": "stream",
       "stream": "stdout",
       "text": [
        "\n",
        "('it = ', 7020, ', Max(u) = ', 5.0000162231115102e-09)"
       ]
      },
      {
       "output_type": "stream",
       "stream": "stdout",
       "text": [
        "\n",
        "('it = ', 7040, ', Max(u) = ', 4.9936476650972945e-09)"
       ]
      },
      {
       "output_type": "stream",
       "stream": "stdout",
       "text": [
        "\n",
        "('it = ', 7060, ', Max(u) = ', 4.998249339069242e-09)"
       ]
      },
      {
       "output_type": "stream",
       "stream": "stdout",
       "text": [
        "\n",
        "('it = ', 7080, ', Max(u) = ', 4.9982538059758714e-09)"
       ]
      },
      {
       "output_type": "stream",
       "stream": "stdout",
       "text": [
        "\n",
        "('it = ', 7100, ', Max(u) = ', 4.9989309363312971e-09)"
       ]
      },
      {
       "output_type": "stream",
       "stream": "stdout",
       "text": [
        "\n",
        "('it = ', 7120, ', Max(u) = ', 4.9989269807934987e-09)"
       ]
      },
      {
       "output_type": "stream",
       "stream": "stdout",
       "text": [
        "\n",
        "('it = ', 7140, ', Max(u) = ', 4.9921346577875242e-09)"
       ]
      },
      {
       "output_type": "stream",
       "stream": "stdout",
       "text": [
        "\n",
        "('it = ', 7160, ', Max(u) = ', 4.9998562293071362e-09)"
       ]
      },
      {
       "output_type": "stream",
       "stream": "stdout",
       "text": [
        "\n",
        "('it = ', 7180, ', Max(u) = ', 4.9998574794754257e-09)"
       ]
      },
      {
       "output_type": "stream",
       "stream": "stdout",
       "text": [
        "\n",
        "('it = ', 7200, ', Max(u) = ', 4.9998587045360349e-09)"
       ]
      },
      {
       "output_type": "stream",
       "stream": "stdout",
       "text": [
        "\n",
        "('it = ', 7220, ', Max(u) = ', 4.9961704795107332e-09)"
       ]
      },
      {
       "output_type": "stream",
       "stream": "stdout",
       "text": [
        "\n",
        "('it = ', 7240, ', Max(u) = ', 4.9964315116114154e-09)"
       ]
      },
      {
       "output_type": "stream",
       "stream": "stdout",
       "text": [
        "\n",
        "('it = ', 7260, ', Max(u) = ', 4.9964379467757256e-09)"
       ]
      },
      {
       "output_type": "stream",
       "stream": "stdout",
       "text": [
        "\n",
        "('it = ', 7280, ', Max(u) = ', 4.9997971170606381e-09)"
       ]
      },
      {
       "output_type": "stream",
       "stream": "stdout",
       "text": [
        "\n",
        "('it = ', 7300, ', Max(u) = ', 4.9997951293920657e-09)"
       ]
      },
      {
       "output_type": "stream",
       "stream": "stdout",
       "text": [
        "\n",
        "('it = ', 7320, ', Max(u) = ', 4.9917538060285893e-09)"
       ]
      },
      {
       "output_type": "stream",
       "stream": "stdout",
       "text": [
        "\n",
        "('it = ', 7340, ', Max(u) = ', 4.9990633869900894e-09)"
       ]
      },
      {
       "output_type": "stream",
       "stream": "stdout",
       "text": [
        "\n",
        "('it = ', 7360, ', Max(u) = ', 4.9990666096134843e-09)"
       ]
      },
      {
       "output_type": "stream",
       "stream": "stdout",
       "text": [
        "\n",
        "('it = ', 7380, ', Max(u) = ', 4.9990698107867608e-09)"
       ]
      },
      {
       "output_type": "stream",
       "stream": "stdout",
       "text": [
        "\n",
        "('it = ', 7400, ', Max(u) = ', 4.9980633853840609e-09)"
       ]
      },
      {
       "output_type": "stream",
       "stream": "stdout",
       "text": [
        "\n",
        "('it = ', 7420, ', Max(u) = ', 4.9980581598038296e-09)"
       ]
      },
      {
       "output_type": "stream",
       "stream": "stdout",
       "text": [
        "\n",
        "('it = ', 7440, ', Max(u) = ', 4.9939919653235587e-09)"
       ]
      },
      {
       "output_type": "stream",
       "stream": "stdout",
       "text": [
        "\n",
        "('it = ', 7460, ', Max(u) = ', 5.0000319656413976e-09)"
       ]
      },
      {
       "output_type": "stream",
       "stream": "stdout",
       "text": [
        "\n",
        "('it = ', 7480, ', Max(u) = ', 5.0000319518891907e-09)"
       ]
      },
      {
       "output_type": "stream",
       "stream": "stdout",
       "text": [
        "\n",
        "('it = ', 7500, ', Max(u) = ', 4.9946695452136492e-09)"
       ]
      },
      {
       "output_type": "stream",
       "stream": "stdout",
       "text": [
        "\n",
        "('it = ', 7520, ', Max(u) = ', 4.997639448725794e-09)"
       ]
      },
      {
       "output_type": "stream",
       "stream": "stdout",
       "text": [
        "\n",
        "('it = ', 7540, ', Max(u) = ', 4.9976446442898684e-09)"
       ]
      },
      {
       "output_type": "stream",
       "stream": "stdout",
       "text": [
        "\n",
        "('it = ', 7560, ', Max(u) = ', 4.9993288786698215e-09)"
       ]
      },
      {
       "output_type": "stream",
       "stream": "stdout",
       "text": [
        "\n",
        "('it = ', 7580, ', Max(u) = ', 4.9993256483711451e-09)"
       ]
      },
      {
       "output_type": "stream",
       "stream": "stdout",
       "text": [
        "\n",
        "('it = ', 7600, ', Max(u) = ', 4.9993223971659684e-09)"
       ]
      },
      {
       "output_type": "stream",
       "stream": "stdout",
       "text": [
        "\n",
        "('it = ', 7620, ', Max(u) = ', 4.9909167348031484e-09)"
       ]
      },
      {
       "output_type": "stream",
       "stream": "stdout",
       "text": [
        "\n",
        "('it = ', 7640, ', Max(u) = ', 4.9996353882980906e-09)"
       ]
      },
      {
       "output_type": "stream",
       "stream": "stdout",
       "text": [
        "\n",
        "('it = ', 7660, ', Max(u) = ', 4.999637351805068e-09)"
       ]
      },
      {
       "output_type": "stream",
       "stream": "stdout",
       "text": [
        "\n",
        "('it = ', 7680, ', Max(u) = ', 4.9969559393822394e-09)"
       ]
      },
      {
       "output_type": "stream",
       "stream": "stdout",
       "text": [
        "\n",
        "('it = ', 7700, ', Max(u) = ', 4.9969494742134787e-09)"
       ]
      },
      {
       "output_type": "stream",
       "stream": "stdout",
       "text": [
        "\n",
        "('it = ', 7720, ', Max(u) = ', 4.9955921018880682e-09)"
       ]
      },
      {
       "output_type": "stream",
       "stream": "stdout",
       "text": [
        "\n",
        "('it = ', 7740, ', Max(u) = ', 4.9999580344516241e-09)"
       ]
      },
      {
       "output_type": "stream",
       "stream": "stdout",
       "text": [
        "\n",
        "('it = ', 7760, ', Max(u) = ', 4.9999567820597284e-09)"
       ]
      },
      {
       "output_type": "stream",
       "stream": "stdout",
       "text": [
        "\n",
        "('it = ', 7780, ', Max(u) = ', 4.9999555027851957e-09)"
       ]
      },
      {
       "output_type": "stream",
       "stream": "stdout",
       "text": [
        "\n",
        "('it = ', 7800, ', Max(u) = ', 4.9929113851723213e-09)"
       ]
      },
      {
       "output_type": "stream",
       "stream": "stdout",
       "text": [
        "\n",
        "('it = ', 7820, ', Max(u) = ', 4.9986075054995264e-09)"
       ]
      },
      {
       "output_type": "stream",
       "stream": "stdout",
       "text": [
        "\n",
        "('it = ', 7840, ', Max(u) = ', 4.9986114405708342e-09)"
       ]
      },
      {
       "output_type": "stream",
       "stream": "stdout",
       "text": [
        "\n",
        "('it = ', 7860, ', Max(u) = ', 4.9986121243533431e-09)"
       ]
      },
      {
       "output_type": "stream",
       "stream": "stdout",
       "text": [
        "\n",
        "('it = ', 7880, ', Max(u) = ', 4.9986076446082106e-09)"
       ]
      },
      {
       "output_type": "stream",
       "stream": "stdout",
       "text": [
        "\n",
        "('it = ', 7900, ', Max(u) = ', 4.9929097306197065e-09)"
       ]
      },
      {
       "output_type": "stream",
       "stream": "stdout",
       "text": [
        "\n",
        "('it = ', 7920, ', Max(u) = ', 4.9999558014449134e-09)"
       ]
      },
      {
       "output_type": "stream",
       "stream": "stdout",
       "text": [
        "\n",
        "('it = ', 7940, ', Max(u) = ', 4.9999565205694096e-09)"
       ]
      },
      {
       "output_type": "stream",
       "stream": "stdout",
       "text": [
        "\n",
        "('it = ', 7960, ', Max(u) = ', 4.9999572159130571e-09)"
       ]
      },
      {
       "output_type": "stream",
       "stream": "stdout",
       "text": [
        "\n",
        "('it = ', 7980, ', Max(u) = ', 4.9955928801589652e-09)"
       ]
      },
      {
       "output_type": "stream",
       "stream": "stdout",
       "text": [
        "\n",
        "('it = ', 8000, ', Max(u) = ', 4.9969486960847757e-09)"
       ]
      },
      {
       "output_type": "stream",
       "stream": "stdout",
       "text": [
        "\n",
        "('it = ', 8020, ', Max(u) = ', 4.9969546114681019e-09)"
       ]
      },
      {
       "output_type": "stream",
       "stream": "stdout",
       "text": [
        "\n",
        "('it = ', 8040, ', Max(u) = ', 4.9996374648085516e-09)"
       ]
      },
      {
       "output_type": "stream",
       "stream": "stdout",
       "text": [
        "\n",
        "('it = ', 8060, ', Max(u) = ', 4.9996349480616118e-09)"
       ]
      },
      {
       "output_type": "stream",
       "stream": "stdout",
       "text": [
        "\n",
        "('it = ', 8080, ', Max(u) = ', 4.9909185554486051e-09)"
       ]
      },
      {
       "output_type": "stream",
       "stream": "stdout",
       "text": [
        "\n",
        "('it = ', 8100, ', Max(u) = ', 4.9993221527395617e-09)"
       ]
      },
      {
       "output_type": "stream",
       "stream": "stdout",
       "text": [
        "\n",
        "('it = ', 8120, ', Max(u) = ', 4.9993248488557734e-09)"
       ]
      },
      {
       "output_type": "stream",
       "stream": "stdout",
       "text": [
        "\n",
        "('it = ', 8140, ', Max(u) = ', 4.9993275216280276e-09)"
       ]
      },
      {
       "output_type": "stream",
       "stream": "stdout",
       "text": [
        "\n",
        "('it = ', 8160, ', Max(u) = ', 4.9976446941491501e-09)"
       ]
      },
      {
       "output_type": "stream",
       "stream": "stdout",
       "text": [
        "\n",
        "('it = ', 8180, ', Max(u) = ', 4.9976389459308514e-09)"
       ]
      },
      {
       "output_type": "stream",
       "stream": "stdout",
       "text": [
        "\n",
        "('it = ', 8200, ', Max(u) = ', 4.9946674305738371e-09)"
       ]
      },
      {
       "output_type": "stream",
       "stream": "stdout",
       "text": [
        "\n",
        "('it = ', 8220, ', Max(u) = ', 5.0000315461770461e-09)"
       ]
      },
      {
       "output_type": "stream",
       "stream": "stdout",
       "text": [
        "\n",
        "('it = ', 8240, ', Max(u) = ', 5.0000310004986072e-09)"
       ]
      },
      {
       "output_type": "stream",
       "stream": "stdout",
       "text": [
        "\n",
        "('it = ', 8260, ', Max(u) = ', 4.9939927884465402e-09)"
       ]
      },
      {
       "output_type": "stream",
       "stream": "stdout",
       "text": [
        "\n",
        "('it = ', 8280, ', Max(u) = ', 4.9980573168420983e-09)"
       ]
      },
      {
       "output_type": "stream",
       "stream": "stdout",
       "text": [
        "\n",
        "('it = ', 8300, ', Max(u) = ', 4.9980619854433378e-09)"
       ]
      },
      {
       "output_type": "stream",
       "stream": "stdout",
       "text": [
        "\n",
        "('it = ', 8320, ', Max(u) = ', 4.9990697952591687e-09)"
       ]
      },
      {
       "output_type": "stream",
       "stream": "stdout",
       "text": [
        "\n",
        "('it = ', 8340, ', Max(u) = ', 4.9990660395892522e-09)"
       ]
      },
      {
       "output_type": "stream",
       "stream": "stdout",
       "text": [
        "\n",
        "('it = ', 8360, ', Max(u) = ', 4.9990622599532317e-09)"
       ]
      },
      {
       "output_type": "stream",
       "stream": "stdout",
       "text": [
        "\n",
        "('it = ', 8380, ', Max(u) = ', 4.9917507655169795e-09)"
       ]
      },
      {
       "output_type": "stream",
       "stream": "stdout",
       "text": [
        "\n",
        "('it = ', 8400, ', Max(u) = ', 4.9997941903497245e-09)"
       ]
      },
      {
       "output_type": "stream",
       "stream": "stdout",
       "text": [
        "\n",
        "('it = ', 8420, ', Max(u) = ', 4.9997956230009649e-09)"
       ]
      },
      {
       "output_type": "stream",
       "stream": "stdout",
       "text": [
        "\n",
        "('it = ', 8440, ', Max(u) = ', 4.9964379665879437e-09)"
       ]
      },
      {
       "output_type": "stream",
       "stream": "stdout",
       "text": [
        "\n",
        "('it = ', 8460, ', Max(u) = ', 4.9964309724569649e-09)"
       ]
      },
      {
       "output_type": "stream",
       "stream": "stdout",
       "text": [
        "\n",
        "('it = ', 8480, ', Max(u) = ', 4.9961683886364422e-09)"
       ]
      },
      {
       "output_type": "stream",
       "stream": "stdout",
       "text": [
        "\n",
        "('it = ', 8500, ', Max(u) = ', 4.9998581391590978e-09)"
       ]
      },
      {
       "output_type": "stream",
       "stream": "stdout",
       "text": [
        "\n",
        "('it = ', 8520, ', Max(u) = ', 4.9998563581829436e-09)"
       ]
      },
      {
       "output_type": "stream",
       "stream": "stdout",
       "text": [
        "\n",
        "('it = ', 8540, ', Max(u) = ', 4.999854553038897e-09)"
       ]
      },
      {
       "output_type": "stream",
       "stream": "stdout",
       "text": [
        "\n",
        "('it = ', 8560, ', Max(u) = ', 4.992135058191095e-09)"
       ]
      },
      {
       "output_type": "stream",
       "stream": "stdout",
       "text": [
        "\n",
        "('it = ', 8580, ', Max(u) = ', 4.9989254841252791e-09)"
       ]
      },
      {
       "output_type": "stream",
       "stream": "stdout",
       "text": [
        "\n",
        "('it = ', 8600, ', Max(u) = ', 4.9989288856548844e-09)"
       ]
      },
      {
       "output_type": "stream",
       "stream": "stdout",
       "text": [
        "\n",
        "('it = ', 8620, ', Max(u) = ', 4.9982531365877519e-09)"
       ]
      },
      {
       "output_type": "stream",
       "stream": "stdout",
       "text": [
        "\n",
        "('it = ', 8640, ', Max(u) = ', 4.9982481149221356e-09)"
       ]
      },
      {
       "output_type": "stream",
       "stream": "stdout",
       "text": [
        "\n",
        "('it = ', 8660, ', Max(u) = ', 4.9936447448096666e-09)"
       ]
      },
      {
       "output_type": "stream",
       "stream": "stdout",
       "text": [
        "\n",
        "('it = ', 8680, ', Max(u) = ', 5.0000151369720774e-09)"
       ]
      },
      {
       "output_type": "stream",
       "stream": "stdout",
       "text": [
        "\n",
        "('it = ', 8700, ', Max(u) = ', 5.0000153303007244e-09)"
       ]
      },
      {
       "output_type": "stream",
       "stream": "stdout",
       "text": [
        "\n",
        "('it = ', 8720, ', Max(u) = ', 5.0000155009536947e-09)"
       ]
      },
      {
       "output_type": "stream",
       "stream": "stdout",
       "text": [
        "\n",
        "('it = ', 8740, ', Max(u) = ', 4.9949751688666991e-09)"
       ]
      },
      {
       "output_type": "stream",
       "stream": "stdout",
       "text": [
        "\n",
        "('it = ', 8760, ', Max(u) = ', 4.9974257240725317e-09)"
       ]
      },
      {
       "output_type": "stream",
       "stream": "stdout",
       "text": [
        "\n",
        "('it = ', 8780, ', Max(u) = ', 4.9974311007725719e-09)"
       ]
      },
      {
       "output_type": "stream",
       "stream": "stdout",
       "text": [
        "\n",
        "('it = ', 8800, ', Max(u) = ', 4.9994375944351519e-09)"
       ]
      },
      {
       "output_type": "stream",
       "stream": "stdout",
       "text": [
        "\n",
        "('it = ', 8820, ', Max(u) = ', 4.9994345505994828e-09)"
       ]
      },
      {
       "output_type": "stream",
       "stream": "stdout",
       "text": [
        "\n",
        "('it = ', 8840, ', Max(u) = ', 4.9904919792965254e-09)"
       ]
      },
      {
       "output_type": "stream",
       "stream": "stdout",
       "text": [
        "\n",
        "('it = ', 8860, ', Max(u) = ', 4.9995407032145125e-09)"
       ]
      },
      {
       "output_type": "stream",
       "stream": "stdout",
       "text": [
        "\n",
        "('it = ', 8880, ', Max(u) = ', 4.9995428718687553e-09)"
       ]
      },
      {
       "output_type": "stream",
       "stream": "stdout",
       "text": [
        "\n",
        "('it = ', 8900, ', Max(u) = ', 4.9995450159599559e-09)"
       ]
      },
      {
       "output_type": "stream",
       "stream": "stdout",
       "text": [
        "\n",
        "('it = ', 8920, ', Max(u) = ', 4.9971858417238054e-09)"
       ]
      },
      {
       "output_type": "stream",
       "stream": "stdout",
       "text": [
        "\n",
        "('it = ', 8940, ', Max(u) = ', 4.9971795650384605e-09)"
       ]
      },
      {
       "output_type": "stream",
       "stream": "stdout",
       "text": [
        "\n",
        "('it = ', 8960, ', Max(u) = ', 4.9953028013429873e-09)"
       ]
      },
      {
       "output_type": "stream",
       "stream": "stdout",
       "text": [
        "\n",
        "('it = ', 8980, ', Max(u) = ', 4.9999908777681104e-09)"
       ]
      },
      {
       "output_type": "stream",
       "stream": "stdout",
       "text": [
        "\n",
        "('it = ', 9000, ', Max(u) = ', 4.999989809640011e-09)"
       ]
      },
      {
       "output_type": "stream",
       "stream": "stdout",
       "text": [
        "\n",
        "('it = ', 9020, ', Max(u) = ', 4.9932759640346476e-09)"
       ]
      },
      {
       "output_type": "stream",
       "stream": "stdout",
       "text": [
        "\n",
        "('it = ', 9040, ', Max(u) = ', 4.9984349987466593e-09)"
       ]
      },
      {
       "output_type": "stream",
       "stream": "stdout",
       "text": [
        "\n",
        "('it = ', 9060, ', Max(u) = ', 4.9984391424656135e-09)"
       ]
      },
      {
       "output_type": "stream",
       "stream": "stdout",
       "text": [
        "\n",
        "('it = ', 9080, ', Max(u) = ', 4.9987705089169849e-09)"
       ]
      },
      {
       "output_type": "stream",
       "stream": "stdout",
       "text": [
        "\n",
        "('it = ', 9100, ', Max(u) = ', 4.9987662261765901e-09)"
       ]
      },
      {
       "output_type": "stream",
       "stream": "stdout",
       "text": [
        "\n",
        "('it = ', 9120, ', Max(u) = ', 4.9987619172460218e-09)"
       ]
      },
      {
       "output_type": "stream",
       "stream": "stdout",
       "text": [
        "\n",
        "('it = ', 9140, ', Max(u) = ', 4.9925447595669163e-09)"
       ]
      },
      {
       "output_type": "stream",
       "stream": "stdout",
       "text": [
        "\n",
        "('it = ', 9160, ', Max(u) = ', 4.9999127565080474e-09)"
       ]
      },
      {
       "output_type": "stream",
       "stream": "stdout",
       "text": [
        "\n",
        "('it = ', 9180, ', Max(u) = ', 4.9999136614519722e-09)"
       ]
      },
      {
       "output_type": "stream",
       "stream": "stdout",
       "text": [
        "\n",
        "('it = ', 9200, ', Max(u) = ', 4.9958798426880181e-09)"
       ]
      },
      {
       "output_type": "stream",
       "stream": "stdout",
       "text": [
        "\n",
        "('it = ', 9220, ', Max(u) = ', 4.9966984206101329e-09)"
       ]
      },
      {
       "output_type": "stream",
       "stream": "stdout",
       "text": [
        "\n",
        "('it = ', 9240, ', Max(u) = ', 4.9967045528597993e-09)"
       ]
      },
      {
       "output_type": "stream",
       "stream": "stdout",
       "text": [
        "\n",
        "('it = ', 9260, ', Max(u) = ', 4.9997179780744756e-09)"
       ]
      },
      {
       "output_type": "stream",
       "stream": "stdout",
       "text": [
        "\n",
        "('it = ', 9280, ', Max(u) = ', 4.999717101130368e-09)"
       ]
      },
      {
       "output_type": "stream",
       "stream": "stdout",
       "text": [
        "\n",
        "('it = ', 9300, ', Max(u) = ', 4.999739097920164e-09)"
       ]
      },
      {
       "output_type": "stream",
       "stream": "stdout",
       "text": [
        "\n",
        "('it = ', 9320, ', Max(u) = ', 4.9915385121146253e-09)"
       ]
      },
      {
       "output_type": "stream",
       "stream": "stdout",
       "text": [
        "\n",
        "('it = ', 9340, ', Max(u) = ', 5.001695350374178e-09)"
       ]
      },
      {
       "output_type": "stream",
       "stream": "stdout",
       "text": [
        "\n",
        "('it = ', 9360, ', Max(u) = ', 5.014797027038886e-09)"
       ]
      },
      {
       "output_type": "stream",
       "stream": "stdout",
       "text": [
        "\n",
        "('it = ', 9380, ', Max(u) = ', 5.0719334122614472e-09)"
       ]
      },
      {
       "output_type": "stream",
       "stream": "stdout",
       "text": [
        "\n",
        "('it = ', 9400, ', Max(u) = ', 5.3357569686155153e-09)"
       ]
      },
      {
       "output_type": "stream",
       "stream": "stdout",
       "text": [
        "\n",
        "('it = ', 9420, ', Max(u) = ', 6.3479826324707179e-09)"
       ]
      },
      {
       "output_type": "stream",
       "stream": "stdout",
       "text": [
        "\n",
        "('it = ', 9440, ', Max(u) = ', 7.8109229986648162e-09)"
       ]
      },
      {
       "output_type": "stream",
       "stream": "stdout",
       "text": [
        "\n",
        "('it = ', 9460, ', Max(u) = ', 9.0264779019770702e-09)"
       ]
      },
      {
       "output_type": "stream",
       "stream": "stdout",
       "text": [
        "\n",
        "('it = ', 9480, ', Max(u) = ', 9.7974107880963021e-09)"
       ]
      },
      {
       "output_type": "stream",
       "stream": "stdout",
       "text": [
        "\n",
        "('it = ', 9500, ', Max(u) = ', 9.9886347402876253e-09)"
       ]
      },
      {
       "output_type": "stream",
       "stream": "stdout",
       "text": [
        "\n",
        "('it = ', 9520, ', Max(u) = ', 9.5659086119955864e-09)"
       ]
      },
      {
       "output_type": "stream",
       "stream": "stdout",
       "text": [
        "\n",
        "('it = ', 9540, ', Max(u) = ', 8.6058824434417854e-09)"
       ]
      },
      {
       "output_type": "stream",
       "stream": "stdout",
       "text": [
        "\n",
        "('it = ', 9560, ', Max(u) = ', 7.2734331970846821e-09)"
       ]
      },
      {
       "output_type": "stream",
       "stream": "stdout",
       "text": [
        "\n",
        "('it = ', 9580, ', Max(u) = ', 5.8121291333002144e-09)"
       ]
      },
      {
       "output_type": "stream",
       "stream": "stdout",
       "text": [
        "\n",
        "('it = ', 9600, ', Max(u) = ', 5.1976890414692125e-09)"
       ]
      },
      {
       "output_type": "stream",
       "stream": "stdout",
       "text": [
        "\n",
        "('it = ', 9620, ', Max(u) = ', 5.040658078036116e-09)"
       ]
      },
      {
       "output_type": "stream",
       "stream": "stdout",
       "text": [
        "\n",
        "('it = ', 9640, ', Max(u) = ', 5.0073942738711534e-09)"
       ]
      },
      {
       "output_type": "stream",
       "stream": "stdout",
       "text": [
        "\n",
        "('it = ', 9660, ', Max(u) = ', 5.0008492839911099e-09)"
       ]
      },
      {
       "output_type": "stream",
       "stream": "stdout",
       "text": [
        "\n",
        "('it = ', 9680, ', Max(u) = ', 4.9968457448949288e-09)"
       ]
      },
      {
       "output_type": "stream",
       "stream": "stdout",
       "text": [
        "\n",
        "('it = ', 9700, ', Max(u) = ', 4.9966937296570223e-09)"
       ]
      },
      {
       "output_type": "stream",
       "stream": "stdout",
       "text": [
        "\n",
        "('it = ', 9720, ', Max(u) = ', 4.995898163623067e-09)"
       ]
      },
      {
       "output_type": "stream",
       "stream": "stdout",
       "text": [
        "\n",
        "('it = ', 9740, ', Max(u) = ', 4.9999099584486337e-09)"
       ]
      },
      {
       "output_type": "stream",
       "stream": "stdout",
       "text": [
        "\n",
        "('it = ', 9760, ', Max(u) = ', 4.9999083420853844e-09)"
       ]
      },
      {
       "output_type": "stream",
       "stream": "stdout",
       "text": [
        "\n",
        "('it = ', 9780, ', Max(u) = ', 4.9925190890802839e-09)"
       ]
      },
      {
       "output_type": "stream",
       "stream": "stdout",
       "text": [
        "\n",
        "('it = ', 9800, ', Max(u) = ', 4.9987724438164618e-09)"
       ]
      },
      {
       "output_type": "stream",
       "stream": "stdout",
       "text": [
        "\n",
        "('it = ', 9820, ', Max(u) = ', 4.9987760837756476e-09)"
       ]
      },
      {
       "output_type": "stream",
       "stream": "stdout",
       "text": [
        "\n",
        "('it = ', 9840, ', Max(u) = ', 4.9987796753000237e-09)"
       ]
      },
      {
       "output_type": "stream",
       "stream": "stdout",
       "text": [
        "\n",
        "('it = ', 9860, ', Max(u) = ', 4.9984261863988856e-09)"
       ]
      },
      {
       "output_type": "stream",
       "stream": "stdout",
       "text": [
        "\n",
        "('it = ', 9880, ', Max(u) = ', 4.9984213755553312e-09)"
       ]
      },
      {
       "output_type": "stream",
       "stream": "stdout",
       "text": [
        "\n",
        "('it = ', 9900, ', Max(u) = ', 4.9932987172685348e-09)"
       ]
      },
      {
       "output_type": "stream",
       "stream": "stdout",
       "text": [
        "\n",
        "('it = ', 9920, ', Max(u) = ', 4.9999910490350522e-09)"
       ]
      },
      {
       "output_type": "stream",
       "stream": "stdout",
       "text": [
        "\n",
        "('it = ', 9940, ', Max(u) = ', 4.9999914558943135e-09)"
       ]
      },
      {
       "output_type": "stream",
       "stream": "stdout",
       "text": [
        "\n",
        "('it = ', 9960, ', Max(u) = ', 4.9952815931854196e-09)"
       ]
      },
      {
       "output_type": "stream",
       "stream": "stdout",
       "text": [
        "\n",
        "('it = ', 9980, ', Max(u) = ', 4.9971949166754823e-09)"
       ]
      },
      {
       "output_type": "stream",
       "stream": "stdout",
       "text": [
        "\n"
       ]
      }
     ],
     "prompt_number": 14
    }
   ],
   "metadata": {}
  }
 ]
}