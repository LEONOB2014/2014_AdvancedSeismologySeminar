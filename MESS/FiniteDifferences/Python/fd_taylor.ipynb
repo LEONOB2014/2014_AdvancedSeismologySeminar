{
 "metadata": {
  "name": "",
  "signature": "sha256:6996036480d1221dbe0ef27ab3e658e70ce60c7b78a65525dde28557194fd9a8"
 },
 "nbformat": 3,
 "nbformat_minor": 0,
 "worksheets": [
  {
   "cells": [
    {
     "cell_type": "markdown",
     "metadata": {},
     "source": [
      "<img style=\"width:30%;float:right\" src=http://www.geophysik.uni-muenchen.de/~igel/snap.png?raw=true>\n",
      "\n",
      "# Computational Seismology\n",
      "## Finite Differences - Taylor Operators\n",
      "\n",
      "This exercise covers the following aspects:\n",
      "\n",
      "* Use Taylor series to calculate finite-difference operators\n",
      "* Learn how to define high-order finite-difference operators\n",
      "* Demonstrate the accuracy improvement by testing the operators on (arbitrary) functions\n",
      "\n",
      "Authors: H. Igel"
     ]
    },
    {
     "cell_type": "markdown",
     "metadata": {},
     "source": [
      "## Basic Equations\n",
      "\n",
      "The Taylor expansion is defined as \n",
      "\n",
      "$$\n",
      "f(x+dx)=\\sum_{n=0}^\\infty \\frac{f^{(n)}(x)}{n!}dx^{n}  \n",
      "$$\n",
      "\n",
      "\n",
      "Finite-difference operators can be calculated by seaking weights (here: a,b,c) with which function values have to be multiplied to obtain an interpolation or a derivative. Example:\n",
      "\n",
      "$$\n",
      "a f(x + dx)  \\ = \\ a ( f(x) +  f^{'} (x) dx +  \\frac{1}{2!}  f^{''} (x) dx^2   + \\dotsc ) \\\\\n",
      "b f(x) \\  = \\ b ( f(x) ) \\\\\n",
      "c f(x - dx \\ = \\ c ( f(x) -  f^{'} (x) dx +  \\frac{1}{2!}  f^{''} (x) dx^2   - \\dotsc )\n",
      "$$\n",
      "\n",
      "This can  be expressed as in matrix form by comparing coefficients, here seeking a 2nd derivative\n",
      "\n",
      "$$\n",
      "a \\ + \\ b \\ + \\  c \\  = \\ 0 \\\\\n",
      "a \\ \\ \\phantom{+} \\ \\phantom{b} \\ \\ - c \\  = \\ 0 \\\\\n",
      "a \\ \\ \\phantom{+} \\ \\phantom{b} \\ \\ + c \\  = \\ \\frac{2!}{\\mathrm{d}x^2}\n",
      "$$\n",
      "\n",
      "leads to\n",
      "\n",
      "$$\n",
      "\\begin{pmatrix}\n",
      "  1 & 1 & 1 \\\\\n",
      "  1 & 0 & -1 \\\\\n",
      "  1 & 0 & 1\n",
      " \\end{pmatrix}\n",
      "\\begin{pmatrix}\n",
      "  a\\\\\n",
      " b \\\\\n",
      " c\n",
      " \\end{pmatrix}\n",
      " =\n",
      " \\begin{pmatrix}\n",
      "  0\\\\\n",
      " 0 \\\\\n",
      " \\frac{2!}{dx^2}\n",
      " \\end{pmatrix}\n",
      "$$\n",
      "\n",
      "with the solution\n",
      "\n",
      "$$\n",
      "\\begin{pmatrix}\n",
      "a \\\\\n",
      "b\\\\\n",
      "c\n",
      "\\end{pmatrix}\n",
      "=\n",
      "\\begin{pmatrix}\n",
      "\\frac{1}{2 \\mathrm{d}x^2} \\\\\n",
      " - \\frac{2}{2 \\mathrm{d}x^2} \\\\\n",
      "  \\frac{1}{2 \\mathrm{d}x^2}\n",
      "\\end{pmatrix}\n",
      "$$\n",
      "\n",
      "... the well known 3-point operator for the 2nd derivative. In the exercise below the subroutine $taylor$ initalizes the system matrix and solves for the difference weights assuming $dx=1$ for points $x\\pm 1/2 dx, x\\pm 3/2 dx, x\\pm 5/2 dx$, thus a staggered approach. The derivative is defined at x.   "
     ]
    },
    {
     "cell_type": "code",
     "collapsed": false,
     "input": [
      "# This is a configuration step for the exercise. Please run it before the simulation code!\n",
      "import numpy as np\n",
      "import matplotlib.pyplot as plt\n",
      "\n",
      "# Show the plots in the Notebook.\n",
      "plt.switch_backend(\"nbagg\")"
     ],
     "language": "python",
     "metadata": {},
     "outputs": [],
     "prompt_number": 1
    },
    {
     "cell_type": "markdown",
     "metadata": {},
     "source": [
      "The following routine returns the Taylor operator of length n. "
     ]
    },
    {
     "cell_type": "code",
     "collapsed": false,
     "input": [],
     "language": "python",
     "metadata": {},
     "outputs": []
    }
   ],
   "metadata": {}
  }
 ]
}