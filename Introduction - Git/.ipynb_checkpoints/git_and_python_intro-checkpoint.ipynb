{
 "metadata": {
  "celltoolbar": "Slideshow",
  "name": "",
  "signature": "sha256:d92f01417adaad63cef62c001097995e0c9fbc3486ec1c7837dd9f69d7f76e11"
 },
 "nbformat": 3,
 "nbformat_minor": 0,
 "worksheets": [
  {
   "cells": [
    {
     "cell_type": "markdown",
     "metadata": {
      "internals": {
       "slide_helper": "subslide_end",
       "slide_type": "subslide"
      },
      "slide_helper": "slide_end",
      "slideshow": {
       "slide_type": "slide"
      }
     },
     "source": [
      "# git and Python\n",
      "\n",
      "\n",
      "<div style=\"padding-top:130px\">\n",
      "    <img style=\"width: 20%; float: left\" src=\"http://git-scm.com/images/logos/downloads/Git-Icon-1788C.png\">\n",
      "    <img style=\"width: 55%; float: right; padding-top: 20px\" src=\"https://www.python.org/static/community_logos/python-logo-generic.svg\">\n",
      "</div>"
     ]
    },
    {
     "cell_type": "markdown",
     "metadata": {
      "internals": {
       "slide_type": "subslide"
      },
      "slideshow": {
       "slide_type": "slide"
      }
     },
     "source": [
      "# Why?\n",
      "\n"
     ]
    },
    {
     "cell_type": "markdown",
     "metadata": {
      "internals": {
       "frag_number": 2
      },
      "slideshow": {
       "slide_type": "fragment"
      }
     },
     "source": [
      "* The idea is to write the code for this seminar in Python and host it on Github"
     ]
    },
    {
     "cell_type": "markdown",
     "metadata": {
      "internals": {
       "frag_helper": "fragment_end",
       "frag_number": 3
      },
      "slideshow": {
       "slide_type": "fragment"
      }
     },
     "source": [
      "* If you don't know Python it might be worthwhile to learn it"
     ]
    },
    {
     "cell_type": "markdown",
     "metadata": {
      "internals": {
       "frag_helper": "fragment_end",
       "frag_number": 4
      },
      "slideshow": {
       "slide_type": "fragment"
      }
     },
     "source": [
      "* git is a version control or source code management system (**good to know in any case**)"
     ]
    },
    {
     "cell_type": "markdown",
     "metadata": {
      "internals": {
       "frag_helper": "fragment_end",
       "frag_number": 5,
       "slide_helper": "subslide_end"
      },
      "slide_helper": "slide_end",
      "slideshow": {
       "slide_type": "fragment"
      }
     },
     "source": [
      "* GitHub is a place to host git repositories with a social aspect\n",
      "\n",
      "<img style=\"width: 50%\" src=\"https://assets-cdn.github.com/images/modules/logos_page/Octocat.png\">"
     ]
    },
    {
     "cell_type": "markdown",
     "metadata": {
      "internals": {
       "frag_helper": "fragment_end",
       "frag_number": 5,
       "slide_helper": "subslide_end",
       "slide_type": "subslide"
      },
      "slide_helper": "slide_end",
      "slideshow": {
       "slide_type": "slide"
      }
     },
     "source": [
      "# git\n",
      "\n",
      "* `git` is a version control system (VCS) like Subversion, Perforce, Mercurial, and a bunch of others\n",
      "* Development initialized by Linus Torvalds in 2005\n",
      "* Currently the most used version control system\n",
      "* Almost all operations are local\n",
      "* It is completely decentralized and distributed\n",
      "* Conceptually `git` thinks about a repository as snapshots in time.\n",
      "\n",
      "![](git_in_time.png)"
     ]
    },
    {
     "cell_type": "markdown",
     "metadata": {
      "internals": {
       "frag_helper": "fragment_end",
       "frag_number": 5,
       "slide_helper": "subslide_end",
       "slide_type": "subslide"
      },
      "slide_helper": "slide_end",
      "slideshow": {
       "slide_type": "slide"
      }
     },
     "source": [
      "* You work with your local repository like you normally would with SVN or others\n",
      "* Then you push/pull to remote repositories to exchange code\n",
      "\n",
      "![](distributed_vcs.png)"
     ]
    },
    {
     "cell_type": "markdown",
     "metadata": {
      "internals": {
       "frag_helper": "fragment_end",
       "frag_number": 5,
       "slide_helper": "subslide_end",
       "slide_type": "subslide"
      },
      "slide_helper": "slide_end",
      "slideshow": {
       "slide_type": "slide"
      }
     },
     "source": [
      "![](git_workflow.png)\n",
      "\n",
      "### More Info\n",
      "\n",
      "* Offial site with a very good tutorial and also some videos: http://git-scm.com/\n",
      "* GitHub help pages: https://help.github.com/\n",
      "* Old but fun talk about the origins of git: https://www.youtube.com/watch?v=4XpnKHJAok8\n",
      "* List of other resources: https://help.github.com/articles/what-are-other-good-resources-for-learning-git-and-github/"
     ]
    },
    {
     "cell_type": "markdown",
     "metadata": {
      "internals": {
       "frag_helper": "fragment_end",
       "frag_number": 5,
       "slide_helper": "subslide_end",
       "slide_type": "subslide"
      },
      "slide_helper": "slide_end",
      "slideshow": {
       "slide_type": "slide"
      }
     },
     "source": [
      "# GitHub\n",
      "\n",
      "* Completely dominates the online code hosting market right now\n",
      "* Nice offers for students (https://education.github.com/pack)\n",
      "* Host git repositories and combines it with some *\"social coding\"*"
     ]
    },
    {
     "cell_type": "markdown",
     "metadata": {
      "internals": {
       "frag_helper": "fragment_end",
       "frag_number": 5,
       "slide_helper": "subslide_end",
       "slide_type": "subslide"
      },
      "slide_helper": "slide_end",
      "slideshow": {
       "slide_type": "slide"
      }
     },
     "source": [
      "# Step 1: Install git\n",
      "\n",
      "### Linux\n",
      "\n",
      "`git` should ship with it. If not, type one of the following or the equivalent of your distribution.\n",
      "\n",
      "```bash\n",
      "$ sudo apt-get install git\n",
      "$ sudo yum install git\n",
      "```\n",
      "\n",
      "### OSX\n",
      "\n",
      "There is a GitHub app (https://mac.github.com/) although I don't really recommend it if you want to know what's going on. `git` ships with the command lines tool which can be downloaded here: https://developer.apple.com/downloads. An alternative is to download [XCode](http://itunes.apple.com/us/app/xcode/id497799835) in the App Store (a lot(!!) bigger). For an up-to-date version use Homebrew (http://brew.sh) which is a quite nice package manager for OSX.\n",
      "\n",
      "\n",
      "### Windows\n",
      "\n",
      "`msysgit` (http://msysgit.github.io/) appears to be the way to go. Installation should be trivial. For bash and other Unix tools (which you don't need for this seminar), use `cygwin` (https://www.cygwin.com/). Again there is a GitHub app for it: https://windows.github.com/\n",
      "\n"
     ]
    },
    {
     "cell_type": "markdown",
     "metadata": {
      "internals": {
       "frag_helper": "fragment_end",
       "frag_number": 5,
       "slide_helper": "subslide_end",
       "slide_type": "subslide"
      },
      "slide_helper": "slide_end",
      "slideshow": {
       "slide_type": "slide"
      }
     },
     "source": [
      "# Step 2: Configure git\n",
      "\n",
      "All your commits and pushes and what not will be associated with you via your email and user name.\n",
      "\n",
      "```bash\n",
      "$ git config --global user.name \"John Doe\"\n",
      "$ git config --global user.email johndoe@example.com\n",
      "```"
     ]
    },
    {
     "cell_type": "markdown",
     "metadata": {
      "internals": {
       "frag_helper": "fragment_end",
       "frag_number": 5,
       "slide_helper": "subslide_end",
       "slide_type": "subslide"
      },
      "slide_helper": "slide_end",
      "slideshow": {
       "slide_type": "slide"
      }
     },
     "source": [
      "# Step 3: Get an account on Github\n",
      "\n",
      "http://www.github.com\n",
      "\n",
      "![](github.png)"
     ]
    },
    {
     "cell_type": "markdown",
     "metadata": {
      "internals": {
       "frag_helper": "fragment_end",
       "frag_number": 5,
       "slide_helper": "subslide_end",
       "slide_type": "subslide"
      },
      "slide_helper": "slide_end",
      "slideshow": {
       "slide_type": "slide"
      }
     },
     "source": [
      "# Step 4: Fork and Clone the Seminar's Repository\n",
      "\n",
      "Right now everything for the seminar is hosted here:\n",
      "\n",
      "https://github.com/krischer/2014_AdvancedSeismologySeminar\n",
      "\n",
      "![](fork.png)\n",
      "\n",
      "Fork it. This will create a copy of the repository on your own github account."
     ]
    },
    {
     "cell_type": "markdown",
     "metadata": {
      "internals": {
       "frag_helper": "fragment_end",
       "frag_number": 5,
       "slide_type": "subslide"
      },
      "slideshow": {
       "slide_type": "slide"
      }
     },
     "source": [
      "Now clone your new copy of the repository. Cloning essentially creates a full copy of the repository (in this case on GitHub) and downloads it to your local computer.\n",
      "\n",
      "```bash\n",
      "$ git clone https://github.com/YOURNAME/2014_AdvancedSeismologySeminar.git\n",
      "```\n",
      "\n",
      "If you have SSH keys set up you can also do\n",
      "\n",
      "```bash\n",
      "$ git clone git@github.com:YOURNAME/2014_AdvancedSeismologySeminar.git\n",
      "```"
     ]
    },
    {
     "cell_type": "code",
     "collapsed": false,
     "input": [
      "%%bash\n",
      "cd /tmp && rm -rf 2014_AdvancedSeismologySeminar\n",
      "\n",
      "git clone git@github.com:krischer/2014_AdvancedSeismologySeminar.git"
     ],
     "language": "python",
     "metadata": {
      "internals": {
       "frag_helper": "fragment_end",
       "frag_number": 5
      },
      "slideshow": {
       "slide_type": "-"
      }
     },
     "outputs": [
      {
       "output_type": "stream",
       "stream": "stderr",
       "text": [
        "Cloning into '2014_AdvancedSeismologySeminar'...\n"
       ]
      }
     ],
     "prompt_number": 18
    },
    {
     "cell_type": "markdown",
     "metadata": {
      "internals": {
       "frag_helper": "fragment_end",
       "frag_number": 5,
       "slide_helper": "subslide_end"
      },
      "slide_helper": "slide_end",
      "slideshow": {
       "slide_type": "slide"
      }
     },
     "source": [
      "# Step 5: Everyone create some random file and commit it\n",
      "\n",
      "\n",
      "Use `git add` to add new files to a repository, `git commit` to commit it locally and `git push` to push it to GitHub. Best give the file some unique name."
     ]
    },
    {
     "cell_type": "markdown",
     "metadata": {},
     "source": [
      "![](first_commit.png)"
     ]
    },
    {
     "cell_type": "markdown",
     "metadata": {
      "slideshow": {
       "slide_type": "slide"
      }
     },
     "source": [
      "# Step 6: Send pull request to the main repository\n",
      "\n",
      "Do it via the GitHub webpage. Also "
     ]
    },
    {
     "cell_type": "code",
     "collapsed": false,
     "input": [],
     "language": "python",
     "metadata": {},
     "outputs": []
    }
   ],
   "metadata": {}
  }
 ]
}